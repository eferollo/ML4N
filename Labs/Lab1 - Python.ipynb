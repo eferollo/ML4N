{
 "cells": [
  {
   "cell_type": "markdown",
   "id": "1a0e63ce",
   "metadata": {},
   "source": [
    "# Lab #1"
   ]
  },
  {
   "cell_type": "markdown",
   "id": "4df7a712",
   "metadata": {},
   "source": [
    "The purpose of this laboratory is to get you acquainted with Python. \n",
    "More specifically, you will learn how to:\n",
    "- read different types of datasets (CSV and JSON). \n",
    "- extract some useful information (mean and standard deviation) from the datasets while only using basic python.\n",
    "- create a simple rule-based classifier that is already capable to perform some classification.\n"
   ]
  },
  {
   "cell_type": "markdown",
   "id": "6bdb4439",
   "metadata": {},
   "source": [
    "## Preliminaries\n",
    "### Python availability\n",
    "Make sure that Python 3 is installed on your device with the commands `python3 --version`. The version should be in the form `3.x.x.`"
   ]
  },
  {
   "cell_type": "code",
   "execution_count": 3,
   "id": "2bd291ae",
   "metadata": {
    "ExecuteTime": {
     "end_time": "2023-10-10T09:47:45.612188900Z",
     "start_time": "2023-10-10T09:47:45.486279853Z"
    }
   },
   "outputs": [
    {
     "name": "stdout",
     "output_type": "stream",
     "text": [
      "Python 3.10.12\r\n"
     ]
    }
   ],
   "source": [
    "! python3 --version"
   ]
  },
  {
   "cell_type": "markdown",
   "id": "05e6a809",
   "metadata": {},
   "source": [
    "### Dataset Download\n",
    "For this lab, three different datasets will be used. Here, you will learnmore about them and how to retrieve\n",
    "them."
   ]
  },
  {
   "cell_type": "markdown",
   "id": "b43b2a4d",
   "metadata": {},
   "source": [
    "#### Iris\n",
    "Iris is a particularly famous *toy dataset* (i.e. a dataset with a small number of rows and columns, mostly\n",
    "used for initial small-scale tests and proofs of concept). \n",
    "This specific dataset contains information about the **Iris**, a genus that includes 260-300 species of plants. \n",
    "The Iris dataset contains measurements for 150 Iris flowers, each belonging to one of three species (50 flowers each): \n",
    "\n",
    "Iris Virginica             |  Iris Versicolor          |   Iris Setosa  |\n",
    ":-------------------------:|:-------------------------:|:---------------|\n",
    ":<img src=\"https://upload.wikimedia.org/wikipedia/commons/thumb/f/f8/Iris_virginica_2.jpg/1200px-Iris_virginica_2.jpg\" alt=\"Iris Virginica\" width=\"200\" /> | <img src=\"https://www.waternursery.it/document/img_prodotti/616/1646318149.jpeg\" alt=\"Iris Versicolor\" width=\"200\" /> |<img src=\"https://d2j6dbq0eux0bg.cloudfront.net/images/28296135/2323483832.jpg\" alt=\"Iris Setosa\" width=\"200\" />|\n",
    "\n",
    "Each of the 150 flowers contained in the Iris dataset is represented by 5 values:\n",
    "- sepal length, in cm\n",
    "- sepal width, in cm\n",
    "- petal length, in cm\n",
    "- petal width, in cm\n",
    "- Iris species, one of: Iris-setosa, Iris-versicolor, Iris-virginica (the label)\n",
    "\n",
    "Each row of the dataset represents a distinct flower (as such, the dataset will have 150 rows). Each\n",
    "row then contains 5 values (4 measurements and a species label).\n",
    "The dataset is described in more detail on the [UCI Machine Learning Repository website](https://archive.ics.uci.edu/dataset/53/iris). The dataset\n",
    "can either be downloaded directly from there (iris.data file), or from a terminal, using the `wget` tool. The\n",
    "following command downloads the dataset from the original URL and stores it in a file named iris.csv.\n",
    "\n",
    "`wget \"https://archive.ics.uci.edu/ml/machine-learning-databases/iris/iris.data\" -O iris.csv`\n",
    "\n",
    "The dataset is available as a Comma-Separated Values (CSV) file. These files are typically used to\n",
    "represent tabular data. \n",
    "- Each row is represented on one of the lines. \n",
    "- Each of the rows contains a fixed number of columns. \n",
    "- Each of the columns (in each row) is separated by a comma (,).\n",
    "\n",
    "To read CSV files, Python offers a module called `csv` (here the offical [doc](https://docs.python.org/3/library/csv.html)). This module allows using `csv.reader()`, which\n",
    "reads a file row by row. For each row, it returns a list of columns that can be processed as needed. \n",
    "\n",
    "\n",
    "Let's download the dataset and print the first three rows.\n",
    "\n",
    "\n"
   ]
  },
  {
   "cell_type": "code",
   "execution_count": 24,
   "id": "94138fd0",
   "metadata": {
    "ExecuteTime": {
     "end_time": "2023-10-10T10:10:29.885319701Z",
     "start_time": "2023-10-10T10:10:29.845069455Z"
    }
   },
   "outputs": [
    {
     "name": "stdout",
     "output_type": "stream",
     "text": [
      "['5.1', '3.5', '1.4', '0.2', 'Iris-setosa']\n",
      "['4.9', '3.0', '1.4', '0.2', 'Iris-setosa']\n",
      "['4.7', '3.2', '1.3', '0.2', 'Iris-setosa']\n"
     ]
    }
   ],
   "source": [
    "#! wget \"https://archive.ics.uci.edu/ml/machine-learning-databases/iris/iris.data\" -O iris.csv\n",
    "import csv\n",
    "with open(\"iris.csv\", \"r\") as f:\n",
    "    #csvreader = csv.reader(f)\n",
    "    #header = []\n",
    "    #header = next(csvreader)\n",
    "    #print(header)\n",
    "    #rows= []\n",
    "    #for row in csvreader:\n",
    "    #    rows.append(row)\n",
    "    #for i in range(3):\n",
    "    #    print(rows[i])\n",
    "\n",
    "    for i, cols in enumerate(csv.reader(f)):\n",
    "        print(cols)\n",
    "        if i >= 2:\n",
    "            break\n"
   ]
  },
  {
   "cell_type": "markdown",
   "id": "3ecb2df8",
   "metadata": {},
   "source": [
    "Note by default, csv.reader converts all fields read into strings (str). \n",
    "If you want to treat them as number, remember to cast them correctly!"
   ]
  },
  {
   "cell_type": "markdown",
   "id": "5725ff17",
   "metadata": {},
   "source": [
    "#### MNIST\n",
    "The MNIST dataset is another particularly famous dataset. It contains several thousands of hand-written\n",
    "digits (0 to 9). \n",
    "- Each hand-written digit is contained in a $28 x 28$ 8-bit grayscale image. \n",
    "- This means that each digit has $784$ ($28^2$) pixels\n",
    "- Each pixel has a value that ranges from 0 (black) to 255 (white).\n",
    "\n",
    "<img src=\"https://machinelearningmastery.com/wp-content/uploads/2019/02/Plot-of-a-Subset-of-Images-from-the-MNIST-Dataset.png\" alt=\"MNIST images\" width=\"500\" />\n",
    "\n",
    "The dataset can be downloaded from the following link:\n",
    "\n",
    "[https://raw.githubusercontent.com/dbdmg/data-science-lab/master/datasets/mnist_test.csv](https://raw.githubusercontent.com/dbdmg/data-science-lab/master/datasets/mnist_test.csv)\n",
    "\n",
    "\n",
    "\n",
    "In this case, MNIST is represented as a CSV file. Similarly to the Iris dataset, each row of the MNIST\n",
    "datasets represents a digit. For the sake of simplicity, this dataset contains only a small fraction (10; 000\n",
    "digits out of 70; 000) of the real MNIST dataset. \n",
    "\n",
    "For each digit, 785 values are available: \n",
    "- the first one is the numerical value depicted in the image (e.g. for Figure 2 it would be 5). \n",
    "- the following 784 columns represent the grayscale image in row-major order (for more information about row- and column-major order of matrices, see [Wikipedia](https://en.wikipedia.org/wiki/Row-_and_column-major_order)).\n",
    "\n",
    "The MNIST dataset in CSV format can be read with the same approach used for Iris, keeping in mind\n",
    "that, in this case, the digit label (i.e. the first column) is an integer from 0 to 9, while the following 784\n",
    "values are integers between 0 and 255. Let's download it and print the first digit formatted as a 28 x 28 matrix"
   ]
  },
  {
   "cell_type": "code",
   "execution_count": 25,
   "id": "39e449e5",
   "metadata": {
    "ExecuteTime": {
     "end_time": "2023-10-10T10:11:17.996952862Z",
     "start_time": "2023-10-10T10:11:17.080604928Z"
    }
   },
   "outputs": [
    {
     "name": "stdout",
     "output_type": "stream",
     "text": [
      "--2023-10-10 12:11:17--  https://raw.githubusercontent.com/dbdmg/data-science-lab/master/datasets/mnist_test.csv\r\n",
      "Resolving raw.githubusercontent.com (raw.githubusercontent.com)... 185.199.110.133, 185.199.111.133, 185.199.108.133, ...\r\n",
      "Connecting to raw.githubusercontent.com (raw.githubusercontent.com)|185.199.110.133|:443... connected.\r\n",
      "HTTP request sent, awaiting response... 200 OK\r\n",
      "Length: 18289443 (17M) [text/plain]\r\n",
      "Saving to: ‘mnist_test.csv’\r\n",
      "\r\n",
      "mnist_test.csv      100%[===================>]  17.44M  24.7MB/s    in 0.7s    \r\n",
      "\r\n",
      "2023-10-10 12:11:17 (24.7 MB/s) - ‘mnist_test.csv’ saved [18289443/18289443]\r\n",
      "\r\n"
     ]
    }
   ],
   "source": [
    "#! wget https://raw.githubusercontent.com/dbdmg/data-science-lab/master/datasets/mnist_test.csv -O mnist_test.csv\n",
    "import csv\n",
    "\n",
    "with open(\"mnist_test.csv\") as f:\n",
    "    "
   ]
  },
  {
   "cell_type": "markdown",
   "id": "7532fe60",
   "metadata": {},
   "source": [
    "\n",
    "\n",
    "## Exercises\n",
    "Note that exercises marked with a (*) are optional, you should focus on completing the other ones first.\n",
    "### Iris analysis\n",
    "1. Load the previously downloaded Iris dataset as a list of lists (each of the 150 lists should have 5 elements). You can make use of the csv module presented"
   ]
  },
  {
   "cell_type": "code",
   "execution_count": 3,
   "id": "9379bd5669ca8db9",
   "metadata": {
    "ExecuteTime": {
     "end_time": "2023-10-11T08:33:43.271793640Z",
     "start_time": "2023-10-11T08:33:43.237572792Z"
    }
   },
   "outputs": [
    {
     "name": "stdout",
     "output_type": "stream",
     "text": [
      "[['5.1', '3.5', '1.4', '0.2', 'Iris-setosa'], ['4.9', '3.0', '1.4', '0.2', 'Iris-setosa'], ['4.7', '3.2', '1.3', '0.2', 'Iris-setosa'], ['4.6', '3.1', '1.5', '0.2', 'Iris-setosa'], ['5.0', '3.6', '1.4', '0.2', 'Iris-setosa'], ['5.4', '3.9', '1.7', '0.4', 'Iris-setosa'], ['4.6', '3.4', '1.4', '0.3', 'Iris-setosa'], ['5.0', '3.4', '1.5', '0.2', 'Iris-setosa'], ['4.4', '2.9', '1.4', '0.2', 'Iris-setosa'], ['4.9', '3.1', '1.5', '0.1', 'Iris-setosa'], ['5.4', '3.7', '1.5', '0.2', 'Iris-setosa'], ['4.8', '3.4', '1.6', '0.2', 'Iris-setosa'], ['4.8', '3.0', '1.4', '0.1', 'Iris-setosa'], ['4.3', '3.0', '1.1', '0.1', 'Iris-setosa'], ['5.8', '4.0', '1.2', '0.2', 'Iris-setosa'], ['5.7', '4.4', '1.5', '0.4', 'Iris-setosa'], ['5.4', '3.9', '1.3', '0.4', 'Iris-setosa'], ['5.1', '3.5', '1.4', '0.3', 'Iris-setosa'], ['5.7', '3.8', '1.7', '0.3', 'Iris-setosa'], ['5.1', '3.8', '1.5', '0.3', 'Iris-setosa'], ['5.4', '3.4', '1.7', '0.2', 'Iris-setosa'], ['5.1', '3.7', '1.5', '0.4', 'Iris-setosa'], ['4.6', '3.6', '1.0', '0.2', 'Iris-setosa'], ['5.1', '3.3', '1.7', '0.5', 'Iris-setosa'], ['4.8', '3.4', '1.9', '0.2', 'Iris-setosa'], ['5.0', '3.0', '1.6', '0.2', 'Iris-setosa'], ['5.0', '3.4', '1.6', '0.4', 'Iris-setosa'], ['5.2', '3.5', '1.5', '0.2', 'Iris-setosa'], ['5.2', '3.4', '1.4', '0.2', 'Iris-setosa'], ['4.7', '3.2', '1.6', '0.2', 'Iris-setosa'], ['4.8', '3.1', '1.6', '0.2', 'Iris-setosa'], ['5.4', '3.4', '1.5', '0.4', 'Iris-setosa'], ['5.2', '4.1', '1.5', '0.1', 'Iris-setosa'], ['5.5', '4.2', '1.4', '0.2', 'Iris-setosa'], ['4.9', '3.1', '1.5', '0.1', 'Iris-setosa'], ['5.0', '3.2', '1.2', '0.2', 'Iris-setosa'], ['5.5', '3.5', '1.3', '0.2', 'Iris-setosa'], ['4.9', '3.1', '1.5', '0.1', 'Iris-setosa'], ['4.4', '3.0', '1.3', '0.2', 'Iris-setosa'], ['5.1', '3.4', '1.5', '0.2', 'Iris-setosa'], ['5.0', '3.5', '1.3', '0.3', 'Iris-setosa'], ['4.5', '2.3', '1.3', '0.3', 'Iris-setosa'], ['4.4', '3.2', '1.3', '0.2', 'Iris-setosa'], ['5.0', '3.5', '1.6', '0.6', 'Iris-setosa'], ['5.1', '3.8', '1.9', '0.4', 'Iris-setosa'], ['4.8', '3.0', '1.4', '0.3', 'Iris-setosa'], ['5.1', '3.8', '1.6', '0.2', 'Iris-setosa'], ['4.6', '3.2', '1.4', '0.2', 'Iris-setosa'], ['5.3', '3.7', '1.5', '0.2', 'Iris-setosa'], ['5.0', '3.3', '1.4', '0.2', 'Iris-setosa'], ['7.0', '3.2', '4.7', '1.4', 'Iris-versicolor'], ['6.4', '3.2', '4.5', '1.5', 'Iris-versicolor'], ['6.9', '3.1', '4.9', '1.5', 'Iris-versicolor'], ['5.5', '2.3', '4.0', '1.3', 'Iris-versicolor'], ['6.5', '2.8', '4.6', '1.5', 'Iris-versicolor'], ['5.7', '2.8', '4.5', '1.3', 'Iris-versicolor'], ['6.3', '3.3', '4.7', '1.6', 'Iris-versicolor'], ['4.9', '2.4', '3.3', '1.0', 'Iris-versicolor'], ['6.6', '2.9', '4.6', '1.3', 'Iris-versicolor'], ['5.2', '2.7', '3.9', '1.4', 'Iris-versicolor'], ['5.0', '2.0', '3.5', '1.0', 'Iris-versicolor'], ['5.9', '3.0', '4.2', '1.5', 'Iris-versicolor'], ['6.0', '2.2', '4.0', '1.0', 'Iris-versicolor'], ['6.1', '2.9', '4.7', '1.4', 'Iris-versicolor'], ['5.6', '2.9', '3.6', '1.3', 'Iris-versicolor'], ['6.7', '3.1', '4.4', '1.4', 'Iris-versicolor'], ['5.6', '3.0', '4.5', '1.5', 'Iris-versicolor'], ['5.8', '2.7', '4.1', '1.0', 'Iris-versicolor'], ['6.2', '2.2', '4.5', '1.5', 'Iris-versicolor'], ['5.6', '2.5', '3.9', '1.1', 'Iris-versicolor'], ['5.9', '3.2', '4.8', '1.8', 'Iris-versicolor'], ['6.1', '2.8', '4.0', '1.3', 'Iris-versicolor'], ['6.3', '2.5', '4.9', '1.5', 'Iris-versicolor'], ['6.1', '2.8', '4.7', '1.2', 'Iris-versicolor'], ['6.4', '2.9', '4.3', '1.3', 'Iris-versicolor'], ['6.6', '3.0', '4.4', '1.4', 'Iris-versicolor'], ['6.8', '2.8', '4.8', '1.4', 'Iris-versicolor'], ['6.7', '3.0', '5.0', '1.7', 'Iris-versicolor'], ['6.0', '2.9', '4.5', '1.5', 'Iris-versicolor'], ['5.7', '2.6', '3.5', '1.0', 'Iris-versicolor'], ['5.5', '2.4', '3.8', '1.1', 'Iris-versicolor'], ['5.5', '2.4', '3.7', '1.0', 'Iris-versicolor'], ['5.8', '2.7', '3.9', '1.2', 'Iris-versicolor'], ['6.0', '2.7', '5.1', '1.6', 'Iris-versicolor'], ['5.4', '3.0', '4.5', '1.5', 'Iris-versicolor'], ['6.0', '3.4', '4.5', '1.6', 'Iris-versicolor'], ['6.7', '3.1', '4.7', '1.5', 'Iris-versicolor'], ['6.3', '2.3', '4.4', '1.3', 'Iris-versicolor'], ['5.6', '3.0', '4.1', '1.3', 'Iris-versicolor'], ['5.5', '2.5', '4.0', '1.3', 'Iris-versicolor'], ['5.5', '2.6', '4.4', '1.2', 'Iris-versicolor'], ['6.1', '3.0', '4.6', '1.4', 'Iris-versicolor'], ['5.8', '2.6', '4.0', '1.2', 'Iris-versicolor'], ['5.0', '2.3', '3.3', '1.0', 'Iris-versicolor'], ['5.6', '2.7', '4.2', '1.3', 'Iris-versicolor'], ['5.7', '3.0', '4.2', '1.2', 'Iris-versicolor'], ['5.7', '2.9', '4.2', '1.3', 'Iris-versicolor'], ['6.2', '2.9', '4.3', '1.3', 'Iris-versicolor'], ['5.1', '2.5', '3.0', '1.1', 'Iris-versicolor'], ['5.7', '2.8', '4.1', '1.3', 'Iris-versicolor'], ['6.3', '3.3', '6.0', '2.5', 'Iris-virginica'], ['5.8', '2.7', '5.1', '1.9', 'Iris-virginica'], ['7.1', '3.0', '5.9', '2.1', 'Iris-virginica'], ['6.3', '2.9', '5.6', '1.8', 'Iris-virginica'], ['6.5', '3.0', '5.8', '2.2', 'Iris-virginica'], ['7.6', '3.0', '6.6', '2.1', 'Iris-virginica'], ['4.9', '2.5', '4.5', '1.7', 'Iris-virginica'], ['7.3', '2.9', '6.3', '1.8', 'Iris-virginica'], ['6.7', '2.5', '5.8', '1.8', 'Iris-virginica'], ['7.2', '3.6', '6.1', '2.5', 'Iris-virginica'], ['6.5', '3.2', '5.1', '2.0', 'Iris-virginica'], ['6.4', '2.7', '5.3', '1.9', 'Iris-virginica'], ['6.8', '3.0', '5.5', '2.1', 'Iris-virginica'], ['5.7', '2.5', '5.0', '2.0', 'Iris-virginica'], ['5.8', '2.8', '5.1', '2.4', 'Iris-virginica'], ['6.4', '3.2', '5.3', '2.3', 'Iris-virginica'], ['6.5', '3.0', '5.5', '1.8', 'Iris-virginica'], ['7.7', '3.8', '6.7', '2.2', 'Iris-virginica'], ['7.7', '2.6', '6.9', '2.3', 'Iris-virginica'], ['6.0', '2.2', '5.0', '1.5', 'Iris-virginica'], ['6.9', '3.2', '5.7', '2.3', 'Iris-virginica'], ['5.6', '2.8', '4.9', '2.0', 'Iris-virginica'], ['7.7', '2.8', '6.7', '2.0', 'Iris-virginica'], ['6.3', '2.7', '4.9', '1.8', 'Iris-virginica'], ['6.7', '3.3', '5.7', '2.1', 'Iris-virginica'], ['7.2', '3.2', '6.0', '1.8', 'Iris-virginica'], ['6.2', '2.8', '4.8', '1.8', 'Iris-virginica'], ['6.1', '3.0', '4.9', '1.8', 'Iris-virginica'], ['6.4', '2.8', '5.6', '2.1', 'Iris-virginica'], ['7.2', '3.0', '5.8', '1.6', 'Iris-virginica'], ['7.4', '2.8', '6.1', '1.9', 'Iris-virginica'], ['7.9', '3.8', '6.4', '2.0', 'Iris-virginica'], ['6.4', '2.8', '5.6', '2.2', 'Iris-virginica'], ['6.3', '2.8', '5.1', '1.5', 'Iris-virginica'], ['6.1', '2.6', '5.6', '1.4', 'Iris-virginica'], ['7.7', '3.0', '6.1', '2.3', 'Iris-virginica'], ['6.3', '3.4', '5.6', '2.4', 'Iris-virginica'], ['6.4', '3.1', '5.5', '1.8', 'Iris-virginica'], ['6.0', '3.0', '4.8', '1.8', 'Iris-virginica'], ['6.9', '3.1', '5.4', '2.1', 'Iris-virginica'], ['6.7', '3.1', '5.6', '2.4', 'Iris-virginica'], ['6.9', '3.1', '5.1', '2.3', 'Iris-virginica'], ['5.8', '2.7', '5.1', '1.9', 'Iris-virginica'], ['6.8', '3.2', '5.9', '2.3', 'Iris-virginica'], ['6.7', '3.3', '5.7', '2.5', 'Iris-virginica'], ['6.7', '3.0', '5.2', '2.3', 'Iris-virginica'], ['6.3', '2.5', '5.0', '1.9', 'Iris-virginica'], ['6.5', '3.0', '5.2', '2.0', 'Iris-virginica'], ['6.2', '3.4', '5.4', '2.3', 'Iris-virginica'], ['5.9', '3.0', '5.1', '1.8', 'Iris-virginica']]\n"
     ]
    }
   ],
   "source": [
    "import csv\n",
    "rows=[]\n",
    "\n",
    "with (open(\"iris.csv\") as iris):\n",
    "    for cols in csv.reader(iris):\n",
    "        rows.append(cols)\n",
    "\n",
    "print(rows)"
   ]
  },
  {
   "cell_type": "markdown",
   "id": "1bbcdf393c1b88a7",
   "metadata": {},
   "source": [
    "2. Compute and print the mean and the standard deviation for each of the 4 measurement columns (i.e. sepal length and width, petal length and width). Remember that, for a given list of n values $x = (x_1, x_2, ..., x_n)$, the mean $\\mu$ and the standard deviation $\\sigma$ are defined respectively as:\n",
    "$$\\mu = {1 \\over n} \\sum_i^n x_i $$\n",
    "\n",
    "$$ \\sigma = \\sqrt{ {1 \\over n} \\sum_i^n (x_i - \\mu)^2} $$"
   ]
  },
  {
   "cell_type": "code",
   "execution_count": 2,
   "id": "a8c4f766f46b3e23",
   "metadata": {
    "ExecuteTime": {
     "end_time": "2023-10-11T08:33:35.837961992Z",
     "start_time": "2023-10-11T08:33:35.751648824Z"
    }
   },
   "outputs": [
    {
     "ename": "NameError",
     "evalue": "name 'rows' is not defined",
     "output_type": "error",
     "traceback": [
      "\u001B[0;31m---------------------------------------------------------------------------\u001B[0m",
      "\u001B[0;31mNameError\u001B[0m                                 Traceback (most recent call last)",
      "Cell \u001B[0;32mIn[2], line 20\u001B[0m\n\u001B[1;32m     17\u001B[0m petal_length \u001B[38;5;241m=\u001B[39m []\n\u001B[1;32m     18\u001B[0m petal_width \u001B[38;5;241m=\u001B[39m []\n\u001B[0;32m---> 20\u001B[0m \u001B[38;5;28;01mfor\u001B[39;00m row \u001B[38;5;129;01min\u001B[39;00m \u001B[43mrows\u001B[49m:\n\u001B[1;32m     21\u001B[0m     sepal_length\u001B[38;5;241m.\u001B[39mappend(\u001B[38;5;28mfloat\u001B[39m(row[\u001B[38;5;241m0\u001B[39m]))\n\u001B[1;32m     22\u001B[0m     sepal_width\u001B[38;5;241m.\u001B[39mappend(\u001B[38;5;28mfloat\u001B[39m(row[\u001B[38;5;241m1\u001B[39m]))\n",
      "\u001B[0;31mNameError\u001B[0m: name 'rows' is not defined"
     ]
    }
   ],
   "source": [
    "import math\n",
    "\n",
    "def mean(list):\n",
    "    sum = 0.0\n",
    "    for el in list:\n",
    "        sum += el\n",
    "    return sum/4\n",
    "\n",
    "def std_dev(list, mu):\n",
    "    sum = 0.0\n",
    "    for el in list:\n",
    "        sum += (el-mu)**2\n",
    "    return math.sqrt(sum/4)\n",
    "\n",
    "sepal_length= []\n",
    "sepal_width = []\n",
    "petal_length = []\n",
    "petal_width = []\n",
    "\n",
    "for row in rows:\n",
    "    sepal_length.append(float(row[0]))\n",
    "    sepal_width.append(float(row[1]))\n",
    "    petal_length.append(float(row[2]))\n",
    "    petal_width.append(float(row[3]))\n",
    "    if len(row) == 0:\n",
    "        break\n",
    "\n",
    "mu = []\n",
    "mu.append(mean(sepal_length))\n",
    "mu.append(mean(sepal_width))\n",
    "mu.append(mean(petal_width))\n",
    "mu.append(mean(petal_width))\n",
    "\n",
    "sigma = []\n",
    "sigma.append(std_dev(sepal_length,mu[0]))\n",
    "sigma.append(std_dev(sepal_width,mu[1]))\n",
    "sigma.append(std_dev(petal_width,mu[2]))\n",
    "sigma.append(std_dev(petal_width,mu[3]))\n",
    "\n",
    "print(mu)\n",
    "print(sigma)\n"
   ]
  },
  {
   "cell_type": "markdown",
   "id": "1015b464055be7bd",
   "metadata": {},
   "source": [
    "\n",
    "3. Compute and print the mean and the standard deviation for each of the 4 measurement columns, separately for each of the three Iris species (`Iris-versicolor`, `Iris-virginica` and `Iris-setosa`). *Remember* that the label is stored in the $5^{th}$ (last) cell of the row."
   ]
  },
  {
   "cell_type": "code",
   "execution_count": 5,
   "id": "8372b07413d00161",
   "metadata": {
    "ExecuteTime": {
     "end_time": "2023-10-11T08:34:23.197276540Z",
     "start_time": "2023-10-11T08:34:23.132575602Z"
    }
   },
   "outputs": [
    {
     "name": "stdout",
     "output_type": "stream",
     "text": [
      "Sepal length | Sepal width | Petal length | Petal width\n",
      "\n",
      "Iris-setosa\n",
      "\n",
      "\tMean:\n",
      "\t[5.108163265306122, 3.487755102040817, 1.4938775510204083, 0.2489795918367346]\n",
      "\tStandard deviation:\n",
      "\t[0.3672864265954213, 0.38748505469628697, 0.17611646209075507, 0.10732744259289463]\n",
      "\n",
      "Iris-versicolor\n",
      "\n",
      "\tMean:\n",
      "\t[6.057142857142857, 2.8265306122448983, 4.346938775510203, 1.353061224489796]\n",
      "\tStandard deviation:\n",
      "\t[0.5304787901247119, 0.3189519030352046, 0.4780469948369792, 0.19963310702203832]\n",
      "\n",
      "Iris-virginica\n",
      "\n",
      "\tMean:\n",
      "\t[6.722448979591835, 3.03469387755102, 5.665306122448979, 2.06734693877551]\n",
      "\tStandard deviation:\n",
      "\t[0.6502217267925985, 0.3282727629736983, 0.5636382156555484, 0.27780768811834367]\n"
     ]
    }
   ],
   "source": [
    "import math \n",
    "\n",
    "def mean(list):\n",
    "    sum = 0.0\n",
    "    for j,el in enumerate(list):\n",
    "        sum += el\n",
    "    return sum/j\n",
    "\n",
    "def std_dev(list, mu):\n",
    "    sum = 0.0\n",
    "    for j,el in enumerate(list):\n",
    "        sum += (el-mu)**2\n",
    "    return math.sqrt(sum/j)\n",
    "\n",
    "sepal_length= [[],[],[]]\n",
    "sepal_width = [[],[],[]]\n",
    "petal_length = [[],[],[]]\n",
    "petal_width = [[],[],[]]\n",
    "\n",
    "for row in rows:\n",
    "    if row[4] == \"Iris-setosa\": i=0\n",
    "    elif row[4] == \"Iris-versicolor\": i=1\n",
    "    else: i=2\n",
    "    \n",
    "    sepal_length[i].append(float(row[0]))\n",
    "    sepal_width[i].append(float(row[1]))\n",
    "    petal_length[i].append(float(row[2]))\n",
    "    petal_width[i].append(float(row[3]))   \n",
    "    \n",
    "    if len(row) == 0:\n",
    "        break\n",
    "        \n",
    "mu = [[], [], []]\n",
    "for i in range(3):\n",
    "    mu[i].append(mean(sepal_length[i]))\n",
    "    mu[i].append(mean(sepal_width[i]))\n",
    "    mu[i].append(mean(petal_length[i]))\n",
    "    mu[i].append(mean(petal_width[i]))\n",
    "\n",
    "sigma = [[],[],[]]\n",
    "for i in range(3):\n",
    "    sigma[i].append(std_dev(sepal_length[i],mu[i][0]))\n",
    "    sigma[i].append(std_dev(sepal_width[i],mu[i][1]))\n",
    "    sigma[i].append(std_dev(petal_length[i],mu[i][2]))\n",
    "    sigma[i].append(std_dev(petal_width[i],mu[i][3]))\n",
    "  \n",
    "print(\"Sepal length | Sepal width | Petal length | Petal width\\n\")\n",
    "for i in range(3):\n",
    "    if i == 0: print(\"Iris-setosa\\n\")\n",
    "    elif i == 1: print(\"Iris-versicolor\\n\")\n",
    "    else: print(\"Iris-virginica\\n\")\n",
    "    print(f\"\\tMean:\\n\"\n",
    "            f\"\\t{mu[i]}\\n\"\n",
    "            f\"\\tStandard deviation:\\n\"\n",
    "            f\"\\t{sigma[i]}\\n\")\n"
   ]
  },
  {
   "cell_type": "markdown",
   "id": "a8a57e3baea8eae1",
   "metadata": {},
   "source": [
    "\n",
    "4. Based on the results of exercises 2 and 3, which of the 4 measurements would you considering as being the most characterizing one for the three species? (In other words, which measurement would you consider “best”, if you were to guess the Iris species based only on those four values?)"
   ]
  },
  {
   "cell_type": "markdown",
   "id": "e39cd821",
   "metadata": {
    "ExecuteTime": {
     "end_time": "2023-10-09T09:26:06.009315Z",
     "start_time": "2023-10-09T09:26:06.003855200Z"
    }
   },
   "source": [
    " *Insert the best measurement*\n"
   ]
  },
  {
   "cell_type": "markdown",
   "id": "be6f631cb71fb4c9",
   "metadata": {},
   "source": [
    "\n",
    "5. Based on the considerations of Exercise 3, assign the flowers with the following measurements to what you consider would be the most likely species.\n"
   ]
  },
  {
   "cell_type": "markdown",
   "id": "fd7d7afa",
   "metadata": {},
   "source": [
    "`5.2, 3.1, 4.0, 1.2`: Versicolor"
   ]
  },
  {
   "cell_type": "markdown",
   "id": "7dcb13c1",
   "metadata": {},
   "source": [
    "`4.9, 2.5, 5.6, 2.0`: Virginica"
   ]
  },
  {
   "cell_type": "markdown",
   "id": "273444be",
   "metadata": {},
   "source": [
    "`5.4, 3.2, 1.9, 0.4`: Setosa"
   ]
  },
  {
   "cell_type": "markdown",
   "id": "42b9f6d1c6a4304c",
   "metadata": {},
   "source": [
    "\n",
    "6. (*) Create a Rule-based classifier similar to the one seen in class. This classifier, again, will receive some rule and will classify each sample into one of the three species. According to your analysis in the previous point where you identified the most discriminative feature, provide the classifier with 3 rules, one for classifying each iris, based on this feature."
   ]
  },
  {
   "cell_type": "code",
   "execution_count": null,
   "id": "d9e8b272c7ff4e78",
   "metadata": {
    "ExecuteTime": {
     "end_time": "2023-10-09T09:26:06.010829Z",
     "start_time": "2023-10-09T09:26:06.008490200Z"
    }
   },
   "outputs": [],
   "source": []
  },
  {
   "cell_type": "markdown",
   "id": "4acda37f8fa9e27d",
   "metadata": {},
   "source": [
    "7. (*) Compute prediction for all the elements in the dataset and store them in a list. Then, compute the accuracy of the classifier that you create. You will see it later, but the accuracy metric can be computed as:\n",
    "\n",
    "$$ Acc = {\\text{number of correct predictions} \\over \\text{total number of predictions}} $$\n",
    "\n",
    "One can compute the number of correct predictions by checking how many times the predicted class is equal to the label of the sample ($5^{th}$ column)"
   ]
  },
  {
   "cell_type": "code",
   "execution_count": null,
   "id": "120f43768967753c",
   "metadata": {
    "ExecuteTime": {
     "end_time": "2023-10-09T09:26:06.020829300Z",
     "start_time": "2023-10-09T09:26:06.010105700Z"
    }
   },
   "outputs": [],
   "source": []
  },
  {
   "cell_type": "markdown",
   "id": "46442757",
   "metadata": {},
   "source": [
    "### MNIST Analysis\n",
    "\n",
    "1. Load the previously downloaded MNIST dataset. You can make use of the csv module already presented."
   ]
  },
  {
   "cell_type": "code",
   "execution_count": null,
   "id": "70e93e04",
   "metadata": {
    "ExecuteTime": {
     "end_time": "2023-10-09T09:26:06.021830200Z",
     "start_time": "2023-10-09T09:26:06.015834100Z"
    }
   },
   "outputs": [],
   "source": []
  },
  {
   "cell_type": "markdown",
   "id": "725ddad1ee7b1c1b",
   "metadata": {},
   "source": [
    "2. Create a function that, given a position $1 < k < 10,000$, prints the $k^{th}$ sample of the dataset (i.e. the $k^{th}$ row of the csv file) as a grid of $28x28$ characters. More specifically, you should map each range of pixel values to the following characters:\n",
    "    - [0; 64) &rarr; \" \"\n",
    "    - [64; 128) &rarr; \".\"\n",
    "    - [128; 192) &rarr; \"*\"\n",
    "    - [192; 256) &rarr; \"#\"\n",
    "So, for example, you should map the sequence `0, 72, 192, 138, 250` to the string `.#*#`.\n",
    "*Note*: Remember to start a new line every time you read 28 characters\n",
    "\n",
    "Example of output of the $130^{th}$ sample: \n",
    "```\n",
    "         .#      **\n",
    "        .##..*#####\n",
    "       #########*.\n",
    "      #####***.\n",
    "     ##*\n",
    "    *##\n",
    "    ##\n",
    "   .##\n",
    "    ###*\n",
    "    .#####.\n",
    "        *###*\n",
    "           *###*\n",
    "              ###\n",
    "              .##\n",
    "              ###\n",
    "            .###\n",
    "      .    *###.\n",
    "     .#  .*###*\n",
    "     .######.\n",
    "      *##*.\n",
    "```\n"
   ]
  },
  {
   "cell_type": "code",
   "execution_count": null,
   "id": "77672741a499b98d",
   "metadata": {
    "ExecuteTime": {
     "end_time": "2023-10-09T09:26:06.055875500Z",
     "start_time": "2023-10-09T09:26:06.016829800Z"
    }
   },
   "outputs": [],
   "source": []
  },
  {
   "cell_type": "markdown",
   "id": "abc23e028f2b3979",
   "metadata": {},
   "source": [
    "3. Compute the Euclidean distance between each pair of the 784-dimensional vectors of the digits at\n",
    "the following positions: $26^{th}$, $30^{th}$, $32^{nd}$, $35^{th}$.\n",
    "\n",
    "*Note*: Remember that Python arrays are indexed from 0, so the $k^{th}$ value will be at position $k-1$"
   ]
  },
  {
   "cell_type": "code",
   "execution_count": null,
   "id": "bb3ddc8c6c9571d1",
   "metadata": {
    "ExecuteTime": {
     "end_time": "2023-10-09T09:26:06.056876Z",
     "start_time": "2023-10-09T09:26:06.019828700Z"
    }
   },
   "outputs": [],
   "source": []
  },
  {
   "cell_type": "markdown",
   "id": "c2a988794dbd7294",
   "metadata": {},
   "source": [
    "4. Based on the distances computed in the previous step and knowing that the digits listed in Exercise 3 are (not necessarily in this order) $0, 1, 1, 7$ can you assign the correct label to each of the digits of Exercise 3?"
   ]
  },
  {
   "cell_type": "markdown",
   "id": "4c6c2fbf5d334780",
   "metadata": {},
   "source": [
    "The $0$ is sample $25$ beacuse it has the highest distance to all digits\n",
    "\n",
    "The $1$s are samples $29$ and $31$ because they have the shortest distance among them\n",
    "\n",
    "The $7$ is sample $34$ because it more similar to the sample representing $1$s than to the sample representing the $0$"
   ]
  },
  {
   "cell_type": "markdown",
   "id": "c19bf11e0d25a0af",
   "metadata": {},
   "source": [
    "5. There are 1,135 images representing 1’s and 980 images representing 0’s in the dataset. For all 0’s and 1’s separately, count the number of times each of the 784 pixels is black (use 128 as the threshold value). You can do this by building a list `Z` and a list `O`, each containing 784 elements, containing respectively the counts for the 0’s and the 1’s. `Z[i]` and `O[i]` contain the number of times the $i^{th}$ pixel was black for either class. For each value i, compute `abs(Z[i] - O[i])`. The $i$ with the highest value represents the pixel that best separates the digits “0” and “1” (i.e. the pixel that is most often black for one class and white for the other). Where is this pixel located within the grid? Why is it?"
   ]
  },
  {
   "cell_type": "code",
   "execution_count": null,
   "id": "d0b1ca74cb547174",
   "metadata": {
    "ExecuteTime": {
     "end_time": "2023-10-09T09:26:06.056876Z",
     "start_time": "2023-10-09T09:26:06.022830500Z"
    }
   },
   "outputs": [],
   "source": []
  },
  {
   "cell_type": "markdown",
   "id": "b36c9eda73610bca",
   "metadata": {},
   "source": [
    "6. (*) Considering only the MNIST rows composed of 0 and 1 digits. Create a Rule-based classifier that take as input a rule based on the pixel that you discovered in ex. 5. As previously, compute the prediction of such a classifier on all the samples in the dataset"
   ]
  },
  {
   "cell_type": "code",
   "execution_count": null,
   "id": "e56ccd823714b00f",
   "metadata": {
    "ExecuteTime": {
     "end_time": "2023-10-09T09:26:06.091154700Z",
     "start_time": "2023-10-09T09:26:06.028359400Z"
    }
   },
   "outputs": [],
   "source": []
  }
 ],
 "metadata": {
  "kernelspec": {
   "display_name": "Python 3 (ipykernel)",
   "language": "python",
   "name": "python3"
  },
  "language_info": {
   "codemirror_mode": {
    "name": "ipython",
    "version": 3
   },
   "file_extension": ".py",
   "mimetype": "text/x-python",
   "name": "python",
   "nbconvert_exporter": "python",
   "pygments_lexer": "ipython3",
   "version": "3.10.12"
  }
 },
 "nbformat": 4,
 "nbformat_minor": 5
}

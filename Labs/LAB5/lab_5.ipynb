{
 "cells": [
  {
   "cell_type": "markdown",
   "id": "32d4e032-42ea-4f38-9a6d-f21cd3fe3610",
   "metadata": {},
   "source": [
    "<center><b><font size=6>Lab-5 Dimensionality Reduction<b><center>"
   ]
  },
  {
   "cell_type": "markdown",
   "id": "89666add-9e84-432b-9c03-2e2ad0ae3cb1",
   "metadata": {},
   "source": [
    "### Some notes:"
   ]
  },
  {
   "cell_type": "markdown",
   "id": "aba4bd99-9f53-4bc2-9488-d458d0d1db86",
   "metadata": {},
   "source": [
    "1. You can use <button>Control</button> + <button>Enter</button> to execute the current code block, and you can use <button>Shift</button> + <button>Enter</button> to execute the current block and go to the next one afterwards."
   ]
  },
  {
   "cell_type": "code",
   "execution_count": 76,
   "id": "e5e1f307-2e12-4de3-ab8d-39f4d107d2a3",
   "metadata": {
    "ExecuteTime": {
     "end_time": "2023-11-16T16:44:31.966136241Z",
     "start_time": "2023-11-16T16:44:31.785056259Z"
    }
   },
   "outputs": [],
   "source": [
    "import matplotlib.pyplot as plt\n",
    "import seaborn as sns\n",
    "import numpy as np\n",
    "import pandas as pd\n",
    "from sklearn.preprocessing import StandardScaler "
   ]
  },
  {
   "cell_type": "markdown",
   "id": "923fc376-bc3b-4e5e-a6c3-313bb998fc27",
   "metadata": {},
   "source": [
    "2. Jupyter notebook automatically outputs the variable at the last line of a block, so you can display a pandas dataframe in a clear way instead of printing it, by putting the variable at the bottom of a block or creating a new block and putting the variable in it."
   ]
  },
  {
   "cell_type": "code",
   "execution_count": null,
   "id": "e96159c4-bb99-41d5-aa74-af6e8b51cd91",
   "metadata": {},
   "outputs": [],
   "source": [
    "\n",
    "df = pd.read_csv('darknet_traces.csv')\n",
    "df"
   ]
  },
  {
   "cell_type": "code",
   "execution_count": null,
   "id": "8dec1fa1-61f3-4e5b-8a80-5b2e5b1b45aa",
   "metadata": {},
   "outputs": [],
   "source": [
    "df"
   ]
  },
  {
   "cell_type": "code",
   "execution_count": null,
   "id": "b5b426a2-1a96-4ae5-bc0b-2e8346407db9",
   "metadata": {},
   "outputs": [],
   "source": [
    "df.head()"
   ]
  },
  {
   "cell_type": "code",
   "execution_count": null,
   "id": "c01aa78f-4552-4c8e-ae5d-08921ed9c4d9",
   "metadata": {},
   "outputs": [],
   "source": [
    "df.describe()"
   ]
  },
  {
   "cell_type": "markdown",
   "id": "7e35b8cf-05bd-4bf3-9c34-23dbffed4cad",
   "metadata": {},
   "source": [
    "3. You are not restricted to Seaborn to make plot, and you can still use Matplotlib for your work, just choose the one that suits you the best."
   ]
  },
  {
   "cell_type": "code",
   "execution_count": null,
   "id": "e47710e7-f4c0-4445-b760-368170f4fb58",
   "metadata": {},
   "outputs": [],
   "source": [
    "line = [i for i in range(100)]\n",
    "plt.plot(line)"
   ]
  },
  {
   "cell_type": "code",
   "execution_count": null,
   "id": "f36a7a98-683a-46bd-b957-733269980379",
   "metadata": {},
   "outputs": [],
   "source": [
    "sns.lineplot(line)"
   ]
  },
  {
   "cell_type": "markdown",
   "id": "65120f2c-9c08-4fb7-ab28-8ad154816c74",
   "metadata": {},
   "source": [
    "4. ``pd.to_datetime()`` works with nanosecond, and this is why we multiply the second by $10^9$."
   ]
  },
  {
   "cell_type": "code",
   "execution_count": null,
   "id": "bb632c0b-68f4-42cf-9d23-8f958dfb81d9",
   "metadata": {},
   "outputs": [],
   "source": [
    "ts = 1623452345.3400002\n",
    "pd.to_datetime(ts)"
   ]
  },
  {
   "cell_type": "code",
   "execution_count": null,
   "id": "f48894a6-bf15-4f5c-91f7-0e1cc266b1d7",
   "metadata": {},
   "outputs": [],
   "source": [
    "pd.to_datetime(ts * 1e9)"
   ]
  },
  {
   "cell_type": "markdown",
   "id": "e6983a50-b719-4951-a1f3-fa41f2ac0db4",
   "metadata": {},
   "source": [
    "5. All the code blocks that you have executed will affect the variables, so if you run a certain block again, the variables might be further changed."
   ]
  },
  {
   "cell_type": "code",
   "execution_count": null,
   "id": "5b38ce24-e946-4a6f-9f0e-e81f206950a8",
   "metadata": {},
   "outputs": [],
   "source": [
    "df['ts'] = df['ts'] * 1e9\n",
    "df"
   ]
  },
  {
   "cell_type": "code",
   "execution_count": null,
   "id": "b81b0831-9cc6-480d-880b-f8f3399d38e2",
   "metadata": {},
   "outputs": [],
   "source": [
    "df_copy = df.copy()\n",
    "df_copy['ts'] = df_copy['ts'] * 1e9\n",
    "df_copy"
   ]
  },
  {
   "cell_type": "code",
   "execution_count": null,
   "id": "8723705c-d539-4132-9852-0c64472c5449",
   "metadata": {},
   "outputs": [],
   "source": [
    "df.set_index('ts')\n",
    "df"
   ]
  },
  {
   "cell_type": "code",
   "execution_count": null,
   "id": "e96df08c-25ca-4e53-927c-c52c277bf503",
   "metadata": {},
   "outputs": [],
   "source": [
    "df = df.set_index('ts') \n",
    "# df.set_index('ts', inplace=True)\n",
    "df"
   ]
  },
  {
   "cell_type": "markdown",
   "id": "e18dff18-fcc7-498f-9c31-c5fa64d52afa",
   "metadata": {},
   "source": [
    "### Objective: Applying following techniques\n",
    "1. **Scikit-learn (sklearn)** is one of the most famous Python libraries designed for machine learning. You can use it to do literally everything for ML, such as classification and clustering. In this tutorial, besides the data scaling method, we foucs on dimensionality reduction, which reduce the number of random variables (features) to consider. Useful link: <a href=\"https://scikit-learn.org/stable/\">official documentation</a>, <a href=\"https://scikit-learn.org/stable/modules/decomposition.html#decompositions\">dimensionality reduction in sklearn</a>.\n",
    "2. **Correlation Analysis** aims to investigate the correlations among different numerical properties. Machine Learning algorithms are sensitive to data, and if two features are highly correlated to each other, either of them can be considered redundant (repeated information), e.g., age and date of birth, if a ML model is developed based on both features, it will learn the same thing out of them, which is not only useless but also complicates the model, potentially increasing the time consumption.\n",
    "3. **Principal Component Analysis (PCA)** is used to project the original dataset into a new feature space (the compoments). Simply put, PCA tries to reduce the number of variables, while preserving the characteristics and differences as much as possible. Useful link: <a href=\"https://en.wikipedia.org/wiki/Principal_component_analysis\">Wiki</a>, <a href=\"https://scikit-learn.org/stable/modules/generated/sklearn.decomposition.PCA.html#sklearn.decomposition.PCA\">PCA in sklearn</a>."
   ]
  },
  {
   "cell_type": "code",
   "execution_count": 1,
   "id": "9b5ab0cb-ebca-49be-9e34-e52dcae1dd6e",
   "metadata": {
    "ExecuteTime": {
     "end_time": "2023-11-16T17:34:56.199958022Z",
     "start_time": "2023-11-16T17:34:55.850445924Z"
    }
   },
   "outputs": [],
   "source": [
    "# import needed python libraries\n",
    "\n",
    "%matplotlib inline\n",
    "\n",
    "import pandas as pd\n",
    "import seaborn as sns\n",
    "import numpy as np\n",
    "import matplotlib.pyplot as plt\n",
    "from sklearn.preprocessing import StandardScaler\n",
    "from sklearn.decomposition import PCA\n",
    "import random"
   ]
  },
  {
   "cell_type": "markdown",
   "id": "0e4a8596-526f-41d2-b5c7-dea089c762ac",
   "metadata": {},
   "source": [
    "### 1. Tutorial\n",
    "Here we use IRIS dataset as an example to show how you perform data scaling and PCA."
   ]
  },
  {
   "cell_type": "code",
   "execution_count": null,
   "id": "985343b8-5449-440b-bda4-e19deae2ea2e",
   "metadata": {},
   "outputs": [],
   "source": [
    "# load dataset\n",
    "\n",
    "from sklearn import datasets\n",
    "iris_data = datasets.load_iris()\n",
    "columns = ['sepal_length', 'sepal_width', 'petal_length', 'petal_width']\n",
    "df_iris = pd.DataFrame(iris_data.data, columns = columns)\n",
    "df_iris['type'] = 'setosa'\n",
    "df_iris.loc[50:99, 'type'] = 'versicolor'\n",
    "df_iris.loc[100:149, 'type'] = 'virginica'"
   ]
  },
  {
   "cell_type": "markdown",
   "id": "1a5d5bff-83d8-43d7-b79c-7219fa4f18bc",
   "metadata": {},
   "source": [
    "### 1.1 Data scaling\n",
    "Before performing Machine Learning tasks, data must be scaled to belong to similar numerical space (range). Sveral scalers are available, e.g., StandardScaler standardizes features by removing the mean, scaling the data to unit variance (`StandardScaler` from sklean)."
   ]
  },
  {
   "cell_type": "code",
   "execution_count": null,
   "id": "0113e22b-e3e9-42d2-acdf-95d934aedc51",
   "metadata": {},
   "outputs": [],
   "source": [
    "# make a copy of the original dataset\n",
    "df_iris_copy = df_iris.copy()\n",
    "\n",
    "# define the scaler\n",
    "scaler = StandardScaler()\n",
    "\n",
    "# for each column in the dataset, fit and transform the data\n",
    "for col in columns:\n",
    "    \n",
    "    # fit the scaler on the data \n",
    "    scaler.fit(df_iris_copy[col].values.reshape(-1, 1))\n",
    "\n",
    "    # transform the data\n",
    "    df_iris_copy[col] = scaler.transform(df_iris_copy[col].values.reshape(-1, 1))\n",
    "\n",
    "# OR you can do it in an easy way\n",
    "# df_iris_copy[columns] = scaler.fit_transform(df_iris_copy[columns])"
   ]
  },
  {
   "cell_type": "markdown",
   "id": "e36d47de-fc44-4909-ba37-65ad10b02b0b",
   "metadata": {},
   "source": [
    "### 1.2 Correlation analysis\n",
    "In order to analyze the correlation, we need to compute the correlation between each pair of features, which can be done using the pandas function ``.corr()`` (<a href=\"https://pandas.pydata.org/pandas-docs/stable/reference/api/pandas.DataFrame.corr.html?highlight=corr#pandas.DataFrame.corr\">documentation</a>). It calculate the Pearson correlation coefficient (<a href=\"https://en.wikipedia.org/wiki/Pearson_correlation_coefficient\">Wiki</a>) between two numerical features, which is a value between -1 and 1. Normally, we take the absolute value, and the closer to 1 the higher the correlation.\n",
    "$$ r = \\frac{n(\\sum xy) - (\\sum x)(\\sum y)}{\\sqrt{[n\\sum x^2 - (\\sum x)^2][n\\sum y^2 - (\\sum y)^2]}} $$\n",
    "<!-- $$ r = \\frac{\\sum (x_i - \\bar{x})(y_i - \\bar{y})}{\\sqrt{\\sum (x_i - \\bar{x})^2} \\sqrt{\\sum (y_i - \\bar{y})^2}} $$ -->\n",
    "The result of correlation analysis can be displayed in a heatmap (<a href=\"https://seaborn.pydata.org/generated/seaborn.heatmap.html\">documentation</a>), which is a symmetric matrix, indicating the correlation cocoefficient between each pair of features (even a feature with itself)."
   ]
  },
  {
   "cell_type": "code",
   "execution_count": null,
   "id": "dd8ed7d1-4e0e-46b5-a247-f2c17248b191",
   "metadata": {},
   "outputs": [],
   "source": [
    "# Compute the correlation matrix\n",
    "correlation_matrix = df_iris_copy.drop(columns=['type']).corr().abs()\n",
    "\n",
    "# Compute the heatmap\n",
    "plt.figure(figsize=(5,4))\n",
    "sns.heatmap(correlation_matrix, cmap='Blues', annot=True, vmin=.0, vmax=1, cbar_kws={'label':'Correlation'})\n",
    "plt.xlabel('Feature')\n",
    "plt.ylabel('Feature')\n",
    "plt.title('Correlation matrix')\n",
    "plt.show()"
   ]
  },
  {
   "cell_type": "markdown",
   "id": "e94d4853-0257-41b6-92b7-d515fa9288a8",
   "metadata": {},
   "source": [
    "### 1.3 Principal Component Analysis (PCA)"
   ]
  },
  {
   "cell_type": "code",
   "execution_count": null,
   "id": "e9274b0b-b682-49c9-a6f5-8a6cf0095c17",
   "metadata": {},
   "outputs": [],
   "source": [
    "# PCA must be initialized with a random state to initialize the space\n",
    "pca = PCA(random_state=15)\n",
    "\n",
    "# .fit() is used to compute the new dimensions with number of features from 1 to the number of original features\n",
    "pca.fit(df_iris_copy[columns])"
   ]
  },
  {
   "cell_type": "markdown",
   "id": "177ea03b-4906-40e1-87ac-6edd4aeb36e7",
   "metadata": {},
   "source": [
    "### 1.4 PCA visualization\n",
    "HINT: Use a number components where you meet the elbow point. i.e., if increasing the number of components does not increase much the cumulative explained variance. In the title, you can specify the percentage at the number of component you choose."
   ]
  },
  {
   "cell_type": "code",
   "execution_count": null,
   "id": "c79a818c-b977-4420-9e7d-258bd68f41a6",
   "metadata": {},
   "outputs": [],
   "source": [
    "# describe how much of the dataset variability is indicated by a given amount of features\n",
    "explained_variance = pca.explained_variance_ratio_\n",
    "\n",
    "# evaluate the total dataset variability while increasing the variables\n",
    "cumul_exp_var = np.cumsum(explained_variance)\n",
    "\n",
    "# percentage value to better understand the best number of components\n",
    "perc_cumul_exp_var = cumul_exp_var * 100\n",
    "\n",
    "# make the plot of cumulative explained variance wrt number of components\n",
    "plt.figure(figsize=(5, 3.5))\n",
    "plt.plot(perc_cumul_exp_var, marker='o')\n",
    "plt.xlabel('# Principal Components (PCs)')\n",
    "plt.ylabel('Cumulative explained variance [%]')\n",
    "plt.xticks([i for i in range(4)], [i for i in range(1,5)])\n",
    "plt.grid()\n",
    "plt.title(f'3 PCs explain {round(perc_cumul_exp_var[2], 2)}% of $\\sigma^2$')\n",
    "plt.tight_layout()\n",
    "plt.show()"
   ]
  },
  {
   "cell_type": "markdown",
   "id": "608ae514-c1f6-4f97-89a2-b37dd25b5983",
   "metadata": {},
   "source": [
    "### 1.5 PCA transformation"
   ]
  },
  {
   "cell_type": "code",
   "execution_count": null,
   "id": "75ba3929-62dc-4875-a8bc-2177a2d5f4ce",
   "metadata": {},
   "outputs": [],
   "source": [
    "# initialize the PCA with the best numbre of components, in this case, it's 3\n",
    "pca = PCA(n_components=3, random_state=15)\n",
    "\n",
    "# fit the data to new space\n",
    "pca.fit(df_iris_copy[columns])\n",
    "\n",
    "# transform the original data into PCA components\n",
    "pca_result = pca.transform(df_iris_copy[columns])\n",
    "\n",
    "# create the new dataset\n",
    "df_iris_pca = pd.DataFrame(pca_result, columns=['component_1', 'component_2', 'component_3'])\n",
    "df_iris_pca['type'] = df_iris['type']\n",
    "df_iris_pca"
   ]
  },
  {
   "cell_type": "markdown",
   "id": "978f5077-402c-43d6-855c-72aedb7ba748",
   "metadata": {},
   "source": [
    "### 1.6 Loading score\n",
    "The loading score can be used to extract the coefficients of the linear combination of the original variables from which the principal components (PCs) are constructed. It can describe how strongly a component describes the original features and identify potentially redundant features in for a given component. Note that the score is computed as ``pca.components_.T * np.sqrt(pca.explained_variance_)``."
   ]
  },
  {
   "cell_type": "code",
   "execution_count": null,
   "id": "23224179-8cb9-4109-8130-a2b43be97531",
   "metadata": {},
   "outputs": [],
   "source": [
    "# Compute the loading scores and create the dataframe\n",
    "loadings = pd.DataFrame(\n",
    "    data = pca.components_.T * np.sqrt(pca.explained_variance_), \n",
    "    columns = [f'PC{i}' for i in range(1, 4)],\n",
    "    index = columns\n",
    ")\n",
    "\n",
    "plt.figure()\n",
    "loadings = loadings[['PC1', 'PC2']]\n",
    "loadings.sort_values(['PC1', 'PC2']).rename(columns={'PC1':'PC$_{1}$', 'PC2':'PC$_{2}$'}).plot.barh(ax=plt.gca())\n",
    "plt.grid()\n",
    "plt.xlabel('Loadings')\n",
    "plt.ylabel('Feature')\n",
    "plt.title(f'3 PCs explain {round(perc_cumul_exp_var[2], 2)}% of $\\sigma^2$')\n",
    "plt.show()"
   ]
  },
  {
   "cell_type": "markdown",
   "id": "32d22fd0-ea7a-4935-8158-c6c75a4feb00",
   "metadata": {},
   "source": [
    "### 2. Exercise - Darknet Dataset\n",
    "In this lab, we still focus on Darknet dataset (refer to the introduction of previous lab). Specifically, you will develop the ML pipeline to extract features from the dataset, understand the features, and perform a Principal Component Analysis (PCA).\n",
    "\n",
    "In the ``darknet_traces.csv`` file, you will find logs of darknet traffic. Each record contains the following features:\n",
    "- ts: timestamp of the received packet\n",
    "- src_ip: IP address from which the packet was sent\n",
    "- src_port: source port from which the packet was sent\n",
    "- dst_ip: Darknet IP address that the packet reached\n",
    "- dst_port: darknet port the packet reached\n",
    "- proto: protocol used\n",
    "- pck_len: Length of the packet in bytes\n",
    "- ttl: packet time to live"
   ]
  },
  {
   "cell_type": "markdown",
   "id": "bbedc32f-d3b4-4321-ac52-27e21661a4d2",
   "metadata": {},
   "source": [
    "### 2.1 Dataset management\n",
    "1. The provided features are not suitable for our task. We need to treat it as the source data to generate a new dataset with new features calculated from available features. Specifically, you need to generate a dataset reporting the information of source IP address, and for each individual source IP address (a row), you need to get the following 16 features (Fill NaN values with 0s):\n",
    "    - Number of packets\n",
    "    - Number of different ports contacted\n",
    "    - Number of distinct used protocols\n",
    "    - Number of distinct contacted `dst_ip`\n",
    "    - Min, Max, Avg, Std of the `dst_port`, treated as decimal number\n",
    "    - Min, Max, Avg, Std of the `pck_len`\n",
    "    - Min, Max, Avg, Std of the `ttl`\n",
    "2. Use a standard scalar to scale the entire dataset.\n",
    "3. Create two plots, randomly selecting a subset of the dataset (you can randomly select 1000 indices):\n",
    "    - The first shows the packets sent (x-axis) and the ports (y-axis) contacted.\n",
    "    - The second shows the scaled version of the packets sent and contacted ports contacted.\n",
    "    - Answering the following question:\n",
    "        - Are these graphs similar, why?\n",
    "        - If you re-run the script (different random selection), are they still similar?\n",
    "        - What is the impact of standardization?"
   ]
  },
  {
   "cell_type": "code",
   "execution_count": 27,
   "id": "4a7a7409-59e8-46ab-a90c-9065e0726119",
   "metadata": {
    "ExecuteTime": {
     "end_time": "2023-11-16T17:58:03.344376085Z",
     "start_time": "2023-11-16T17:58:00.331877167Z"
    }
   },
   "outputs": [
    {
     "ename": "ValueError",
     "evalue": "('Shapes must match', (17220,), (1000,))",
     "output_type": "error",
     "traceback": [
      "\u001B[0;31m---------------------------------------------------------------------------\u001B[0m",
      "\u001B[0;31mValueError\u001B[0m                                Traceback (most recent call last)",
      "Cell \u001B[0;32mIn[27], line 34\u001B[0m\n\u001B[1;32m     32\u001B[0m ip_selected \u001B[38;5;241m=\u001B[39m random\u001B[38;5;241m.\u001B[39msample(df_ips_scaled\u001B[38;5;241m.\u001B[39mindex\u001B[38;5;241m.\u001B[39mtolist(), k\u001B[38;5;241m=\u001B[39m\u001B[38;5;241m1000\u001B[39m)\n\u001B[1;32m     33\u001B[0m fig, axes \u001B[38;5;241m=\u001B[39m plt\u001B[38;5;241m.\u001B[39msubplots(\u001B[38;5;241m1\u001B[39m,\u001B[38;5;241m2\u001B[39m, figsize\u001B[38;5;241m=\u001B[39m(\u001B[38;5;241m20\u001B[39m,\u001B[38;5;241m10\u001B[39m))\n\u001B[0;32m---> 34\u001B[0m df_ips_random \u001B[38;5;241m=\u001B[39m df_ips[\u001B[43mdf_ips\u001B[49m\u001B[38;5;241;43m.\u001B[39;49m\u001B[43mindex\u001B[49m\u001B[43m \u001B[49m\u001B[38;5;241;43m==\u001B[39;49m\u001B[43m \u001B[49m\u001B[43mip_selected\u001B[49m]\n\u001B[1;32m     35\u001B[0m sns\u001B[38;5;241m.\u001B[39mscatterplot(\n\u001B[1;32m     36\u001B[0m     ax \u001B[38;5;241m=\u001B[39m axes[\u001B[38;5;241m0\u001B[39m],\n\u001B[1;32m     37\u001B[0m     data\u001B[38;5;241m=\u001B[39mdf_ips_random,\n\u001B[1;32m     38\u001B[0m     x \u001B[38;5;241m=\u001B[39m \u001B[38;5;124m'\u001B[39m\u001B[38;5;124mn_packets\u001B[39m\u001B[38;5;124m'\u001B[39m,\n\u001B[1;32m     39\u001B[0m     y \u001B[38;5;241m=\u001B[39m \u001B[38;5;124m'\u001B[39m\u001B[38;5;124mn_ports\u001B[39m\u001B[38;5;124m'\u001B[39m\n\u001B[1;32m     40\u001B[0m )\n\u001B[1;32m     41\u001B[0m df_ips_scaled_random \u001B[38;5;241m=\u001B[39m df_ips_scaled\u001B[38;5;241m.\u001B[39msample(\u001B[38;5;241m1000\u001B[39m)\n",
      "File \u001B[0;32m~/PycharmProjects/ML4N/venv/lib/python3.10/site-packages/pandas/core/ops/common.py:76\u001B[0m, in \u001B[0;36m_unpack_zerodim_and_defer.<locals>.new_method\u001B[0;34m(self, other)\u001B[0m\n\u001B[1;32m     72\u001B[0m             \u001B[38;5;28;01mreturn\u001B[39;00m \u001B[38;5;28mNotImplemented\u001B[39m\n\u001B[1;32m     74\u001B[0m other \u001B[38;5;241m=\u001B[39m item_from_zerodim(other)\n\u001B[0;32m---> 76\u001B[0m \u001B[38;5;28;01mreturn\u001B[39;00m \u001B[43mmethod\u001B[49m\u001B[43m(\u001B[49m\u001B[38;5;28;43mself\u001B[39;49m\u001B[43m,\u001B[49m\u001B[43m \u001B[49m\u001B[43mother\u001B[49m\u001B[43m)\u001B[49m\n",
      "File \u001B[0;32m~/PycharmProjects/ML4N/venv/lib/python3.10/site-packages/pandas/core/arraylike.py:40\u001B[0m, in \u001B[0;36mOpsMixin.__eq__\u001B[0;34m(self, other)\u001B[0m\n\u001B[1;32m     38\u001B[0m \u001B[38;5;129m@unpack_zerodim_and_defer\u001B[39m(\u001B[38;5;124m\"\u001B[39m\u001B[38;5;124m__eq__\u001B[39m\u001B[38;5;124m\"\u001B[39m)\n\u001B[1;32m     39\u001B[0m \u001B[38;5;28;01mdef\u001B[39;00m \u001B[38;5;21m__eq__\u001B[39m(\u001B[38;5;28mself\u001B[39m, other):\n\u001B[0;32m---> 40\u001B[0m     \u001B[38;5;28;01mreturn\u001B[39;00m \u001B[38;5;28;43mself\u001B[39;49m\u001B[38;5;241;43m.\u001B[39;49m\u001B[43m_cmp_method\u001B[49m\u001B[43m(\u001B[49m\u001B[43mother\u001B[49m\u001B[43m,\u001B[49m\u001B[43m \u001B[49m\u001B[43moperator\u001B[49m\u001B[38;5;241;43m.\u001B[39;49m\u001B[43meq\u001B[49m\u001B[43m)\u001B[49m\n",
      "File \u001B[0;32m~/PycharmProjects/ML4N/venv/lib/python3.10/site-packages/pandas/core/indexes/base.py:7120\u001B[0m, in \u001B[0;36mIndex._cmp_method\u001B[0;34m(self, other, op)\u001B[0m\n\u001B[1;32m   7116\u001B[0m     result \u001B[38;5;241m=\u001B[39m op(\u001B[38;5;28mself\u001B[39m\u001B[38;5;241m.\u001B[39m_values, other)\n\u001B[1;32m   7118\u001B[0m \u001B[38;5;28;01melif\u001B[39;00m is_object_dtype(\u001B[38;5;28mself\u001B[39m\u001B[38;5;241m.\u001B[39mdtype) \u001B[38;5;129;01mand\u001B[39;00m \u001B[38;5;129;01mnot\u001B[39;00m \u001B[38;5;28misinstance\u001B[39m(\u001B[38;5;28mself\u001B[39m, ABCMultiIndex):\n\u001B[1;32m   7119\u001B[0m     \u001B[38;5;66;03m# don't pass MultiIndex\u001B[39;00m\n\u001B[0;32m-> 7120\u001B[0m     result \u001B[38;5;241m=\u001B[39m \u001B[43mops\u001B[49m\u001B[38;5;241;43m.\u001B[39;49m\u001B[43mcomp_method_OBJECT_ARRAY\u001B[49m\u001B[43m(\u001B[49m\u001B[43mop\u001B[49m\u001B[43m,\u001B[49m\u001B[43m \u001B[49m\u001B[38;5;28;43mself\u001B[39;49m\u001B[38;5;241;43m.\u001B[39;49m\u001B[43m_values\u001B[49m\u001B[43m,\u001B[49m\u001B[43m \u001B[49m\u001B[43mother\u001B[49m\u001B[43m)\u001B[49m\n\u001B[1;32m   7122\u001B[0m \u001B[38;5;28;01melse\u001B[39;00m:\n\u001B[1;32m   7123\u001B[0m     result \u001B[38;5;241m=\u001B[39m ops\u001B[38;5;241m.\u001B[39mcomparison_op(\u001B[38;5;28mself\u001B[39m\u001B[38;5;241m.\u001B[39m_values, other, op)\n",
      "File \u001B[0;32m~/PycharmProjects/ML4N/venv/lib/python3.10/site-packages/pandas/core/ops/array_ops.py:128\u001B[0m, in \u001B[0;36mcomp_method_OBJECT_ARRAY\u001B[0;34m(op, x, y)\u001B[0m\n\u001B[1;32m    125\u001B[0m         y \u001B[38;5;241m=\u001B[39m y\u001B[38;5;241m.\u001B[39m_values\n\u001B[1;32m    127\u001B[0m     \u001B[38;5;28;01mif\u001B[39;00m x\u001B[38;5;241m.\u001B[39mshape \u001B[38;5;241m!=\u001B[39m y\u001B[38;5;241m.\u001B[39mshape:\n\u001B[0;32m--> 128\u001B[0m         \u001B[38;5;28;01mraise\u001B[39;00m \u001B[38;5;167;01mValueError\u001B[39;00m(\u001B[38;5;124m\"\u001B[39m\u001B[38;5;124mShapes must match\u001B[39m\u001B[38;5;124m\"\u001B[39m, x\u001B[38;5;241m.\u001B[39mshape, y\u001B[38;5;241m.\u001B[39mshape)\n\u001B[1;32m    129\u001B[0m     result \u001B[38;5;241m=\u001B[39m libops\u001B[38;5;241m.\u001B[39mvec_compare(x\u001B[38;5;241m.\u001B[39mravel(), y\u001B[38;5;241m.\u001B[39mravel(), op)\n\u001B[1;32m    130\u001B[0m \u001B[38;5;28;01melse\u001B[39;00m:\n",
      "\u001B[0;31mValueError\u001B[0m: ('Shapes must match', (17220,), (1000,))"
     ]
    },
    {
     "data": {
      "text/plain": "<Figure size 2000x1000 with 2 Axes>",
      "image/png": "[encoded data removed]"
     },
     "metadata": {},
     "output_type": "display_data"
    }
   ],
   "source": [
    "# Load the dataset\n",
    "df = pd.read_csv('darknet_traces.csv')\n",
    "\n",
    "# Add one column named 'packets', containing only 1 packet for each row\n",
    "df['packets'] = 1\n",
    "\n",
    "df_ips=pd.DataFrame()\n",
    "df_ips.index = df['src_ip'].unique()\n",
    "n_packets= df.groupby('src_ip')['src_ip'].count()\n",
    "n_port = df.groupby('src_ip')['dst_port'].nunique()\n",
    "n_protocols = df.groupby('src_ip')['proto'].nunique()\n",
    "n_distip = df.groupby('src_ip')['dst_ip'].nunique()\n",
    "\n",
    "df_ips['n_packets'] = n_packets[df_ips.index]\n",
    "df_ips['n_ports'] = n_port[df_ips.index]\n",
    "df_ips['n_protocols'] = n_protocols[df_ips.index]\n",
    "df_ips['n_dist_ip'] = n_distip[df_ips.index]\n",
    "\n",
    "agg_port = df.groupby('src_ip')['dst_port'].agg(['min','max','mean','std'])\n",
    "df_ips[['dst_port_min', 'dst_port_max','dst_port_mean', 'dst_port_std']] = agg_port\n",
    "agg_pck = df.groupby('src_ip')['pck_len'].agg(['min','max','mean','std'])\n",
    "df_ips[['pck_len_min', 'pck_len_max','pck_len_mean', 'pck_len_std']] = agg_pck\n",
    "agg_ttl = df.groupby('src_ip')['ttl'].agg(['min','max','mean','std'])\n",
    "df_ips[['ttl_min','ttl_max','ttl_mean','ttl_std']] = agg_ttl\n",
    "df_ips=df_ips.fillna(0)\n",
    "#display(df_ips)\n",
    "\n",
    "df_ips_scaled = df_ips.copy()\n",
    "scaler = StandardScaler()\n",
    "df_ips_scaled[df_ips.columns] = scaler.fit_transform(df_ips_scaled)\n",
    "\n",
    "ip_selected = random.sample(df_ips_scaled.index.tolist(), k=1000)\n",
    "fig, axes = plt.subplots(1,2, figsize=(20,10))\n",
    "df_ips_random = df_ips[df_ips.index]\n",
    "sns.scatterplot(\n",
    "    ax = axes[0],\n",
    "    data=df_ips_random,\n",
    "    x = 'n_packets',\n",
    "    y = 'n_ports'\n",
    ")\n",
    "df_ips_scaled_random = df_ips_scaled.sample(1000)\n",
    "sns.scatterplot(\n",
    "    ax=axes[1],\n",
    "    data=df_ips_scaled_random,\n",
    "    x = 'n_packets',\n",
    "    y = 'n_ports'\n",
    ")\n",
    "#display(df_ips_scaled)"
   ]
  },
  {
   "cell_type": "code",
   "execution_count": 25,
   "outputs": [
    {
     "data": {
      "text/plain": "['175.151.18.212',\n '92.63.196.249',\n '180.149.126.69',\n '59.4.81.24',\n '213.176.53.241',\n '42.119.218.71',\n '172.81.237.198',\n '151.16.53.177',\n '119.246.242.161',\n '197.90.200.197',\n '178.72.69.97',\n '74.208.255.134',\n '220.123.177.160',\n '121.136.234.139',\n '74.120.14.82',\n '181.199.146.8',\n '78.191.233.27',\n '117.195.156.115',\n '115.50.218.46',\n '203.109.82.152',\n '45.226.115.2',\n '185.94.189.182',\n '90.191.131.150',\n '51.255.109.160',\n '178.79.128.243',\n '193.46.213.230',\n '59.25.187.203',\n '60.246.3.243',\n '35.234.15.44',\n '188.166.56.189',\n '182.191.74.158',\n '177.93.188.22',\n '165.227.8.118',\n '120.25.168.7',\n '42.232.58.170',\n '71.6.233.250',\n '122.117.207.27',\n '71.6.233.152',\n '115.79.226.217',\n '143.110.179.61',\n '27.5.43.160',\n '203.77.65.210',\n '117.67.179.17',\n '49.51.9.19',\n '146.185.25.187',\n '37.32.119.81',\n '114.33.105.155',\n '76.107.110.232',\n '193.3.53.196',\n '193.3.53.39',\n '77.11.72.102',\n '109.173.94.192',\n '178.93.6.28',\n '109.111.135.92',\n '2.105.255.213',\n '219.75.42.82',\n '168.181.182.252',\n '85.227.172.235',\n '218.53.136.7',\n '182.162.170.147',\n '178.175.65.191',\n '45.83.64.33',\n '51.222.142.200',\n '220.233.29.34',\n '89.120.169.106',\n '125.41.8.147',\n '116.14.6.236',\n '89.137.132.212',\n '59.86.153.74',\n '182.242.143.38',\n '143.110.252.27',\n '128.14.141.43',\n '219.138.150.220',\n '61.52.173.175',\n '124.167.82.114',\n '45.83.65.26',\n '220.162.165.180',\n '220.132.39.221',\n '71.6.233.205',\n '97.80.163.203',\n '165.73.184.247',\n '187.5.112.150',\n '190.4.31.25',\n '61.53.59.126',\n '5.63.151.123',\n '117.241.65.209',\n '42.82.225.92',\n '189.177.65.20',\n '27.7.198.124',\n '193.118.53.205',\n '180.230.42.137',\n '113.131.156.157',\n '71.6.233.242',\n '139.215.190.47',\n '59.86.247.6',\n '113.233.91.66',\n '14.1.112.177',\n '118.122.124.85',\n '193.3.53.94',\n '188.150.172.125',\n '171.240.152.246',\n '61.52.40.199',\n '89.211.226.113',\n '79.26.210.34',\n '52.138.101.183',\n '200.233.195.51',\n '83.209.115.16',\n '117.192.37.93',\n '99.165.34.49',\n '60.251.111.122',\n '125.227.196.94',\n '113.61.17.66',\n '79.161.226.30',\n '88.202.190.156',\n '107.182.237.85',\n '50.18.82.183',\n '45.83.64.170',\n '202.164.138.162',\n '42.235.188.63',\n '70.161.25.70',\n '61.85.19.99',\n '100.35.47.56',\n '195.158.107.112',\n '78.187.42.111',\n '92.28.144.193',\n '203.76.223.78',\n '49.51.153.85',\n '209.141.52.57',\n '178.175.123.105',\n '42.61.231.98',\n '218.235.18.23',\n '112.238.93.123',\n '112.248.0.170',\n '85.93.181.107',\n '200.146.29.136',\n '5.200.6.153',\n '220.132.244.181',\n '24.231.36.167',\n '206.217.4.126',\n '5.150.247.136',\n '186.33.76.5',\n '170.254.189.28',\n '183.82.108.16',\n '117.222.103.40',\n '47.254.130.100',\n '89.233.219.93',\n '42.60.21.159',\n '65.49.20.120',\n '109.123.117.247',\n '178.141.86.51',\n '157.34.80.176',\n '193.3.53.208',\n '223.27.244.100',\n '143.208.124.150',\n '24.200.150.206',\n '36.37.155.163',\n '115.87.251.154',\n '167.248.133.81',\n '8.134.11.246',\n '124.135.19.208',\n '103.152.92.132',\n '196.202.125.91',\n '2.38.153.16',\n '120.29.76.224',\n '65.49.20.66',\n '111.253.195.224',\n '116.74.16.185',\n '197.211.209.124',\n '114.34.229.176',\n '74.91.123.135',\n '94.65.11.50',\n '193.3.53.63',\n '220.82.115.214',\n '49.144.132.119',\n '45.225.184.136',\n '194.62.6.193',\n '180.149.126.177',\n '78.220.102.122',\n '189.212.226.158',\n '125.124.97.15',\n '152.136.108.203',\n '162.241.127.98',\n '193.3.53.148',\n '117.220.60.100',\n '123.160.221.25',\n '46.172.90.162',\n '220.134.203.66',\n '71.12.0.112',\n '140.82.199.43',\n '42.117.61.109',\n '109.230.145.81',\n '193.213.29.252',\n '73.214.90.55',\n '14.34.37.15',\n '151.250.201.71',\n '182.38.172.243',\n '45.83.66.172',\n '193.3.53.111',\n '222.141.89.167',\n '175.113.229.14',\n '80.93.210.82',\n '222.252.225.151',\n '59.149.199.246',\n '14.34.165.243',\n '220.134.128.97',\n '45.136.162.2',\n '182.184.81.51',\n '188.15.22.45',\n '222.137.174.51',\n '206.189.151.254',\n '36.94.227.67',\n '212.64.61.70',\n '75.119.143.230',\n '79.178.32.251',\n '138.255.86.234',\n '114.39.230.180',\n '178.72.70.160',\n '106.1.19.198',\n '104.17.176.185',\n '191.241.175.190',\n '219.135.178.66',\n '94.66.128.31',\n '39.78.170.6',\n '182.145.227.183',\n '120.92.102.213',\n '123.205.171.190',\n '94.73.18.185',\n '5.234.52.227',\n '200.9.125.1',\n '185.128.43.46',\n '193.3.53.202',\n '115.86.108.221',\n '71.6.233.74',\n '45.83.65.213',\n '41.191.205.187',\n '24.229.177.66',\n '51.255.109.166',\n '219.68.244.5',\n '121.148.23.31',\n '59.110.158.79',\n '197.44.45.90',\n '115.187.35.139',\n '99.232.142.91',\n '148.74.235.233',\n '106.75.156.94',\n '5.228.177.165',\n '222.254.252.104',\n '61.242.40.245',\n '49.51.12.205',\n '112.94.100.77',\n '186.33.99.7',\n '170.106.38.155',\n '221.157.144.133',\n '74.122.54.106',\n '113.130.247.71',\n '109.197.80.98',\n '94.179.129.132',\n '184.105.247.199',\n '192.35.168.127',\n '142.93.211.31',\n '210.68.242.114',\n '180.177.240.154',\n '71.186.155.135',\n '146.185.25.170',\n '34.96.130.14',\n '109.111.150.82',\n '37.211.20.101',\n '93.4.85.26',\n '216.218.206.117',\n '42.114.175.44',\n '122.117.62.152',\n '123.160.221.19',\n '31.0.99.6',\n '42.236.254.222',\n '159.65.79.95',\n '85.104.150.19',\n '31.11.160.86',\n '191.30.44.2',\n '65.49.20.99',\n '59.126.127.178',\n '119.96.173.87',\n '42.116.103.171',\n '123.5.157.17',\n '42.117.80.249',\n '222.137.48.160',\n '179.162.46.147',\n '125.33.207.168',\n '45.80.45.15',\n '107.175.44.64',\n '95.57.73.111',\n '211.205.95.38',\n '179.185.118.171',\n '217.131.28.241',\n '109.246.75.226',\n '61.242.40.130',\n '123.241.13.22',\n '182.115.170.36',\n '211.205.191.178',\n '119.17.12.46',\n '115.97.139.37',\n '138.197.89.132',\n '114.243.123.118',\n '65.49.20.100',\n '31.131.78.38',\n '45.83.67.151',\n '183.103.69.5',\n '99.235.129.77',\n '159.89.181.206',\n '27.38.60.73',\n '192.99.208.204',\n '223.75.68.51',\n '139.162.179.49',\n '14.106.241.49',\n '115.56.159.143',\n '1.53.132.67',\n '34.84.105.181',\n '61.242.58.91',\n '172.249.80.162',\n '197.89.8.177',\n '189.203.214.232',\n '115.64.122.178',\n '71.6.233.137',\n '49.36.143.89',\n '84.95.86.211',\n '98.211.165.239',\n '65.49.20.110',\n '93.65.143.113',\n '193.3.53.115',\n '190.109.89.254',\n '124.156.50.129',\n '201.22.58.146',\n '36.89.221.179',\n '195.189.47.122',\n '159.89.150.252',\n '181.143.86.156',\n '161.117.182.101',\n '91.172.197.174',\n '177.100.64.177',\n '192.241.218.197',\n '116.88.71.190',\n '66.215.83.64',\n '195.38.36.82',\n '125.47.90.60',\n '155.133.74.10',\n '178.141.120.54',\n '114.236.11.188',\n '42.118.92.42',\n '87.255.29.165',\n '41.63.61.10',\n '113.107.54.32',\n '45.83.67.112',\n '112.66.248.24',\n '191.248.233.97',\n '222.108.215.114',\n '161.129.155.61',\n '131.196.200.122',\n '81.218.213.111',\n '117.217.232.138',\n '171.247.210.64',\n '193.3.53.215',\n '201.203.6.54',\n '115.50.32.65',\n '218.155.16.143',\n '170.106.38.45',\n '159.89.147.36',\n '94.68.179.74',\n '147.158.217.83',\n '64.150.207.205',\n '5.232.132.120',\n '118.69.117.255',\n '186.33.76.146',\n '120.92.109.29',\n '101.0.32.130',\n '113.182.243.209',\n '159.65.65.132',\n '181.114.140.129',\n '114.33.8.181',\n '123.10.32.50',\n '117.55.176.181',\n '192.35.168.25',\n '65.49.20.75',\n '159.89.150.163',\n '1.238.248.44',\n '201.213.111.129',\n '71.6.233.104',\n '103.47.238.192',\n '49.145.44.127',\n '150.138.72.175',\n '14.173.241.128',\n '20.72.155.148',\n '153.156.189.219',\n '103.144.201.138',\n '71.6.231.186',\n '37.8.146.236',\n '162.62.20.238',\n '84.51.59.7',\n '152.67.5.63',\n '79.116.8.97',\n '123.5.145.150',\n '162.142.125.53',\n '121.41.227.188',\n '200.85.208.198',\n '14.102.51.234',\n '39.73.237.241',\n '195.9.12.74',\n '159.65.69.168',\n '24.185.168.250',\n '1.15.223.144',\n '61.42.52.218',\n '1.224.108.234',\n '184.105.139.86',\n '119.77.164.230',\n '189.163.36.43',\n '45.83.64.151',\n '130.192.166.53',\n '114.124.214.73',\n '170.106.81.36',\n '202.164.139.11',\n '121.196.38.16',\n '172.172.26.166',\n '49.174.249.84',\n '122.3.0.9',\n '185.51.202.235',\n '82.137.245.118',\n '121.18.49.6',\n '188.166.94.8',\n '68.12.186.99',\n '128.201.52.38',\n '51.178.221.28',\n '193.112.224.194',\n '197.254.2.74',\n '37.79.164.1',\n '45.83.65.89',\n '216.218.206.99',\n '192.35.168.19',\n '190.145.207.222',\n '27.215.76.7',\n '14.215.225.114',\n '35.200.144.25',\n '115.205.205.138',\n '147.135.236.173',\n '185.3.115.232',\n '117.222.111.172',\n '185.241.212.170',\n '27.215.50.175',\n '190.80.24.150',\n '180.149.126.16',\n '5.167.48.185',\n '202.62.48.159',\n '47.98.146.212',\n '206.189.195.253',\n '182.114.126.60',\n '5.134.48.203',\n '123.160.221.31',\n '92.83.223.158',\n '109.115.203.80',\n '182.127.208.67',\n '107.175.34.210',\n '116.76.189.136',\n '123.10.17.162',\n '180.149.126.84',\n '219.157.236.184',\n '128.116.134.105',\n '61.2.177.161',\n '111.241.177.127',\n '123.160.221.35',\n '124.156.50.239',\n '143.202.189.215',\n '49.51.155.205',\n '170.106.74.243',\n '124.156.211.137',\n '73.4.2.5',\n '210.246.59.6',\n '139.59.174.168',\n '61.250.132.22',\n '20.197.49.241',\n '89.44.243.93',\n '60.162.91.187',\n '58.79.48.3',\n '187.162.90.76',\n '159.203.94.220',\n '113.116.195.48',\n '178.72.70.186',\n '42.6.128.215',\n '111.7.96.162',\n '1.53.63.239',\n '80.11.130.221',\n '103.121.26.198',\n '186.33.99.74',\n '64.62.197.35',\n '14.116.195.111',\n '185.220.205.106',\n '65.78.98.124',\n '167.248.133.22',\n '167.172.34.253',\n '5.160.110.167',\n '78.221.223.169',\n '202.138.244.41',\n '213.194.167.159',\n '192.241.221.5',\n '122.254.100.31',\n '174.101.88.90',\n '110.45.155.8',\n '120.86.146.132',\n '124.156.55.236',\n '131.72.153.227',\n '42.228.37.137',\n '65.49.20.80',\n '115.48.190.192',\n '118.97.32.226',\n '139.59.81.90',\n '45.83.66.208',\n '59.99.202.136',\n '113.252.110.3',\n '117.242.251.35',\n '213.64.60.226',\n '42.224.103.92',\n '141.212.123.212',\n '49.143.161.106',\n '89.28.164.159',\n '123.160.221.18',\n '1.2.178.80',\n '115.239.125.177',\n '162.62.15.18',\n '64.62.197.89',\n '5.245.162.249',\n '179.255.43.109',\n '120.6.230.158',\n '49.51.242.225',\n '41.164.23.42',\n '203.154.83.216',\n '14.252.95.231',\n '36.81.9.1',\n '64.62.197.181',\n '61.58.89.178',\n '117.198.72.127',\n '199.30.84.26',\n '220.134.240.68',\n '216.158.97.113',\n '202.211.87.239',\n '191.241.170.40',\n '188.120.149.66',\n '185.81.158.16',\n '171.241.99.40',\n '122.11.199.151',\n '45.176.111.36',\n '175.200.99.170',\n '123.160.221.40',\n '115.56.25.73',\n '37.119.250.113',\n '116.75.195.226',\n '120.25.154.169',\n '177.9.109.36',\n '101.166.192.3',\n '81.202.56.237',\n '84.141.231.66',\n '77.74.196.3',\n '218.161.27.157',\n '82.80.51.151',\n '202.44.247.42',\n '81.70.181.212',\n '78.23.136.79',\n '117.251.62.179',\n '108.190.47.22',\n '222.138.100.82',\n '45.229.55.116',\n '167.71.175.10',\n '97.113.13.155',\n '216.238.226.4',\n '113.88.225.174',\n '24.48.28.150',\n '202.44.249.236',\n '110.20.65.236',\n '94.181.204.127',\n '123.160.221.6',\n '83.226.105.203',\n '185.224.103.101',\n '191.255.188.33',\n '160.32.215.178',\n '119.113.191.25',\n '186.33.118.68',\n '220.132.54.158',\n '36.33.130.64',\n '103.77.37.150',\n '111.7.96.173',\n '59.126.81.2',\n '188.166.86.210',\n '62.1.66.35',\n '113.172.72.75',\n '219.157.176.23',\n '2.52.77.26',\n '111.230.67.250',\n '65.49.20.121',\n '182.121.154.32',\n '190.12.46.50',\n '186.33.119.66',\n '188.19.185.153',\n '45.83.66.24',\n '122.116.108.151',\n '45.6.159.249',\n '65.49.20.76',\n '128.1.91.203',\n '39.97.237.51',\n '184.105.247.196',\n '51.222.205.143',\n '212.45.80.102',\n '170.0.230.27',\n '88.202.190.146',\n '46.35.192.223',\n '176.46.138.51',\n '49.149.174.51',\n '47.116.77.49',\n '103.57.189.144',\n '93.86.244.150',\n '112.239.113.165',\n '112.216.163.130',\n '151.56.200.2',\n '180.149.126.11',\n '42.226.86.246',\n '49.51.242.196',\n '116.68.110.85',\n '46.12.119.243',\n '85.94.178.130',\n '43.245.218.15',\n '82.65.215.132',\n '85.112.92.109',\n '77.46.238.225',\n '59.187.240.171',\n '192.35.168.114',\n '86.127.244.184',\n '171.67.70.87',\n '178.72.78.178',\n '45.229.55.114',\n '71.6.233.151',\n '91.222.16.209',\n '74.120.14.88',\n '125.47.39.27',\n '112.134.192.162',\n '64.62.197.18',\n '118.232.12.210',\n '203.123.105.196',\n '61.242.40.150',\n '151.226.206.124',\n '128.1.248.37',\n '74.120.14.79',\n '64.62.197.165',\n '24.21.87.235',\n '178.175.106.223',\n '27.79.130.53',\n '220.135.6.224',\n '121.42.254.130',\n '82.81.170.27',\n '65.49.20.68',\n '95.215.59.27',\n '193.3.53.44',\n '193.112.8.175',\n '189.127.145.219',\n '112.239.121.202',\n '185.173.35.13',\n '94.71.134.12',\n '206.189.8.130',\n '65.49.20.124',\n '118.195.155.27',\n '220.134.114.213',\n '220.132.235.109',\n '124.156.55.244',\n '71.6.233.43',\n '74.133.156.167',\n '187.63.4.178',\n '176.82.71.97',\n '37.110.71.244',\n '61.242.40.231',\n '87.99.76.5',\n '104.248.121.227',\n '117.192.120.114',\n '37.12.138.230',\n '36.92.109.147',\n '216.218.206.125',\n '161.35.37.57',\n '114.246.35.76',\n '1.244.33.66',\n '94.101.128.69',\n '45.172.127.131',\n '180.149.126.33',\n '134.209.87.5',\n '113.230.241.162',\n '223.152.181.76',\n '81.213.232.250',\n '198.98.57.173',\n '113.23.6.114',\n '23.129.64.240',\n '113.187.186.239',\n '112.248.115.165',\n '192.241.221.73',\n '45.84.185.190',\n '222.220.159.194',\n '188.153.84.2',\n '188.213.117.93',\n '191.102.92.218',\n '95.85.84.6',\n '223.17.31.207',\n '111.73.211.19',\n '178.175.93.215',\n '150.109.180.250',\n '95.250.198.221',\n '201.123.175.105',\n '47.41.44.226',\n '175.182.238.199',\n '91.21.43.175',\n '45.201.177.1',\n '178.89.210.81',\n '178.72.76.22',\n '185.153.196.126',\n '203.204.180.17',\n '71.105.117.126',\n '82.76.26.150',\n '187.235.62.20',\n '42.114.145.178',\n '184.105.139.74',\n '45.71.230.10',\n '116.89.54.84',\n '220.168.238.109',\n '159.89.150.50',\n '36.80.225.228',\n '180.113.219.63',\n '138.117.212.162',\n '180.182.229.194',\n '193.3.53.239',\n '77.77.35.166',\n '84.22.136.158',\n '24.87.211.98',\n '60.191.125.35',\n '37.112.57.60',\n '45.83.66.196',\n '175.181.209.165',\n '115.29.203.30',\n '14.132.234.111',\n '103.74.17.149',\n '117.222.171.123',\n '188.2.174.25',\n '124.156.63.188',\n '115.58.110.141',\n '193.3.53.255',\n '109.239.43.4',\n '125.89.141.106',\n '109.203.183.81',\n '54.39.130.238',\n '112.123.61.98',\n '39.104.105.27',\n '146.185.25.178',\n '185.81.93.38',\n '159.89.149.132',\n '190.208.59.53',\n '175.181.38.150',\n '31.168.248.204',\n '116.206.252.133',\n '42.114.144.115',\n '78.98.125.184',\n '36.74.191.97',\n '114.34.53.142',\n '49.51.241.239',\n '185.80.32.78',\n '143.202.189.224',\n '219.233.217.18',\n '24.193.134.136',\n '58.248.74.190',\n '115.209.231.18',\n '46.101.143.148',\n '79.3.198.201',\n '23.16.232.31',\n '144.91.77.202',\n '45.83.65.19',\n '43.129.36.97',\n '223.130.28.227',\n '31.27.139.246',\n '139.200.25.15',\n '45.222.8.102',\n '186.33.118.248',\n '128.14.209.154',\n '119.165.68.145',\n '113.118.12.189',\n '124.156.55.67',\n '180.176.167.19',\n '193.215.175.94',\n '182.53.203.183',\n '162.62.16.10',\n '155.254.213.230',\n '193.3.53.38',\n '112.74.32.164',\n '178.92.118.86',\n '137.103.147.138',\n '50.249.68.6',\n '210.126.180.243',\n '117.50.99.221',\n '45.83.64.152',\n '24.37.65.194',\n '150.109.170.115',\n '71.10.54.143',\n '128.14.209.163',\n '203.195.132.128',\n '62.4.48.200',\n '135.23.245.120',\n '117.194.149.20',\n '49.213.171.171',\n '115.50.159.104',\n '128.116.27.76',\n '123.160.221.32',\n '71.6.233.228',\n '88.247.170.98',\n '105.235.145.49',\n '121.228.34.185',\n '210.209.175.157',\n '46.100.32.214',\n '23.129.64.203',\n '170.106.37.121',\n '193.3.53.197',\n '182.121.17.240',\n '37.235.178.39',\n '78.85.36.236',\n '222.142.226.230',\n '61.98.42.190',\n '142.93.237.57',\n '123.112.235.66',\n '222.136.238.151',\n '106.75.21.25',\n '119.179.37.139',\n '175.142.79.106',\n '23.129.64.230',\n '189.162.117.69',\n '31.41.104.59',\n '90.146.196.115',\n '188.48.118.43',\n '73.49.251.110',\n '120.77.202.214',\n '178.175.114.54',\n '193.3.53.207',\n '178.141.179.20',\n '124.156.63.221',\n '103.91.233.32',\n '119.93.213.84',\n '97.78.3.162',\n '218.146.121.30',\n '51.15.157.120',\n '193.3.53.242',\n '117.194.166.59',\n '104.131.164.101',\n '84.3.183.245',\n '118.70.231.26',\n '109.162.18.141',\n '182.123.192.204',\n '181.210.79.6',\n '116.68.110.246',\n '123.5.147.210',\n '94.66.50.240',\n '103.123.234.36',\n '219.140.118.235',\n '112.72.15.154',\n '220.133.34.249',\n '36.85.224.138',\n '121.154.229.125',\n '193.56.29.169',\n '196.218.112.123',\n '119.125.130.144',\n '187.188.116.205',\n '186.159.4.41',\n '58.118.228.100',\n '66.229.239.240',\n '193.83.184.97',\n '123.160.221.36',\n '218.36.75.250',\n '186.7.117.94',\n '112.134.218.188',\n '191.100.8.142',\n '115.49.76.225',\n '222.190.74.7',\n '124.156.241.4',\n '45.191.207.255',\n '122.117.141.154',\n '78.97.252.183',\n '61.70.67.164',\n '78.105.124.72',\n '93.152.168.8',\n '14.198.138.203',\n '209.141.37.126',\n '49.51.253.158',\n '193.3.53.27',\n '31.128.238.46',\n '183.27.195.237',\n '58.147.182.123',\n '128.14.209.150',\n '92.118.161.9',\n '71.6.233.109',\n '2.187.98.158',\n '31.163.175.48',\n '180.149.126.13',\n '180.149.126.211',\n '83.4.77.201',\n '47.204.190.184',\n '27.74.8.229',\n '102.134.149.123',\n '220.133.204.95',\n '179.217.44.3',\n '185.5.229.8',\n '175.141.138.100',\n '121.21.151.37',\n '122.111.228.184',\n '85.173.251.54',\n '176.115.95.72',\n '193.3.53.32',\n '104.131.27.128',\n '220.130.175.103',\n '164.52.24.182',\n '135.0.83.82',\n '189.148.209.134',\n '200.196.63.214',\n '61.242.54.162',\n '44.234.101.70',\n '27.77.41.55',\n '5.55.29.250',\n '35.244.181.58',\n '193.3.53.101',\n '122.140.40.235',\n '27.75.103.36',\n '124.156.64.11',\n '178.72.76.140',\n '121.129.76.67',\n '103.117.33.63',\n '59.127.87.41',\n '103.22.143.99',\n '87.11.23.40',\n '182.56.161.144',\n '178.72.70.51',\n '109.191.207.176',\n '112.26.96.78',\n '62.193.74.227',\n '31.134.121.39',\n '121.89.174.221',\n '79.124.62.55',\n '112.72.143.80',\n '71.6.233.68',\n '103.78.183.168',\n '177.134.101.39',\n '212.69.18.68',\n '88.31.150.154',\n '39.105.60.248',\n '71.6.233.155',\n '117.176.139.231',\n '146.52.209.30',\n '2.224.129.175',\n '45.174.215.17',\n '78.66.208.214',\n '180.149.126.65',\n '112.94.98.99',\n '101.37.32.76',\n '76.91.159.28',\n '115.97.142.245',\n '114.34.1.252',\n '170.106.38.205',\n '85.105.146.183',\n '120.85.91.38',\n '125.44.10.34',\n '71.66.168.76',\n '61.52.42.101',\n '212.152.112.171',\n '103.124.12.19',\n '77.82.202.80',\n '183.92.204.138',\n '128.14.141.37',\n '116.74.19.219',\n '177.154.48.26',\n '177.157.66.120',\n '61.1.141.109',\n '5.63.151.118',\n '66.228.38.85',\n '71.6.233.217',\n '35.186.245.55',\n '69.203.14.184',\n '45.83.64.2',\n '112.239.96.188',\n '101.0.34.201',\n '114.35.51.113',\n '103.210.202.22',\n '111.241.220.131',\n '42.224.50.54',\n '116.62.136.104',\n '138.255.178.192',\n '35.246.6.109',\n '45.79.106.170',\n '1.54.108.99',\n '85.58.115.59',\n '180.149.126.8',\n '89.132.229.133',\n '201.68.95.32',\n '128.1.248.46',\n '123.160.221.30',\n '27.78.219.68',\n '209.133.223.130',\n '89.122.148.155',\n '5.234.250.244',\n '36.90.249.189']"
     },
     "execution_count": 25,
     "metadata": {},
     "output_type": "execute_result"
    }
   ],
   "source": [
    "ip_selected"
   ],
   "metadata": {
    "collapsed": false,
    "ExecuteTime": {
     "end_time": "2023-11-16T17:56:28.457827806Z",
     "start_time": "2023-11-16T17:56:28.391578946Z"
    }
   },
   "id": "c5fc22457b112b49"
  },
  {
   "cell_type": "code",
   "execution_count": null,
   "id": "8c4c7018-3e7a-4e7d-b4bf-b5ab3ce24f4b",
   "metadata": {},
   "outputs": [],
   "source": [
    "# Your answer here"
   ]
  },
  {
   "cell_type": "markdown",
   "id": "9c57c32a-741e-4a66-8c16-242cdc9b03dd",
   "metadata": {},
   "source": [
    "### 2.2 Correlation analysis\n",
    "- For the derived dataset with new features, analyze the correlation and output the heatmap with correlation coefficient, keeping only two digits. Answering the following questions:\n",
    "    - How many features have highly correlated other features?\n",
    "    - How many features can you remove?\n",
    "    - When one feature is correlated to more than 1 other feature, how do you decide which to remove?"
   ]
  },
  {
   "cell_type": "code",
   "execution_count": null,
   "id": "1fc68f07-ee69-474c-9e9b-64309d5a46b5",
   "metadata": {},
   "outputs": [],
   "source": [
    "# Your answer here"
   ]
  },
  {
   "cell_type": "markdown",
   "id": "00ddda44-5386-4bc1-af90-2e8ffca8658a",
   "metadata": {},
   "source": [
    "### 2.3 PCA\n",
    "Let us begin by examining dimensionality reduction and how the number of components affects PCA’s ability to describe the dataset. Note that we do not eleminate correlated features for now, but focus on the original standardized dataset."
   ]
  },
  {
   "cell_type": "markdown",
   "id": "abe8eba1-3ab1-4c48-9ada-f0ca497514d4",
   "metadata": {},
   "source": [
    "- Fit the PCA with the scaled dataset by setting ``random_state=15``. Examine the explained variance and plot the trend of the cumulative explained variance as you increase the number of components created. How many components would you choose? And why? "
   ]
  },
  {
   "cell_type": "code",
   "execution_count": null,
   "id": "7d6373fb-15bb-4cfe-a022-9e635fc675ee",
   "metadata": {},
   "outputs": [],
   "source": [
    "# Your answer here"
   ]
  },
  {
   "cell_type": "markdown",
   "id": "19463b0c-4d24-4baa-894b-dd13936db16d",
   "metadata": {},
   "source": [
    "- From now on, keep the first 10 components, initializing PCA and fitting as well as transforming the dataset again. What is the cumulative explained variance. Is it identical to the one given in the plot of cumulative explained variance, why?"
   ]
  },
  {
   "cell_type": "code",
   "execution_count": null,
   "id": "bf13219c-496d-41b7-950a-48f9463c9023",
   "metadata": {},
   "outputs": [],
   "source": [
    "# Your answer here"
   ]
  },
  {
   "cell_type": "markdown",
   "id": "8e4ff79d-4745-40c9-817a-673237f33870",
   "metadata": {},
   "source": [
    "- Consider only the first 2 principal components (PC1 and PC2) of the 10 selected. Compute the Loading score for each of the original features with respect to the selected components. Notice that you can calculate the score as follows: <br>``scores = pca.components_.T * np.sqrt(pca.explained_variance_)``<br>\n",
    "Remember that the loading scores can be seen as the weights of the each original feature used to generate the PCs. Answering the following questions:\n",
    "    - Which feature contributes the most to PC1? And for PC2?\n",
    "    - What are the most redundant features accordingly to the selected components?"
   ]
  },
  {
   "cell_type": "code",
   "execution_count": null,
   "id": "68805b1c-5a50-4144-bfc5-0716dbee5556",
   "metadata": {},
   "outputs": [],
   "source": [
    "# Your answer here"
   ]
  },
  {
   "cell_type": "markdown",
   "id": "a2694b04-13d9-4c05-b2de-1d5afc29deee",
   "metadata": {},
   "source": [
    "### 2.4 Repeat correlation analysis after performing PCA\n",
    "For the transformed data with the optimal number of components, repeat the process of correlation heatmap. Answering the following questions:\n",
    "- How many features (components) can you remove now, after doing the PCA?\n",
    "- What phenomena can you observe? Why?"
   ]
  },
  {
   "cell_type": "code",
   "execution_count": null,
   "id": "ac3cf5ae-7e4c-4af3-841f-78ac4b7971cd",
   "metadata": {},
   "outputs": [],
   "source": [
    "# Your answer here"
   ]
  },
  {
   "cell_type": "markdown",
   "id": "139325bf-60a5-49ce-936f-855fa461caa7",
   "metadata": {},
   "source": [
    "### 2.5 Optional - PCA for features without standardization\n",
    "Previously, we have done the whole procedure following the order from standardization to PCA, but what if we perform the PCA without standardizing the dataset? Herein, you repeat what you have done in 2.2, except that you refer to the original dataset with raw features instead of performing standardization.\n",
    "1. Fit the PCA with the **original** features. Examine the explained variance and plot the trend of the cumulative explained variance as you have done before. Answering the following questions:\n",
    "    - How many components would you choose now? Why?\n",
    "    - Is the new result different from the previous result? Why?\n",
    "2. Based on the selected number of components, re-fit the PCA on the original features.\n",
    "3. Repeat the calculation and visualization of Loading score for the first 2 principal components (PC1 and PC2). Answering the following questions:\n",
    "    - Which feature contributes the most to PC1? And for PC2?\n",
    "    - Do you observe something abnormal? Why? How do you visualize them (tip: change the scale of reference frame)?"
   ]
  },
  {
   "cell_type": "code",
   "execution_count": null,
   "id": "6bb6d6b7-0327-4e6c-ac97-f3dc18e9c6b0",
   "metadata": {},
   "outputs": [],
   "source": [
    "# Your answer here"
   ]
  },
  {
   "cell_type": "markdown",
   "id": "5a1507c8-6670-448b-888b-c2095b60ddec",
   "metadata": {},
   "source": [
    "### 2.6 Optional - Correlation analysis with Spearman's rank correlation coefficient\n",
    "Previously, we have done the correlation analysis using Pearson correlation coefficient, and now, you can choose to explore the Spearman correlation coefficient, by specifying the ``method`` argument in ``corr()`` function. Note that you need to use the original standardized dataset instead of the one after performing PCA. Answering the following questions:\n",
    "- What differences can you observe with respect to the previous correlation analysis?\n",
    "- What similarities can you observe with respect to the previous correlation analysis?\n",
    "- How many features can you remove now? Is it same as before?"
   ]
  },
  {
   "cell_type": "code",
   "execution_count": null,
   "id": "954ca1e9-c0ba-451f-9d5e-4b38f7c240f1",
   "metadata": {},
   "outputs": [],
   "source": [
    "# Your answer here"
   ]
  }
 ],
 "metadata": {
  "kernelspec": {
   "display_name": "Python 3 (ipykernel)",
   "language": "python",
   "name": "python3"
  },
  "language_info": {
   "codemirror_mode": {
    "name": "ipython",
    "version": 3
   },
   "file_extension": ".py",
   "mimetype": "text/x-python",
   "name": "python",
   "nbconvert_exporter": "python",
   "pygments_lexer": "ipython3",
   "version": "3.11.3"
  }
 },
 "nbformat": 4,
 "nbformat_minor": 5
}

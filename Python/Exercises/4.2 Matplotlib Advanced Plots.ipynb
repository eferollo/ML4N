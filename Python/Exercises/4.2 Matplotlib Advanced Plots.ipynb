{
 "cells": [
  {
   "cell_type": "markdown",
   "source": [
    "# Let's make some graph with Matplotlib\n",
    "In this notebook we will learn how to make some basic plots with Matplotlib."
   ],
   "metadata": {
    "collapsed": false
   },
   "id": "1061eb933ad3a720"
  },
  {
   "cell_type": "markdown",
   "source": [
    "## Exercise 1: Scatter plot\n",
    "Let's start with a simple scatter plot. We will use the `scatter` function from Matplotlib. The function takes two arguments: \n",
    "  - the x coordinates \n",
    "  - the y coordinates \n",
    "\n",
    "We will use the `np.random.normal(mean, std, shape)` function to generate random numbers from two 2D normal distributions. \n",
    "We will generate 1000 2D points (500 from each) and plot them with different colours  \n",
    "-  first distribution: mean 0. and variance 1, red points\n",
    "- second distribution: mean 2.5 and variance 1.5, green points\n",
    "\n",
    "Show the legend of the two plots. We will use a stateless plotting style"
   ],
   "metadata": {
    "collapsed": false
   },
   "id": "d18fd4d75ce73e5f"
  },
  {
   "cell_type": "code",
   "execution_count": 6,
   "outputs": [
    {
     "data": {
      "text/plain": "<matplotlib.collections.PathCollection at 0x7fb326af3100>"
     },
     "execution_count": 6,
     "metadata": {},
     "output_type": "execute_result"
    },
    {
     "data": {
      "text/plain": "<Figure size 300x200 with 1 Axes>",
      "image/png": "[encoded data removed]"
     },
     "metadata": {},
     "output_type": "display_data"
    }
   ],
   "source": [
    "%matplotlib inline\n",
    "import numpy as np\n",
    "import matplotlib.pyplot as plt\n",
    "\n",
    "x=np.random.normal(0,1)\n",
    "y=np.random.normal(2.5,1.5)\n",
    "colors  = x+y\n",
    "area = 0*(x+y)\n",
    "fig, ax = plt.subplots(figsize=(3, 2))\n",
    "ax.scatter(x, y, s=area)"
   ],
   "metadata": {
    "collapsed": false,
    "ExecuteTime": {
     "end_time": "2023-10-24T10:54:25.634344391Z",
     "start_time": "2023-10-24T10:54:25.258700552Z"
    }
   },
   "id": "7e6316796e1a8dbe"
  },
  {
   "cell_type": "markdown",
   "source": [
    "## Exercise 2: bar plot\n",
    "\n",
    "In this exercise I want you to plot two bar plots. We will use the `bar` function from Matplotlib. It takes two arguments: \n",
    "    - the x coordinates or the categories in string format \n",
    "    - the y coordinates\n",
    "\n",
    "For the first plot the data we will use are the following:\n",
    "- categories: Category A, Category B, Category C, Category D\n",
    "- values: 25, 40, 30, 55\n",
    "- colour: skyblue\n",
    "\n",
    "For the second plot the data we will use are the following:\n",
    "- categories: Category A, Category B, Category C, Category D\n",
    "- values: 12, 18, 29, 35\n",
    "- colour: orange\n",
    "\n",
    "Use an appropriate figure size to show the figure such that the categories are not overlapped.\n"
   ],
   "metadata": {
    "collapsed": false
   },
   "id": "dcb10cd75a3b3cf0"
  },
  {
   "cell_type": "code",
   "execution_count": 1,
   "outputs": [],
   "source": [],
   "metadata": {
    "collapsed": false,
    "ExecuteTime": {
     "end_time": "2023-10-24T09:19:56.817064700Z",
     "start_time": "2023-10-24T09:19:56.811067700Z"
    }
   },
   "id": "f11d7e284799bb83"
  },
  {
   "cell_type": "markdown",
   "source": [
    "## Exercise 3: histogram\n",
    "\n",
    "Let's now make a histogram. We will use the `hist` function from Matplotlib. A histogram is an approximate representation of the distribution of numerical data. The range of values are divided into bins (series of intervals) and then count how many values fall into each interval. The function takes two argument: \n",
    "    - the data to plot\n",
    "    - the number of bins, i.e., the number of discretizations of the data and therefore of bars in the histogram \n",
    "\n",
    "We will create normal distribution of data showing the IQ of two populations. We will generate 10000 points (5000 from each distribution) and plot them with different colours:\n",
    "- first distribution: mean 100 and variance 15, green points, called \"Smart people\"\n",
    "- second distribution: mean 80 and variance 30, red points, called \"Dumb people\"\n",
    "- we will use 50 bins equally distributed between 0 and 180\n",
    "\n",
    "I want you to:\n",
    "    - show the legend\n",
    "    - add a text in the plot with the mean and the variance of the two distributions\n",
    "    - set the limits of the x and y axes to [0, 180] and [0, 1000] respectively\n",
    "    - set the title of the plot to \"IQ distribution\"\n",
    "    - set the x and y labels to \"IQ\" and \"Number of people\" respectively\n",
    "    - add a grid\n",
    "    - use a stateful plotting style"
   ],
   "metadata": {
    "collapsed": false
   },
   "id": "585e7d35e2b8dc1d"
  },
  {
   "cell_type": "code",
   "execution_count": 1,
   "outputs": [],
   "source": [],
   "metadata": {
    "collapsed": false,
    "ExecuteTime": {
     "end_time": "2023-10-24T09:19:56.855589600Z",
     "start_time": "2023-10-24T09:19:56.814065100Z"
    }
   },
   "id": "753e99d03ad8038a"
  }
 ],
 "metadata": {
  "kernelspec": {
   "display_name": "Python 3",
   "language": "python",
   "name": "python3"
  },
  "language_info": {
   "codemirror_mode": {
    "name": "ipython",
    "version": 2
   },
   "file_extension": ".py",
   "mimetype": "text/x-python",
   "name": "python",
   "nbconvert_exporter": "python",
   "pygments_lexer": "ipython2",
   "version": "2.7.6"
  }
 },
 "nbformat": 4,
 "nbformat_minor": 5
}

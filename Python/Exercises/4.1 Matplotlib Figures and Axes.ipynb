{
 "cells": [
  {
   "cell_type": "markdown",
   "source": [
    "# Let's make some graph with Matplotlib\n",
    "In this notebook we will get used to the different types of plotting: \n",
    "- stateful, which employs the pyplot interface\n",
    "- stateless, which employs the object-oriented interface (i.e. the methods of the Figure and Axes classes)\n"
   ],
   "metadata": {
    "collapsed": false
   },
   "id": "5750bfdda43b71c5"
  },
  {
   "cell_type": "code",
   "execution_count": 1,
   "outputs": [],
   "source": [
    "# when using Jupyter notebooks we always need this line to display the plots in the notebook\n",
    "%matplotlib inline \n",
    "import matplotlib.pyplot as plt\n",
    "import numpy as np"
   ],
   "metadata": {
    "collapsed": false,
    "ExecuteTime": {
     "end_time": "2023-10-24T09:22:20.295910Z",
     "start_time": "2023-10-24T09:22:19.907016300Z"
    }
   },
   "id": "810f005e4f4691d7"
  },
  {
   "cell_type": "markdown",
   "source": [
    "## Exercise 1: plotting with stateful configuration\n",
    "\n",
    "You have the following data to plot:\n",
    "- x a range of points within 0 and 5 spaced by 0.1\n",
    "- y = sin(x)\n",
    "\n",
    "You also need to set \n",
    " - the title to: \"My first plot\"\n",
    " - horizontal axis name: \"x\"\n",
    " - vertical axis name: \"sin(x)\" \n"
   ],
   "metadata": {
    "collapsed": false
   },
   "id": "d18fd4d75ce73e5f"
  },
  {
   "cell_type": "code",
   "execution_count": 1,
   "outputs": [],
   "source": [],
   "metadata": {
    "collapsed": false,
    "ExecuteTime": {
     "end_time": "2023-10-24T09:22:20.305403200Z",
     "start_time": "2023-10-24T09:22:20.298976100Z"
    }
   },
   "id": "8b2e68104915a068"
  },
  {
   "cell_type": "markdown",
   "source": [
    "## Exercise 2: plotting with stateless configuration\n",
    "\n",
    "You have the same data and names as before to plot while using a stateless configuration.\n",
    "If you do everything correctly, you should get the same plot as before.\n"
   ],
   "metadata": {
    "collapsed": false
   },
   "id": "c8c730888d2cbd0"
  },
  {
   "cell_type": "code",
   "execution_count": 1,
   "outputs": [],
   "source": [],
   "metadata": {
    "collapsed": false,
    "ExecuteTime": {
     "end_time": "2023-10-24T09:22:20.313471600Z",
     "start_time": "2023-10-24T09:22:20.305403200Z"
    }
   },
   "id": "cfebcac482aede21"
  },
  {
   "cell_type": "code",
   "execution_count": 1,
   "outputs": [],
   "source": [],
   "metadata": {
    "collapsed": false,
    "ExecuteTime": {
     "end_time": "2023-10-24T09:22:20.314460600Z",
     "start_time": "2023-10-24T09:22:20.309416700Z"
    }
   },
   "id": "d2885f1951f59497"
  }
 ],
 "metadata": {
  "kernelspec": {
   "display_name": "Python 3",
   "language": "python",
   "name": "python3"
  },
  "language_info": {
   "codemirror_mode": {
    "name": "ipython",
    "version": 2
   },
   "file_extension": ".py",
   "mimetype": "text/x-python",
   "name": "python",
   "nbconvert_exporter": "python",
   "pygments_lexer": "ipython2",
   "version": "2.7.6"
  }
 },
 "nbformat": 4,
 "nbformat_minor": 5
}

{
 "cells": [
  {
   "cell_type": "markdown",
   "id": "d6a0eea7",
   "metadata": {},
   "source": [
    "# Let's try Tuples and Lists \n",
    "In this second set of exercises we will try to understand how to manipulate Tuples and Lists"
   ]
  },
  {
   "cell_type": "markdown",
   "id": "0a9fe480",
   "metadata": {},
   "source": [
    "## Exercise 1 Modify a given tuple \n",
    "Write a script that modify a given tuple by writing the number 3 as the second element of a tuple\n",
    "e.g. given the tuple `(10, 23, 52)` the script should return `(10, 3, 52)`\n"
   ]
  },
  {
   "cell_type": "code",
   "execution_count": 34,
   "id": "86caf929",
   "metadata": {
    "ExecuteTime": {
     "end_time": "2023-10-08T12:32:12.924324922Z",
     "start_time": "2023-10-08T12:32:12.919496837Z"
    }
   },
   "outputs": [
    {
     "name": "stdout",
     "output_type": "stream",
     "text": [
      "(10, 3, 23)\n"
     ]
    }
   ],
   "source": [
    "t1 = (10, 23, 52)\n",
    "t1 = t1[0:1]+(3,)+t1[1:2]\n",
    "#t1 = t1[:1]+(3,)+t1[2:] same\n",
    "print(t1)"
   ]
  },
  {
   "cell_type": "markdown",
   "id": "e960f468",
   "metadata": {},
   "source": [
    "## Exercise 2 Revert the order of the elements\n",
    "Return a given tuple with elements in the reverse order\n",
    "e.g. given the tuple `(2, 4, 5, 8)` the script should return `(8, 5, 4, 2)`\n"
   ]
  },
  {
   "cell_type": "code",
   "execution_count": 45,
   "id": "9425f41a",
   "metadata": {
    "ExecuteTime": {
     "end_time": "2023-10-08T12:42:20.975044344Z",
     "start_time": "2023-10-08T12:42:20.958977826Z"
    }
   },
   "outputs": [
    {
     "name": "stdout",
     "output_type": "stream",
     "text": [
      "(8, 5, 4, 2)\n",
      "(13, 12, 11, 10)\n"
     ]
    }
   ],
   "source": [
    "t1 = (2, 4, 5, 8)\n",
    "t1 = t1[::-1]\n",
    "print(t1)\n",
    "\n",
    "t2 = (10, 11, 12, 13)\n",
    "new_t = ()\n",
    "for k in reversed(t2):\n",
    "    new_t = new_t + (k,)\n",
    "print(new_t)"
   ]
  },
  {
   "cell_type": "markdown",
   "id": "5ef50b6c",
   "metadata": {},
   "source": [
    "## Exercise 3 Remove list duplicates \n",
    "Remove all duplicates from a given list\n",
    "e.g. given the list `[1, 5, 5, 4, 2, 8, 3, 3]` the script should return `[1, 5, 4, 2, 8, 3]`"
   ]
  },
  {
   "cell_type": "code",
   "execution_count": 47,
   "id": "8351585c",
   "metadata": {
    "scrolled": true,
    "ExecuteTime": {
     "end_time": "2023-10-08T12:49:51.461525240Z",
     "start_time": "2023-10-08T12:49:51.418032207Z"
    }
   },
   "outputs": [
    {
     "name": "stdout",
     "output_type": "stream",
     "text": [
      "[1, 5, 4, 2, 8, 3]\n"
     ]
    }
   ],
   "source": [
    "list1 = [1, 5, 5, 4, 2, 8, 3, 3]\n",
    "out = []\n",
    "for el in list1:\n",
    "    if el not in out:\n",
    "        out.append(el)\n",
    "print(out)"
   ]
  },
  {
   "cell_type": "markdown",
   "id": "27b5b5b9",
   "metadata": {},
   "source": [
    "## Exercise 4 Euclidean distance between two vectors\n",
    "Compute the euclidean distances between two vectors (passed as lists) as following:\n",
    "\n",
    "$ dist(v1, v2) = \\sqrt{\\sum_i{(v1_i-v2_i)^2}} $\n",
    "\n",
    "*hint*: you can use the `math.sqrt` function to compute the square root of a number"
   ]
  },
  {
   "cell_type": "code",
   "execution_count": 9,
   "id": "85dd21f2",
   "metadata": {
    "ExecuteTime": {
     "end_time": "2023-10-08T18:36:37.352606262Z",
     "start_time": "2023-10-08T18:36:37.348727182Z"
    }
   },
   "outputs": [
    {
     "name": "stdout",
     "output_type": "stream",
     "text": [
      "1 2\n",
      "2 5\n",
      "3 1\n",
      "The euclidean distance between the vectors is:  {3.7416573867739413: 0.2}\n"
     ]
    }
   ],
   "source": [
    "import math\n",
    "\n",
    "v1 = [1, 2, 3]\n",
    "v2 = [2, 5, 1]\n",
    "dist = 0\n",
    "for el1, el2 in zip(v1,v2):  #zip returns a zip object which is an iterator of tuples -> join two tuples together\n",
    "    print(el1,el2)\n",
    "    dist += (el1 - el2)**2\n",
    "dist = math.sqrt(dist)\n",
    "\n",
    "print(f\"The euclidean distance between the vectors is: {dist:.2}\")\n",
    "    "
   ]
  }
 ],
 "metadata": {
  "kernelspec": {
   "display_name": "Python 3 (ipykernel)",
   "language": "python",
   "name": "python3"
  },
  "language_info": {
   "codemirror_mode": {
    "name": "ipython",
    "version": 3
   },
   "file_extension": ".py",
   "mimetype": "text/x-python",
   "name": "python",
   "nbconvert_exporter": "python",
   "pygments_lexer": "ipython3",
   "version": "3.7.12"
  }
 },
 "nbformat": 4,
 "nbformat_minor": 5
}

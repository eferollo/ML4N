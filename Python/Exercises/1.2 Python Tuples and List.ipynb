{
 "cells": [
  {
   "cell_type": "markdown",
   "id": "d6a0eea7",
   "metadata": {},
   "source": [
    "# Let's try Tuples and Lists \n",
    "In this second set of exercises we will try to understand how to manipulate Tuples and Lists"
   ]
  },
  {
   "cell_type": "markdown",
   "id": "0a9fe480",
   "metadata": {},
   "source": [
    "## Exercise 1 Modify a given tuple \n",
    "Write a script that modify a given tuple by writing the number 3 as the second element of a tuple\n",
    "e.g. given the tuple `(10, 23, 52)` the script should return `(10, 3, 52)`\n"
   ]
  },
  {
   "cell_type": "code",
   "execution_count": null,
   "id": "86caf929",
   "metadata": {
    "ExecuteTime": {
     "end_time": "2023-10-02T18:07:03.376186500Z",
     "start_time": "2023-10-02T18:07:03.324018600Z"
    }
   },
   "outputs": [],
   "source": []
  },
  {
   "cell_type": "markdown",
   "id": "e960f468",
   "metadata": {},
   "source": [
    "## Exercise 2 Revert the order of the elements\n",
    "Return a given tuple with elements in the reverse order\n",
    "e.g. given the tuple `(2, 4, 5, 8)` the script should return `(8, 5, 4, 2)`\n"
   ]
  },
  {
   "cell_type": "code",
   "execution_count": null,
   "id": "9425f41a",
   "metadata": {
    "ExecuteTime": {
     "end_time": "2023-10-02T18:07:03.396730300Z",
     "start_time": "2023-10-02T18:07:03.342127700Z"
    }
   },
   "outputs": [],
   "source": []
  },
  {
   "cell_type": "markdown",
   "id": "5ef50b6c",
   "metadata": {},
   "source": [
    "## Exercise 3 Remove list duplicates \n",
    "Remove all duplicates from a given list\n",
    "e.g. given the list `[1, 5, 5, 4, 2, 8, 3, 3]` the script should return `[1, 5, 4, 2, 8, 3]`"
   ]
  },
  {
   "cell_type": "code",
   "execution_count": null,
   "id": "8351585c",
   "metadata": {
    "scrolled": true,
    "ExecuteTime": {
     "end_time": "2023-10-02T18:07:03.397731700Z",
     "start_time": "2023-10-02T18:07:03.358153500Z"
    }
   },
   "outputs": [],
   "source": []
  },
  {
   "cell_type": "markdown",
   "id": "27b5b5b9",
   "metadata": {},
   "source": [
    "## Exercise 4 Euclidean distance between two vectors\n",
    "Compute the euclidean distances between two vectors (passed as lists) as following:\n",
    "\n",
    "$ dist(v1, v2) = \\sqrt{\\sum_i{(v1_i-v2_i)^2}} $\n",
    "\n",
    "*hint*: you can use the `math.sqrt` function to compute the square root of a number"
   ]
  },
  {
   "cell_type": "code",
   "execution_count": null,
   "id": "85dd21f2",
   "metadata": {
    "ExecuteTime": {
     "end_time": "2023-10-02T18:07:03.416755600Z",
     "start_time": "2023-10-02T18:07:03.376186500Z"
    }
   },
   "outputs": [],
   "source": []
  }
 ],
 "metadata": {
  "kernelspec": {
   "display_name": "Python 3 (ipykernel)",
   "language": "python",
   "name": "python3"
  },
  "language_info": {
   "codemirror_mode": {
    "name": "ipython",
    "version": 3
   },
   "file_extension": ".py",
   "mimetype": "text/x-python",
   "name": "python",
   "nbconvert_exporter": "python",
   "pygments_lexer": "ipython3",
   "version": "3.7.12"
  }
 },
 "nbformat": 4,
 "nbformat_minor": 5
}

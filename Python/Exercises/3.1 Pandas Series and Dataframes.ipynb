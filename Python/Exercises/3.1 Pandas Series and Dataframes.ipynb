{
 "cells": [
  {
   "cell_type": "markdown",
   "source": [
    "# Let's create some Pandas Series and Dataframes! \n",
    "In this notebook we will see how to create and access pandas series and dataframes."
   ],
   "metadata": {
    "collapsed": false
   },
   "id": "762e02b648977018"
  },
  {
   "cell_type": "markdown",
   "source": [
    "## Exercise 1 - Create and access a Pandas Series\n",
    "Create a pandas series with:\n",
    " - the following values:  [1, 3, 2, 7, 5, 4, 9] \n",
    " - indexed with the following fruit names: [\"apple\", \"orange\", \"cherry\", \"pear\", \"pineapple\", \"mango\", \"banana\"]\n",
    "\n",
    "Then print:\n",
    " - the three elements of the series\n",
    " - all the values associated to a \"pear\" or a \"mango\"\n",
    " - all the indexes associated to a value greater than 5"
   ],
   "metadata": {
    "collapsed": false
   },
   "id": "48d8c0b572809d49"
  },
  {
   "cell_type": "code",
   "execution_count": 26,
   "outputs": [
    {
     "name": "stdout",
     "output_type": "stream",
     "text": [
      "apple     1\n",
      "orange    3\n",
      "cherry    2\n",
      "dtype: int64\n",
      "[7 4]\n",
      "Index(['pear', 'banana'], dtype='object')\n"
     ]
    }
   ],
   "source": [
    "import pandas as pd\n",
    "\n",
    "s1 = pd.Series([1, 3, 2, 7, 5, 4, 9] , index=[\"apple\", \"orange\", \"cherry\", \"pear\", \"pineapple\", \"mango\", \"banana\"])\n",
    "\n",
    "print(s1.iloc[:3])\n",
    "print(s1.loc[['pear','mango']].values)\n",
    "print(s1[s1>5].index)"
   ],
   "metadata": {
    "collapsed": false,
    "ExecuteTime": {
     "end_time": "2023-10-19T15:16:29.490584003Z",
     "start_time": "2023-10-19T15:16:29.397125747Z"
    }
   },
   "id": "cfb0052795aeab37"
  },
  {
   "cell_type": "markdown",
   "source": [
    "## Exercise 2 - Create and access a Pandas Dataframe\n",
    "Given the following input table  with 12 samples and  4 attributes:\n",
    "\n",
    "```\n",
    "[[5.1, 3.5, 1, 0.2],\n",
    "[4.3, 3. , 1, 0.1],\n",
    "[5. , 0. , 1, 0.4],\n",
    "[5.1, 3.4, 2, 0.2],\n",
    "[7.0, 3.2, 1, 0.2],\n",
    "[6.9, 3.1, 3, 1.5],\n",
    "[6.7, 3.1, 1, 2. ],\n",
    "[6. , 2.9, 2, 1.5],\n",
    "[6.1, 3. , 2, 1.4],\n",
    "[6.5, 3. , 3, 2.2],\n",
    "[7.7, 3.8, 3, 2.2],\n",
    "[7.4, 2.8, 1, 1.9],\n",
    "[6.8, 3.2, 1, 2.3]]\n",
    "```\n",
    "\n",
    "Given the following column names\n",
    "['height','width','intensity','weight']\n",
    "\n",
    "Comput the following:\n",
    "- Create a pandas dataframe with the given data and column names\n",
    "- Add a new composite feature, 'area' = 'width' * 'height'\n",
    "- Retrive the elements associated to an odd index\n",
    "- Retrieve the elements samples with area > 20\n",
    "\n",
    "\n",
    "\n"
   ],
   "metadata": {
    "collapsed": false
   },
   "id": "84b5a3b610d6f973"
  },
  {
   "cell_type": "code",
   "execution_count": 29,
   "outputs": [
    {
     "name": "stdout",
     "output_type": "stream",
     "text": [
      "    height  width  intensity  weight   area\n",
      "0      5.1    3.5        1.0     0.2  17.85\n",
      "1      4.3    3.0        1.0     0.1  12.90\n",
      "2      5.0    0.0        1.0     0.4   0.00\n",
      "3      5.1    3.4        2.0     0.2  17.34\n",
      "4      7.0    3.2        1.0     0.2  22.40\n",
      "5      6.9    3.1        3.0     1.5  21.39\n",
      "6      6.7    3.1        1.0     2.0  20.77\n",
      "7      6.0    2.9        2.0     1.5  17.40\n",
      "8      6.1    3.0        2.0     1.4  18.30\n",
      "9      6.5    3.0        3.0     2.2  19.50\n",
      "10     7.7    3.8        3.0     2.2  29.26\n",
      "11     7.4    2.8        1.0     1.9  20.72\n",
      "12     6.8    3.2        1.0     2.3  21.76\n",
      "\n",
      "\n",
      "\n",
      "    height  width  intensity  weight   area\n",
      "1      4.3    3.0        1.0     0.1  12.90\n",
      "3      5.1    3.4        2.0     0.2  17.34\n",
      "5      6.9    3.1        3.0     1.5  21.39\n",
      "7      6.0    2.9        2.0     1.5  17.40\n",
      "9      6.5    3.0        3.0     2.2  19.50\n",
      "11     7.4    2.8        1.0     1.9  20.72\n",
      "\n",
      "\n",
      "\n",
      "    height  width  intensity  weight   area\n",
      "4      7.0    3.2        1.0     0.2  22.40\n",
      "5      6.9    3.1        3.0     1.5  21.39\n",
      "6      6.7    3.1        1.0     2.0  20.77\n",
      "10     7.7    3.8        3.0     2.2  29.26\n",
      "11     7.4    2.8        1.0     1.9  20.72\n",
      "12     6.8    3.2        1.0     2.3  21.76\n"
     ]
    }
   ],
   "source": [
    "import numpy as np\n",
    "\n",
    "arr = np.array([[5.1, 3.5, 1, 0.2],\n",
    "[4.3, 3. , 1, 0.1],\n",
    "[5. , 0. , 1, 0.4],\n",
    "[5.1, 3.4, 2, 0.2],\n",
    "[7.0, 3.2, 1, 0.2],\n",
    "[6.9, 3.1, 3, 1.5],\n",
    "[6.7, 3.1, 1, 2. ],\n",
    "[6. , 2.9, 2, 1.5],\n",
    "[6.1, 3. , 2, 1.4],\n",
    "[6.5, 3. , 3, 2.2],\n",
    "[7.7, 3.8, 3, 2.2],\n",
    "[7.4, 2.8, 1, 1.9],\n",
    "[6.8, 3.2, 1, 2.3]])\n",
    "\n",
    "df = pd.DataFrame(arr, columns=['height','width','intensity','weight'])\n",
    "\n",
    "df['area'] = df['width']*df['height']\n",
    "print(df)\n",
    "print(\"\\n\\n\")\n",
    "print(df.loc[df.index % 2 != 0])\n",
    "print(\"\\n\\n\")\n",
    "print(df.loc[df['area'] > 20])"
   ],
   "metadata": {
    "collapsed": false,
    "ExecuteTime": {
     "end_time": "2023-10-19T15:20:25.349621302Z",
     "start_time": "2023-10-19T15:20:25.307303042Z"
    }
   },
   "id": "1e814cfcfe5d84a3"
  }
 ],
 "metadata": {
  "kernelspec": {
   "display_name": "Python 3",
   "language": "python",
   "name": "python3"
  },
  "language_info": {
   "codemirror_mode": {
    "name": "ipython",
    "version": 2
   },
   "file_extension": ".py",
   "mimetype": "text/x-python",
   "name": "python",
   "nbconvert_exporter": "python",
   "pygments_lexer": "ipython2",
   "version": "2.7.6"
  }
 },
 "nbformat": 4,
 "nbformat_minor": 5
}

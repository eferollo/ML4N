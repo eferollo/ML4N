{
 "cells": [
  {
   "cell_type": "markdown",
   "metadata": {},
   "source": [
    "# Let's try Numpy Arrays\n",
    "In this notebook we will see many different ways in which a notebook can be created"
   ]
  },
  {
   "cell_type": "markdown",
   "metadata": {},
   "source": [
    "## Exercise 1 numpy import and an array creation\n",
    "Given the lists: \n",
    "`l1 = [0., 1., 2.]`\n",
    "`l2 = [True, False]`\n",
    "creates the corresponding numpy arrays and print their types "
   ]
  },
  {
   "cell_type": "code",
   "execution_count": null,
   "metadata": {
    "ExecuteTime": {
     "end_time": "2023-10-12T09:03:08.124505100Z",
     "start_time": "2023-10-12T09:03:08.119506400Z"
    }
   },
   "outputs": [],
   "source": []
  },
  {
   "cell_type": "markdown",
   "metadata": {},
   "source": [
    "## Exercise 2 creates a multidimensional array\n",
    "\n",
    "First creates a multidimensional array from the given list of lists\n",
    "`l1 = [[[0., 1., 2.],[3., 4., 5.]],[6., 7., 8.],[9., 10., 11.]] `\n",
    "\n",
    "Then print the number of **rows** and **columns** of the arrays"
   ]
  },
  {
   "cell_type": "code",
   "execution_count": null,
   "metadata": {
    "ExecuteTime": {
     "end_time": "2023-10-12T09:03:12.271750500Z",
     "start_time": "2023-10-12T09:03:12.263414500Z"
    }
   },
   "outputs": [],
   "source": []
  },
  {
   "cell_type": "markdown",
   "metadata": {},
   "source": [
    "## Exercise 3 creates a ndarray with values without using lists\n",
    "Create:\n",
    "1) an ndarray 3 x 3 of $1$s \n",
    "2) an ndarray 2 x 2 of $0$s\n",
    "3) an ndarray 1 x 2 of $9$s\n",
    "4) an ndarray of shape () with value 39\n",
    "5) an ndarray of shape (2,5) with values randomly distributed between 0 and 1\n",
    "6) an ndarray with 100 elements between 0 and 5\n",
    "\n",
    "*note*: always print the ndarray to console to make sure you correctly created"
   ]
  },
  {
   "cell_type": "code",
   "execution_count": null,
   "metadata": {
    "ExecuteTime": {
     "end_time": "2023-10-12T09:03:15.285800100Z",
     "start_time": "2023-10-12T09:03:15.269808500Z"
    }
   },
   "outputs": [],
   "source": []
  }
 ],
 "metadata": {
  "kernelspec": {
   "display_name": "Python 3 (ipykernel)",
   "language": "python",
   "name": "python3"
  },
  "language_info": {
   "codemirror_mode": {
    "name": "ipython",
    "version": 3
   },
   "file_extension": ".py",
   "mimetype": "text/x-python",
   "name": "python",
   "nbconvert_exporter": "python",
   "pygments_lexer": "ipython3",
   "version": "3.10.12"
  }
 },
 "nbformat": 4,
 "nbformat_minor": 2
}

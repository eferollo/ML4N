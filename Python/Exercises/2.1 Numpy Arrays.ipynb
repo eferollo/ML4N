{
 "cells": [
  {
   "cell_type": "markdown",
   "metadata": {},
   "source": [
    "# Let's try Numpy Arrays\n",
    "In this notebook we will see many different ways in which a notebook can be created"
   ]
  },
  {
   "cell_type": "markdown",
   "metadata": {},
   "source": [
    "## Exercise 1 numpy import and an array creation\n",
    "Given the lists: \n",
    "`l1 = [0., 1., 2.]`\n",
    "`l2 = [True, False]`\n",
    "creates the corresponding numpy arrays and print their types "
   ]
  },
  {
   "cell_type": "code",
   "execution_count": 13,
   "metadata": {
    "ExecuteTime": {
     "end_time": "2023-10-12T14:44:07.864716949Z",
     "start_time": "2023-10-12T14:44:07.834372107Z"
    }
   },
   "outputs": [
    {
     "name": "stdout",
     "output_type": "stream",
     "text": [
      "[0. 1. 2.] [ True False]\n",
      "float64\n",
      "bool\n"
     ]
    }
   ],
   "source": [
    "import numpy as np\n",
    "l1 = [0.,1.,2.]\n",
    "l2 = [True, False]\n",
    "\n",
    "a = np.array(l1)\n",
    "b = np.array(l2)\n",
    "\n",
    "print(a, b)\n",
    "\n",
    "print(a.dtype)\n",
    "print(b.dtype)"
   ]
  },
  {
   "cell_type": "markdown",
   "metadata": {},
   "source": [
    "## Exercise 2 creates a multidimensional array\n",
    "\n",
    "First creates a multidimensional array from the given list of lists\n",
    "`l1 = [[[0., 1., 2.],[3., 4., 5.]],[6., 7., 8.],[9., 10., 11.]] `\n",
    "\n",
    "Then print the number of **rows** and **columns** of the arrays"
   ]
  },
  {
   "cell_type": "code",
   "execution_count": 15,
   "metadata": {
    "ExecuteTime": {
     "end_time": "2023-10-12T14:46:46.685007857Z",
     "start_time": "2023-10-12T14:46:46.632744703Z"
    }
   },
   "outputs": [
    {
     "name": "stdout",
     "output_type": "stream",
     "text": [
      "[[[ 0.  1.  2.]\n",
      "  [ 3.  4.  5.]]\n",
      "\n",
      " [[ 6.  7.  8.]\n",
      "  [ 9. 10. 11.]]]\n",
      "(2, 2, 3)\n",
      "2 3\n"
     ]
    }
   ],
   "source": [
    "l1 = [[[0., 1., 2.],[3., 4., 5.]],[[6., 7., 8.],[9., 10., 11.]]]\n",
    "a = np.array(l1)\n",
    "print(a)\n",
    "\n",
    "print(a.shape)\n",
    "\n",
    "rows = a.shape[-2]\n",
    "columns = a.shape[-1]\n",
    "print(rows, columns)"
   ]
  },
  {
   "cell_type": "markdown",
   "metadata": {},
   "source": [
    "## Exercise 3 creates a ndarray with values without using lists\n",
    "Create:\n",
    "1) an ndarray 3 x 3 of $1$s \n",
    "2) an ndarray 2 x 2 of $0$s\n",
    "3) an ndarray 1 x 2 of $9$s\n",
    "4) an ndarray of shape () with value 39\n",
    "5) an ndarray of shape (2,5) with values randomly distributed between 0 and 1\n",
    "6) an ndarray with 100 elements between 0 and 5\n",
    "\n",
    "*note*: always print the ndarray to console to make sure you correctly created"
   ]
  },
  {
   "cell_type": "code",
   "execution_count": 21,
   "metadata": {
    "ExecuteTime": {
     "end_time": "2023-10-12T14:51:44.324549073Z",
     "start_time": "2023-10-12T14:51:44.279985142Z"
    }
   },
   "outputs": [
    {
     "name": "stdout",
     "output_type": "stream",
     "text": [
      "m1\n",
      " [[1. 1. 1.]\n",
      " [1. 1. 1.]\n",
      " [1. 1. 1.]]\n",
      "m2\n",
      " [[0. 0.]\n",
      " [0. 0.]]\n",
      "m3\n",
      " [[9 9]]\n",
      "m4\n",
      " 39\n",
      "m5\n",
      " [[0.6217928  0.84348549 0.10393403 0.88805575 0.65318972]\n",
      " [0.17648593 0.46234235 0.30433789 0.2777523  0.57412869]]\n",
      "m6\n",
      " [0.         0.05050505 0.1010101  0.15151515 0.2020202  0.25252525\n",
      " 0.3030303  0.35353535 0.4040404  0.45454545 0.50505051 0.55555556\n",
      " 0.60606061 0.65656566 0.70707071 0.75757576 0.80808081 0.85858586\n",
      " 0.90909091 0.95959596 1.01010101 1.06060606 1.11111111 1.16161616\n",
      " 1.21212121 1.26262626 1.31313131 1.36363636 1.41414141 1.46464646\n",
      " 1.51515152 1.56565657 1.61616162 1.66666667 1.71717172 1.76767677\n",
      " 1.81818182 1.86868687 1.91919192 1.96969697 2.02020202 2.07070707\n",
      " 2.12121212 2.17171717 2.22222222 2.27272727 2.32323232 2.37373737\n",
      " 2.42424242 2.47474747 2.52525253 2.57575758 2.62626263 2.67676768\n",
      " 2.72727273 2.77777778 2.82828283 2.87878788 2.92929293 2.97979798\n",
      " 3.03030303 3.08080808 3.13131313 3.18181818 3.23232323 3.28282828\n",
      " 3.33333333 3.38383838 3.43434343 3.48484848 3.53535354 3.58585859\n",
      " 3.63636364 3.68686869 3.73737374 3.78787879 3.83838384 3.88888889\n",
      " 3.93939394 3.98989899 4.04040404 4.09090909 4.14141414 4.19191919\n",
      " 4.24242424 4.29292929 4.34343434 4.39393939 4.44444444 4.49494949\n",
      " 4.54545455 4.5959596  4.64646465 4.6969697  4.74747475 4.7979798\n",
      " 4.84848485 4.8989899  4.94949495 5.        ]\n"
     ]
    }
   ],
   "source": [
    "m1 = np.ones((3,3))\n",
    "m2 = np.zeros((2,2))\n",
    "m3 = np.full((1,2),9)\n",
    "m4 = np.full((),39)\n",
    "m5 = np.random.random((2,5))\n",
    "#1st sol\n",
    "m6 = np.arange(0,5,5/100)\n",
    "#2nd sol\n",
    "m6 = np.linspace(0,5,100)\n",
    "\n",
    "print(\"m1\\n\",m1)\n",
    "print(\"m2\\n\",m2)\n",
    "print(\"m3\\n\",m3)\n",
    "print(\"m4\\n\",m4)\n",
    "print(\"m5\\n\",m5)\n",
    "print(\"m6\\n\",m6)"
   ]
  }
 ],
 "metadata": {
  "kernelspec": {
   "display_name": "Python 3 (ipykernel)",
   "language": "python",
   "name": "python3"
  },
  "language_info": {
   "codemirror_mode": {
    "name": "ipython",
    "version": 3
   },
   "file_extension": ".py",
   "mimetype": "text/x-python",
   "name": "python",
   "nbconvert_exporter": "python",
   "pygments_lexer": "ipython3",
   "version": "3.10.12"
  }
 },
 "nbformat": 4,
 "nbformat_minor": 2
}

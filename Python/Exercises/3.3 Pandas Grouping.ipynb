{
 "cells": [
  {
   "cell_type": "markdown",
   "source": [
    "# Let's group IRIS data! \n",
    "In this notebook we will do again some analysis on IRIS but using grouping functions with Pandas"
   ],
   "metadata": {
    "collapsed": false
   },
   "id": "762e02b648977018"
  },
  {
   "cell_type": "markdown",
   "source": [
    "## Exercise 0 - Load the dataset\n",
    "and create a new column with numerical labels (0, 1, 2) instead of the string labels (Iris-setosa, Iris-versicolor, Iris-virginica)"
   ],
   "metadata": {
    "collapsed": false
   },
   "id": "48d8c0b572809d49"
  },
  {
   "cell_type": "code",
   "execution_count": 52,
   "outputs": [],
   "source": [],
   "metadata": {
    "collapsed": false,
    "ExecuteTime": {
     "end_time": "2023-10-19T13:38:26.759842500Z",
     "start_time": "2023-10-19T13:38:26.664934Z"
    }
   },
   "id": "cfb0052795aeab37"
  },
  {
   "cell_type": "markdown",
   "source": [
    "## Exercise 1 - compute the mean and std of each feature by grouping for each class"
   ],
   "metadata": {
    "collapsed": false
   },
   "id": "ea4cbc089f5af738"
  },
  {
   "cell_type": "code",
   "execution_count": 52,
   "outputs": [],
   "source": [],
   "metadata": {
    "collapsed": false,
    "ExecuteTime": {
     "end_time": "2023-10-19T13:38:30.246869Z",
     "start_time": "2023-10-19T13:38:30.143241900Z"
    }
   },
   "id": "3b294178626ee8c3"
  },
  {
   "cell_type": "markdown",
   "source": [
    "## Exercise 2 - predict the class of a sample by computing the distance from the mean of each class\n",
    "Create a function to compute the  distance of a sample from the mean of each class \n",
    "Then create a new column in the dataset called \"predicted_label\" and assign the predicted class to each sample\n",
    "Then compute the accuracy of the prediction\n",
    "\n",
    "**Note:** you cannot iterate over the dataframe\n"
   ],
   "metadata": {
    "collapsed": false
   },
   "id": "e89a59ca906b0780"
  },
  {
   "cell_type": "code",
   "execution_count": 52,
   "outputs": [],
   "source": [],
   "metadata": {
    "collapsed": false,
    "ExecuteTime": {
     "end_time": "2023-10-19T13:38:32.442362600Z",
     "start_time": "2023-10-19T13:38:32.297687900Z"
    }
   },
   "id": "6cae75624e6b4658"
  }
 ],
 "metadata": {
  "kernelspec": {
   "display_name": "Python 3",
   "language": "python",
   "name": "python3"
  },
  "language_info": {
   "codemirror_mode": {
    "name": "ipython",
    "version": 2
   },
   "file_extension": ".py",
   "mimetype": "text/x-python",
   "name": "python",
   "nbconvert_exporter": "python",
   "pygments_lexer": "ipython2",
   "version": "2.7.6"
  }
 },
 "nbformat": 4,
 "nbformat_minor": 5
}

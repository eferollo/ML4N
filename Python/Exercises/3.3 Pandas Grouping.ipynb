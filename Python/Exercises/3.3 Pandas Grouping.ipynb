{
 "cells": [
  {
   "cell_type": "markdown",
   "source": [
    "# Let's group IRIS data! \n",
    "In this notebook we will do again some analysis on IRIS but using grouping functions with Pandas"
   ],
   "metadata": {
    "collapsed": false
   },
   "id": "762e02b648977018"
  },
  {
   "cell_type": "markdown",
   "source": [
    "## Exercise 0 - Load the dataset\n",
    "and create a new column with numerical labels (0, 1, 2) instead of the string labels (Iris-setosa, Iris-versicolor, Iris-virginica)"
   ],
   "metadata": {
    "collapsed": false
   },
   "id": "48d8c0b572809d49"
  },
  {
   "cell_type": "code",
   "execution_count": 8,
   "outputs": [
    {
     "name": "stdout",
     "output_type": "stream",
     "text": [
      "     sepal_length  sepal_width  petal_length  petal_width  label\n",
      "0             5.1          3.5           1.4          0.2      0\n",
      "1             4.9          3.0           1.4          0.2      0\n",
      "2             4.7          3.2           1.3          0.2      0\n",
      "3             4.6          3.1           1.5          0.2      0\n",
      "4             5.0          3.6           1.4          0.2      0\n",
      "..            ...          ...           ...          ...    ...\n",
      "145           6.7          3.0           5.2          2.3      2\n",
      "146           6.3          2.5           5.0          1.9      2\n",
      "147           6.5          3.0           5.2          2.0      2\n",
      "148           6.2          3.4           5.4          2.3      2\n",
      "149           5.9          3.0           5.1          1.8      2\n",
      "\n",
      "[150 rows x 5 columns]\n"
     ]
    }
   ],
   "source": [
    "import pandas as pd\n",
    "import numpy as np\n",
    "df = pd.read_csv('data/iris.csv', sep=',', header=None, names=['sepal_length', 'sepal_width', \"petal_length\", \"petal_width\", 'label'])\n",
    "df['label'] = df['label'].replace(['Iris-setosa','Iris-versicolor', 'Iris-virginica'], [0,1,2])\n",
    "print(df)"
   ],
   "metadata": {
    "collapsed": false,
    "ExecuteTime": {
     "end_time": "2023-11-04T15:38:21.279429716Z",
     "start_time": "2023-11-04T15:38:21.236493345Z"
    }
   },
   "id": "cfb0052795aeab37"
  },
  {
   "cell_type": "markdown",
   "source": [
    "## Exercise 1 - compute the mean and std of each feature by grouping for each class"
   ],
   "metadata": {
    "collapsed": false
   },
   "id": "ea4cbc089f5af738"
  },
  {
   "cell_type": "code",
   "execution_count": 7,
   "outputs": [
    {
     "name": "stdout",
     "output_type": "stream",
     "text": [
      "Means\n",
      "        sepal_length  sepal_width  petal_length  petal_width\n",
      "label                                                      \n",
      "0             5.006        3.418         1.464        0.244\n",
      "1             5.936        2.770         4.260        1.326\n",
      "2             6.588        2.974         5.552        2.026\n",
      "\n",
      "Standard Deviations\n",
      "        sepal_length  sepal_width  petal_length  petal_width\n",
      "label                                                      \n",
      "0          0.352490     0.381024      0.173511     0.107210\n",
      "1          0.516171     0.313798      0.469911     0.197753\n",
      "2          0.635880     0.322497      0.551895     0.274650\n"
     ]
    }
   ],
   "source": [
    "means = df.groupby('label').mean()\n",
    "stds = df.groupby('label').std()\n",
    "\n",
    "print(f\"Means\\n {means}\\n\\nStandard Deviations\\n {stds}\\n\")\n"
   ],
   "metadata": {
    "collapsed": false,
    "ExecuteTime": {
     "end_time": "2023-11-04T15:37:04.063760701Z",
     "start_time": "2023-11-04T15:37:04.060161657Z"
    }
   },
   "id": "3b294178626ee8c3"
  },
  {
   "cell_type": "markdown",
   "source": [
    "## Exercise 2 - predict the class of a sample by computing the distance from the mean of each class\n",
    "Create a function to compute the  distance of a sample from the mean of each class \n",
    "Then create a new column in the dataset called \"predicted_label\" and assign the predicted class to each sample\n",
    "Then compute the accuracy of the prediction\n",
    "\n",
    "**Note:** you cannot iterate over the dataframe\n"
   ],
   "metadata": {
    "collapsed": false
   },
   "id": "e89a59ca906b0780"
  },
  {
   "cell_type": "code",
   "execution_count": 67,
   "outputs": [
    {
     "data": {
      "text/plain": "     sepal_length  sepal_width  petal_length  petal_width  label  \\\n0             5.1          3.5           1.4          0.2      0   \n1             4.9          3.0           1.4          0.2      0   \n2             4.7          3.2           1.3          0.2      0   \n3             4.6          3.1           1.5          0.2      0   \n4             5.0          3.6           1.4          0.2      0   \n..            ...          ...           ...          ...    ...   \n145           6.7          3.0           5.2          2.3      2   \n146           6.3          2.5           5.0          1.9      2   \n147           6.5          3.0           5.2          2.0      2   \n148           6.2          3.4           5.4          2.3      2   \n149           5.9          3.0           5.1          1.8      2   \n\n     predicted_label  \n0                  0  \n1                  0  \n2                  0  \n3                  0  \n4                  0  \n..               ...  \n145                2  \n146                2  \n147                2  \n148                2  \n149                2  \n\n[150 rows x 6 columns]",
      "text/html": "<div>\n<style scoped>\n    .dataframe tbody tr th:only-of-type {\n        vertical-align: middle;\n    }\n\n    .dataframe tbody tr th {\n        vertical-align: top;\n    }\n\n    .dataframe thead th {\n        text-align: right;\n    }\n</style>\n<table border=\"1\" class=\"dataframe\">\n  <thead>\n    <tr style=\"text-align: right;\">\n      <th></th>\n      <th>sepal_length</th>\n      <th>sepal_width</th>\n      <th>petal_length</th>\n      <th>petal_width</th>\n      <th>label</th>\n      <th>predicted_label</th>\n    </tr>\n  </thead>\n  <tbody>\n    <tr>\n      <th>0</th>\n      <td>5.1</td>\n      <td>3.5</td>\n      <td>1.4</td>\n      <td>0.2</td>\n      <td>0</td>\n      <td>0</td>\n    </tr>\n    <tr>\n      <th>1</th>\n      <td>4.9</td>\n      <td>3.0</td>\n      <td>1.4</td>\n      <td>0.2</td>\n      <td>0</td>\n      <td>0</td>\n    </tr>\n    <tr>\n      <th>2</th>\n      <td>4.7</td>\n      <td>3.2</td>\n      <td>1.3</td>\n      <td>0.2</td>\n      <td>0</td>\n      <td>0</td>\n    </tr>\n    <tr>\n      <th>3</th>\n      <td>4.6</td>\n      <td>3.1</td>\n      <td>1.5</td>\n      <td>0.2</td>\n      <td>0</td>\n      <td>0</td>\n    </tr>\n    <tr>\n      <th>4</th>\n      <td>5.0</td>\n      <td>3.6</td>\n      <td>1.4</td>\n      <td>0.2</td>\n      <td>0</td>\n      <td>0</td>\n    </tr>\n    <tr>\n      <th>...</th>\n      <td>...</td>\n      <td>...</td>\n      <td>...</td>\n      <td>...</td>\n      <td>...</td>\n      <td>...</td>\n    </tr>\n    <tr>\n      <th>145</th>\n      <td>6.7</td>\n      <td>3.0</td>\n      <td>5.2</td>\n      <td>2.3</td>\n      <td>2</td>\n      <td>2</td>\n    </tr>\n    <tr>\n      <th>146</th>\n      <td>6.3</td>\n      <td>2.5</td>\n      <td>5.0</td>\n      <td>1.9</td>\n      <td>2</td>\n      <td>2</td>\n    </tr>\n    <tr>\n      <th>147</th>\n      <td>6.5</td>\n      <td>3.0</td>\n      <td>5.2</td>\n      <td>2.0</td>\n      <td>2</td>\n      <td>2</td>\n    </tr>\n    <tr>\n      <th>148</th>\n      <td>6.2</td>\n      <td>3.4</td>\n      <td>5.4</td>\n      <td>2.3</td>\n      <td>2</td>\n      <td>2</td>\n    </tr>\n    <tr>\n      <th>149</th>\n      <td>5.9</td>\n      <td>3.0</td>\n      <td>5.1</td>\n      <td>1.8</td>\n      <td>2</td>\n      <td>2</td>\n    </tr>\n  </tbody>\n</table>\n<p>150 rows × 6 columns</p>\n</div>"
     },
     "metadata": {},
     "output_type": "display_data"
    },
    {
     "name": "stdout",
     "output_type": "stream",
     "text": [
      "Accuracy: 0.9266666666666666\n"
     ]
    }
   ],
   "source": [
    "def predict_label(df,means):\n",
    "    features = ['sepal_length', 'sepal_width', \"petal_length\", \"petal_width\"]\n",
    "    distances = np.zeros((len(df), 3))     # [[],[],[]] 150 volte\n",
    "    for i, label in enumerate(df['label'].unique()):\n",
    "        distances[:, i] = np.linalg.norm(df[features] - means.loc[label], axis=1)  # sottrai tra righe\n",
    "    return np.argmin(distances, axis=1)\n",
    "\n",
    "df['predicted_label'] = predict_label(df,means)\n",
    "display(df)\n",
    "\n",
    "acc = np.sum((df['label'] == df['predicted_label'])) /len(df)\n",
    "print(f\"Accuracy: {acc}\")\n",
    "    "
   ],
   "metadata": {
    "collapsed": false,
    "ExecuteTime": {
     "end_time": "2023-11-04T16:30:07.110687035Z",
     "start_time": "2023-11-04T16:30:07.105002930Z"
    }
   },
   "id": "6cae75624e6b4658"
  }
 ],
 "metadata": {
  "kernelspec": {
   "display_name": "Python 3",
   "language": "python",
   "name": "python3"
  },
  "language_info": {
   "codemirror_mode": {
    "name": "ipython",
    "version": 2
   },
   "file_extension": ".py",
   "mimetype": "text/x-python",
   "name": "python",
   "nbconvert_exporter": "python",
   "pygments_lexer": "ipython2",
   "version": "2.7.6"
  }
 },
 "nbformat": 4,
 "nbformat_minor": 5
}

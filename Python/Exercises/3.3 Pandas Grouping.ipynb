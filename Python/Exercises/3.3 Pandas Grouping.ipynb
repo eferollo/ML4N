{
 "cells": [
  {
   "cell_type": "markdown",
   "source": [
    "# Let's group IRIS data! \n",
    "In this notebook we will do again some analysis on IRIS but using grouping functions with Pandas"
   ],
   "metadata": {
    "collapsed": false
   },
   "id": "762e02b648977018"
  },
  {
   "cell_type": "markdown",
   "source": [
    "## Exercise 0 - Load the dataset\n",
    "and create a new column with numerical labels (0, 1, 2) instead of the string labels (Iris-setosa, Iris-versicolor, Iris-virginica)"
   ],
   "metadata": {
    "collapsed": false
   },
   "id": "48d8c0b572809d49"
  },
  {
   "cell_type": "code",
   "execution_count": 23,
   "outputs": [
    {
     "name": "stdout",
     "output_type": "stream",
     "text": [
      "     sepal_length  sepal_width  petal_length  petal_width  label\n",
      "0             5.1          3.5           1.4          0.2      0\n",
      "1             4.9          3.0           1.4          0.2      0\n",
      "2             4.7          3.2           1.3          0.2      0\n",
      "3             4.6          3.1           1.5          0.2      0\n",
      "4             5.0          3.6           1.4          0.2      0\n",
      "..            ...          ...           ...          ...    ...\n",
      "145           6.7          3.0           5.2          2.3      2\n",
      "146           6.3          2.5           5.0          1.9      2\n",
      "147           6.5          3.0           5.2          2.0      2\n",
      "148           6.2          3.4           5.4          2.3      2\n",
      "149           5.9          3.0           5.1          1.8      2\n",
      "\n",
      "[150 rows x 5 columns]\n"
     ]
    }
   ],
   "source": [
    "import pandas as pd\n",
    "df = pd.read_csv('data/iris.csv', sep=',', header=None, names=['sepal_length', 'sepal_width', \"petal_length\", \"petal_width\", 'label'])\n",
    "df['label'] = df['label'].replace(['Iris-setosa','Iris-versicolor', 'Iris-virginica'], [0,1,2])\n",
    "print(df)"
   ],
   "metadata": {
    "collapsed": false,
    "ExecuteTime": {
     "end_time": "2023-10-24T08:41:32.402020727Z",
     "start_time": "2023-10-24T08:41:32.382354875Z"
    }
   },
   "id": "cfb0052795aeab37"
  },
  {
   "cell_type": "markdown",
   "source": [
    "## Exercise 1 - compute the mean and std of each feature by grouping for each class"
   ],
   "metadata": {
    "collapsed": false
   },
   "id": "ea4cbc089f5af738"
  },
  {
   "cell_type": "code",
   "execution_count": 61,
   "outputs": [
    {
     "name": "stdout",
     "output_type": "stream",
     "text": [
      "Index(['sepal_length', 'sepal_width', 'petal_length', 'petal_width'], dtype='object')\n",
      "              (0, Mean)  (0, Std)  (1, Mean)  (1, Std)  (2, Mean)  (2, Std)\n",
      "sepal_length      5.006  0.352490      5.936  0.516171      6.588  0.635880\n",
      "sepal_width       3.418  0.381024      2.770  0.313798      2.974  0.322497\n",
      "petal_length      1.464  0.173511      4.260  0.469911      5.552  0.551895\n",
      "petal_width       0.244  0.107210      1.326  0.197753      2.026  0.274650\n"
     ]
    }
   ],
   "source": [
    "print(df.columns[:-1])\n",
    "df2=pd.DataFrame()\n",
    "\n",
    "for i in range(3):\n",
    "    df2[i,'Mean']=df.loc[df['label']==i, df.columns[:-1]].mean()\n",
    "    df2[i,'Std']=df.loc[df['label']==i, df.columns[:-1]].std()\n",
    "print(df2)\n",
    "    #print(df.loc[df['label']==i, df.columns[:-1]].std())"
   ],
   "metadata": {
    "collapsed": false,
    "ExecuteTime": {
     "end_time": "2023-10-24T09:08:58.467561760Z",
     "start_time": "2023-10-24T09:08:58.424120435Z"
    }
   },
   "id": "3b294178626ee8c3"
  },
  {
   "cell_type": "markdown",
   "source": [
    "## Exercise 2 - predict the class of a sample by computing the distance from the mean of each class\n",
    "Create a function to compute the  distance of a sample from the mean of each class \n",
    "Then create a new column in the dataset called \"predicted_label\" and assign the predicted class to each sample\n",
    "Then compute the accuracy of the prediction\n",
    "\n",
    "**Note:** you cannot iterate over the dataframe\n"
   ],
   "metadata": {
    "collapsed": false
   },
   "id": "e89a59ca906b0780"
  },
  {
   "cell_type": "code",
   "execution_count": null,
   "outputs": [],
   "source": [],
   "metadata": {
    "collapsed": false,
    "ExecuteTime": {
     "start_time": "2023-10-21T15:21:01.996620537Z"
    }
   },
   "id": "6cae75624e6b4658"
  }
 ],
 "metadata": {
  "kernelspec": {
   "display_name": "Python 3",
   "language": "python",
   "name": "python3"
  },
  "language_info": {
   "codemirror_mode": {
    "name": "ipython",
    "version": 2
   },
   "file_extension": ".py",
   "mimetype": "text/x-python",
   "name": "python",
   "nbconvert_exporter": "python",
   "pygments_lexer": "ipython2",
   "version": "2.7.6"
  }
 },
 "nbformat": 4,
 "nbformat_minor": 5
}

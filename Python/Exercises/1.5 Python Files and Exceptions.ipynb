{
 "cells": [
  {
   "cell_type": "markdown",
   "metadata": {},
   "source": [
    "# Files and Exception handling\n",
    "In this last set of python exercies we will try to understand how to use files and how to handle exceptions.\n"
   ]
  },
  {
   "cell_type": "markdown",
   "metadata": {},
   "source": [
    "# Exercise 1 File reading\n",
    "Write a function that reads the file `\"data/X.csv\"` and returns a list of lines in the file.\n"
   ]
  },
  {
   "cell_type": "code",
   "execution_count": null,
   "metadata": {
    "is_executing": true
   },
   "outputs": [],
   "source": []
  },
  {
   "cell_type": "markdown",
   "metadata": {},
   "source": [
    "# Exercise 2 File reading with exception handling\n",
    "Now we try to read a file that **does not exist**. What happens?\n",
    "\n",
    "Let's write a function that as previously returns a list of lines in the file `\"data/X.csv\"`. \n",
    "However, if the file does not exist, the function should return an empty list.\n"
   ]
  },
  {
   "cell_type": "code",
   "execution_count": null,
   "metadata": {
    "is_executing": true
   },
   "outputs": [],
   "source": []
  },
  {
   "cell_type": "markdown",
   "metadata": {},
   "source": [
    "## Exercise 3 Classes and exception handling: reading csv files\n",
    "Implement a class that reads a csv file with header and allows accessing data by column.\n",
    "- The columns must be a private attribute of the class.\n",
    "- The class must have a method that returns the column names.\n",
    "- The class must have a method that returns the values of a column given the column name.\n",
    "\n",
    "Example of csv file:\n",
    "```\n",
    "ID,Name,Age\n",
    "1,John,20\n",
    "2,Alicia,30\n",
    "```\n",
    "\n",
    "Example of usage:\n",
    "```\n",
    "table = Table('data/TableExample.csv')\n",
    "print(f\"Columns: {table.get_column_names()}\")\n",
    "print(f\"'Age' column {table.get_column('Age')})\n",
    "```\n"
   ]
  },
  {
   "cell_type": "code",
   "execution_count": null,
   "metadata": {
    "is_executing": true
   },
   "outputs": [],
   "source": []
  }
 ],
 "metadata": {
  "kernelspec": {
   "display_name": "Python 3 (ipykernel)",
   "language": "python",
   "name": "python3"
  },
  "language_info": {
   "codemirror_mode": {
    "name": "ipython",
    "version": 3
   },
   "file_extension": ".py",
   "mimetype": "text/x-python",
   "name": "python",
   "nbconvert_exporter": "python",
   "pygments_lexer": "ipython3",
   "version": "3.7.12"
  }
 },
 "nbformat": 4,
 "nbformat_minor": 4
}

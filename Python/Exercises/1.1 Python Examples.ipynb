{
 "cells": [
  {
   "cell_type": "markdown",
   "id": "ba90c56d",
   "metadata": {},
   "source": [
    "# Welcome to the first python coding session!\n",
    "\n",
    "\n",
    "In this tutorial we will solve some simple exercises together to better understand/review python basics mechanisms"
   ]
  },
  {
   "cell_type": "markdown",
   "id": "9a2b6f2a",
   "metadata": {},
   "source": [
    "## Exercise 1 Twinkle Twinkle Little Star\n",
    "\n",
    "Write a python script that output the text of the song \"Twinkle Twinkle Little Star\" formatted as follows:\n",
    "\n",
    "Twinkle, twinkle, little star,\n",
    "\n",
    "&emsp; How I wonder what you are! \n",
    "\n",
    "&emsp; &emsp; Up above the world so high,   \t\t\n",
    "\n",
    "&emsp; &emsp; &emsp;\t\tLike a diamond in the sky. \n",
    "\n",
    "Twinkle, twinkle, little star, \n",
    "\n",
    "&emsp;\tHow I wonder what you are"
   ]
  },
  {
   "cell_type": "code",
   "execution_count": null,
   "id": "d340cba1",
   "metadata": {
    "ExecuteTime": {
     "end_time": "2023-10-02T18:03:29.864066Z",
     "start_time": "2023-10-02T18:03:29.858957600Z"
    }
   },
   "outputs": [],
   "source": []
  },
  {
   "cell_type": "markdown",
   "id": "0c38315a",
   "metadata": {},
   "source": [
    "## Exercise 2 Print Python version\n",
    "Write a python script that output which python version you are using\n",
    "\n",
    "*Hint*: use `sys.version` or `os.system(...)` or a terminal command starting with `!`"
   ]
  },
  {
   "cell_type": "code",
   "execution_count": null,
   "id": "dbd184eb",
   "metadata": {
    "ExecuteTime": {
     "end_time": "2023-10-02T18:03:29.868213400Z",
     "start_time": "2023-10-02T18:03:29.862960200Z"
    }
   },
   "outputs": [],
   "source": []
  },
  {
   "cell_type": "markdown",
   "id": "88b2a17f",
   "metadata": {},
   "source": [
    "## Exercise 3 Compute area of a circle \n",
    "Write a python script computing the area of a circle. \n",
    "\n",
    "The radius of the circle is provided by the user.\n",
    "To provide the radius simply use the function: \n",
    "```\n",
    "    radius = input(message)\n",
    "```\n",
    "\n",
    "Where message represents the name displayed before the input cell."
   ]
  },
  {
   "cell_type": "code",
   "execution_count": null,
   "id": "787129dd",
   "metadata": {
    "tags": [],
    "ExecuteTime": {
     "end_time": "2023-10-02T18:03:29.872211500Z",
     "start_time": "2023-10-02T18:03:29.868213400Z"
    }
   },
   "outputs": [],
   "source": []
  },
  {
   "cell_type": "markdown",
   "id": "e5cee82a",
   "metadata": {},
   "source": [
    "## Exercise 4 Swap Java with Python \n",
    "Write a python script that and swap the word \"python\" with \"java\" and viceversa in the given string:\n",
    " \n",
    "`\"java is much more fun than python\"\n",
    "`"
   ]
  },
  {
   "cell_type": "code",
   "execution_count": null,
   "id": "117746ca",
   "metadata": {
    "ExecuteTime": {
     "end_time": "2023-10-02T18:03:29.889152700Z",
     "start_time": "2023-10-02T18:03:29.871212Z"
    }
   },
   "outputs": [],
   "source": []
  },
  {
   "cell_type": "markdown",
   "id": "cfa4f80a",
   "metadata": {},
   "source": [
    "## Exercise 5 Print file extension\n",
    "Write a python script that output name and the extension of a file provided as input.\n",
    "\n",
    "Note: the file doesn't have to *actually* exists"
   ]
  },
  {
   "cell_type": "code",
   "execution_count": null,
   "id": "e777a5ae",
   "metadata": {
    "ExecuteTime": {
     "end_time": "2023-10-02T18:03:29.920963900Z",
     "start_time": "2023-10-02T18:03:29.876411500Z"
    }
   },
   "outputs": [],
   "source": []
  }
 ],
 "metadata": {
  "kernelspec": {
   "display_name": "Python 3 (ipykernel)",
   "language": "python",
   "name": "python3"
  },
  "language_info": {
   "codemirror_mode": {
    "name": "ipython",
    "version": 3
   },
   "file_extension": ".py",
   "mimetype": "text/x-python",
   "name": "python",
   "nbconvert_exporter": "python",
   "pygments_lexer": "ipython3",
   "version": "3.7.12"
  }
 },
 "nbformat": 4,
 "nbformat_minor": 5
}

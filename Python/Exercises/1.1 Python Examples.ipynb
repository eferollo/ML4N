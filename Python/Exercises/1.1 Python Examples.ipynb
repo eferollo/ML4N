{
 "cells": [
  {
   "cell_type": "markdown",
   "id": "ba90c56d",
   "metadata": {},
   "source": [
    "# Welcome to the first python coding session!\n",
    "\n",
    "\n",
    "In this tutorial we will solve some simple exercises together to better understand/review python basics mechanisms"
   ]
  },
  {
   "cell_type": "markdown",
   "id": "9a2b6f2a",
   "metadata": {},
   "source": [
    "## Exercise 1 Twinkle Twinkle Little Star\n",
    "\n",
    "Write a python script that output the text of the song \"Twinkle Twinkle Little Star\" formatted as follows:\n",
    "\n",
    "Twinkle, twinkle, little star,\n",
    "\n",
    "&emsp; How I wonder what you are! \n",
    "\n",
    "&emsp; &emsp; Up above the world so high,   \t\t\n",
    "\n",
    "&emsp; &emsp; &emsp;\t\tLike a diamond in the sky. \n",
    "\n",
    "Twinkle, twinkle, little star, \n",
    "\n",
    "&emsp;\tHow I wonder what you are"
   ]
  },
  {
   "cell_type": "code",
   "execution_count": 15,
   "outputs": [
    {
     "name": "stdout",
     "output_type": "stream",
     "text": [
      "Twinkle, twinkle, little star,\n",
      "\tHow I wonder what you are!\n",
      "\t\tUp above the world so high,\n",
      "\t\t\tLike a diamond in the sky.\n",
      "Twinkle, twinkle, little star,\n",
      "\tHow I wonder what you are\n"
     ]
    }
   ],
   "source": [
    "print(\"Twinkle, twinkle, little star,\\n\"\n",
    "      \"\\tHow I wonder what you are!\\n\"\n",
    "      \"\\t\\tUp above the world so high,\\n\"\n",
    "      \"\\t\\t\\tLike a diamond in the sky.\\n\"\n",
    "      \"Twinkle, twinkle, little star,\\n\"\n",
    "      \"\\tHow I wonder what you are\")"
   ],
   "metadata": {
    "collapsed": false,
    "ExecuteTime": {
     "end_time": "2023-10-04T12:15:26.080052898Z",
     "start_time": "2023-10-04T12:15:26.037146636Z"
    }
   },
   "id": "fa9dd3a98976d23f"
  },
  {
   "cell_type": "markdown",
   "id": "0c38315a",
   "metadata": {},
   "source": [
    "## Exercise 2 Print Python version\n",
    "Write a python script that output which python version you are using\n",
    "\n",
    "*Hint*: use `sys.version` or `os.system(...)` or a terminal command starting with `!`"
   ]
  },
  {
   "cell_type": "code",
   "execution_count": 6,
   "id": "dbd184eb",
   "metadata": {
    "ExecuteTime": {
     "end_time": "2023-10-04T12:09:35.695660869Z",
     "start_time": "2023-10-04T12:09:35.571980571Z"
    }
   },
   "outputs": [
    {
     "name": "stdout",
     "output_type": "stream",
     "text": [
      "Python 3.10.12\r\n"
     ]
    }
   ],
   "source": [
    "!python --version"
   ]
  },
  {
   "cell_type": "markdown",
   "id": "88b2a17f",
   "metadata": {},
   "source": [
    "## Exercise 3 Compute area of a circle \n",
    "Write a python script computing the area of a circle. \n",
    "\n",
    "The radius of the circle is provided by the user.\n",
    "To provide the radius simply use the function: \n",
    "```\n",
    "    radius = input(message)\n",
    "```\n",
    "\n",
    "Where message represents the name displayed before the input cell."
   ]
  },
  {
   "cell_type": "code",
   "execution_count": 18,
   "id": "787129dd",
   "metadata": {
    "tags": [],
    "ExecuteTime": {
     "end_time": "2023-10-04T12:20:25.996358806Z",
     "start_time": "2023-10-04T12:20:23.868308939Z"
    }
   },
   "outputs": [
    {
     "ename": "ValueError",
     "evalue": "could not convert string to float: ''",
     "output_type": "error",
     "traceback": [
      "\u001B[0;31m---------------------------------------------------------------------------\u001B[0m",
      "\u001B[0;31mValueError\u001B[0m                                Traceback (most recent call last)",
      "Cell \u001B[0;32mIn[18], line 1\u001B[0m\n\u001B[0;32m----> 1\u001B[0m radius \u001B[38;5;241m=\u001B[39m \u001B[38;5;28;43mfloat\u001B[39;49m\u001B[43m(\u001B[49m\u001B[38;5;28;43minput\u001B[39;49m\u001B[43m(\u001B[49m\u001B[38;5;124;43m\"\u001B[39;49m\u001B[38;5;124;43mInsert radius\u001B[39;49m\u001B[38;5;124;43m\"\u001B[39;49m\u001B[43m)\u001B[49m\u001B[43m)\u001B[49m\n\u001B[1;32m      2\u001B[0m area \u001B[38;5;241m=\u001B[39m \u001B[38;5;241m3.14\u001B[39m\u001B[38;5;241m*\u001B[39m(radius\u001B[38;5;241m*\u001B[39m\u001B[38;5;241m*\u001B[39m\u001B[38;5;241m2\u001B[39m)\n\u001B[1;32m      3\u001B[0m \u001B[38;5;28mprint\u001B[39m(area)\n",
      "\u001B[0;31mValueError\u001B[0m: could not convert string to float: ''"
     ]
    }
   ],
   "source": [
    "radius = float(input(\"Insert radius\"))\n",
    "area = 3.14*(radius**2)\n",
    "print(area)"
   ]
  },
  {
   "cell_type": "markdown",
   "id": "e5cee82a",
   "metadata": {},
   "source": [
    "## Exercise 4 Swap Java with Python \n",
    "Write a python script that and swap the word \"python\" with \"java\" and viceversa in the given string:\n",
    " \n",
    "`\"java is much more fun than python\"\n",
    "`"
   ]
  },
  {
   "cell_type": "code",
   "execution_count": 17,
   "id": "117746ca",
   "metadata": {
    "ExecuteTime": {
     "end_time": "2023-10-04T12:19:37.647533904Z",
     "start_time": "2023-10-04T12:19:37.634614139Z"
    }
   },
   "outputs": [
    {
     "name": "stdout",
     "output_type": "stream",
     "text": [
      "python is much more fun than java\n"
     ]
    }
   ],
   "source": [
    "str = \"java is much more fun than python\"\n",
    "new_str = str.replace(\"java\", \"py_thon\").replace(\"python\", \"java\").replace(\"_\",\"\")\n",
    "print(new_str)\n"
   ]
  },
  {
   "cell_type": "markdown",
   "id": "cfa4f80a",
   "metadata": {},
   "source": [
    "## Exercise 5 Print file extension\n",
    "Write a python script that output name and the extension of a file provided as input.\n",
    "\n",
    "Note: the file doesn't have to *actually* exists"
   ]
  },
  {
   "cell_type": "code",
   "execution_count": 20,
   "id": "e777a5ae",
   "metadata": {
    "ExecuteTime": {
     "end_time": "2023-10-04T12:23:00.868944686Z",
     "start_time": "2023-10-04T12:22:59.183137009Z"
    }
   },
   "outputs": [
    {
     "name": "stdout",
     "output_type": "stream",
     "text": [
      "The extension of the file is: .\n"
     ]
    }
   ],
   "source": [
    "input_file = input(\"Name of the file\\n\")\n",
    "extension = input_file.split(\".\")[-1]\n",
    "print(\"The extension of the file is: .\" + extension)"
   ]
  }
 ],
 "metadata": {
  "kernelspec": {
   "display_name": "Python 3 (ipykernel)",
   "language": "python",
   "name": "python3"
  },
  "language_info": {
   "codemirror_mode": {
    "name": "ipython",
    "version": 3
   },
   "file_extension": ".py",
   "mimetype": "text/x-python",
   "name": "python",
   "nbconvert_exporter": "python",
   "pygments_lexer": "ipython3",
   "version": "3.7.12"
  }
 },
 "nbformat": 4,
 "nbformat_minor": 5
}

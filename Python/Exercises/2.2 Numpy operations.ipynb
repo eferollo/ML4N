{
 "cells": [
  {
   "cell_type": "markdown",
   "id": "7b648069",
   "metadata": {},
   "source": [
    "# Let's makes some Numpy Operations\n",
    "In this notebook we will see different operation types that we can perform on arrays"
   ]
  },
  {
   "cell_type": "markdown",
   "id": "b7ed14a8",
   "metadata": {},
   "source": [
    "## Exercise 1 Universal Functions\n",
    "Given an ndarray x = [4, -1, 7, 9, 3, -5] compute the sigmoid function $ y = sigmoid(x)$ which maps numbers $(-\\inf +\\inf) \\rightarrow (0,1)$\n",
    "\n",
    "$$ sigmoid(x) = \\frac{1}{1 + e^{-x}}$$"
   ]
  },
  {
   "cell_type": "code",
   "execution_count": 4,
   "id": "9bec4df9",
   "metadata": {
    "ExecuteTime": {
     "end_time": "2023-10-12T15:14:59.133535915Z",
     "start_time": "2023-10-12T15:14:59.036024055Z"
    }
   },
   "outputs": [
    {
     "name": "stdout",
     "output_type": "stream",
     "text": [
      "[0.98201379 0.26894142 0.99908895 0.99987661 0.95257413 0.00669285]\n"
     ]
    }
   ],
   "source": [
    "import numpy as np\n",
    "\n",
    "def sigmoid(x):\n",
    "    sig = 1/(1+np.exp(-x))\n",
    "    return sig   \n",
    "    \n",
    "x = [4,-1,7,9,3,-5]\n",
    "x = np.array(x)\n",
    "\n",
    "print(sigmoid(x))\n"
   ]
  },
  {
   "cell_type": "markdown",
   "id": "8c82de3d",
   "metadata": {},
   "source": [
    "## Exercise 2 Aggregation functions\n",
    "Given an array x = [[2, 3, -4,], [7, 5, 9]]\n",
    "\n",
    "Return the mean of the elements along the rows and the minimum element along the columns"
   ]
  },
  {
   "cell_type": "code",
   "execution_count": 13,
   "id": "273b3322",
   "metadata": {
    "ExecuteTime": {
     "end_time": "2023-10-12T15:29:37.976367524Z",
     "start_time": "2023-10-12T15:29:37.936614827Z"
    }
   },
   "outputs": [
    {
     "name": "stdout",
     "output_type": "stream",
     "text": [
      "[0.33333333 7.        ]\n",
      "[4.5 4.  2.5]\n",
      "[-4  5]\n",
      "[ 2  3 -4]\n"
     ]
    }
   ],
   "source": [
    "x = np.array([[2,3,-4],[7,5,9]])\n",
    "\n",
    "print(x.mean(axis=-1))\n",
    "print(x.mean(axis=0))\n",
    "\n",
    "print(x.min(axis=-1))\n",
    "print(x.min(axis=0))"
   ]
  },
  {
   "cell_type": "markdown",
   "id": "325a14df",
   "metadata": {},
   "source": [
    "## Exercise 3 Sorting\n",
    "Given the same array as in Ex. 1, i.e., x = [4, -1, 7, 9, 3, -5], find the 3 highest values and the positions of the 2 lowest values"
   ]
  },
  {
   "cell_type": "code",
   "execution_count": 24,
   "id": "b37cd92d",
   "metadata": {
    "ExecuteTime": {
     "end_time": "2023-10-12T16:00:51.489563127Z",
     "start_time": "2023-10-12T16:00:51.443730078Z"
    }
   },
   "outputs": [
    {
     "name": "stdout",
     "output_type": "stream",
     "text": [
      "[9 7 4]\n",
      "[5 1]\n"
     ]
    }
   ],
   "source": [
    "x = np.array([4, -1, 7, 9, 3, -5])\n",
    "\n",
    "print(np.sort(x)[:-4:-1])\n",
    "print(np.argsort(x)[:2])"
   ]
  },
  {
   "cell_type": "markdown",
   "id": "baa9047d",
   "metadata": {},
   "source": [
    "# Exercise 4 Broadcasting\n",
    "Compute the product between the array x1 = [[0,1,2], [3,4,5]] and the array x2 = [1, 2]\n",
    "Does it raises an error? How shall x2 be modified to make the operation possible?\n"
   ]
  },
  {
   "cell_type": "code",
   "execution_count": 23,
   "outputs": [
    {
     "name": "stdout",
     "output_type": "stream",
     "text": [
      "[[ 0  1  2]\n",
      " [ 6  8 10]]\n"
     ]
    }
   ],
   "source": [
    "x1 = np.array([[0,1,2],[3,4,5]])\n",
    "x2 = np.array([1,2])\n",
    "\n",
    "#print(x1 * x2)\n",
    "\n",
    "x3 = np.array([[1],[2]])\n",
    "print(x1 * x3)"
   ],
   "metadata": {
    "collapsed": false,
    "ExecuteTime": {
     "end_time": "2023-10-12T15:40:21.999960545Z",
     "start_time": "2023-10-12T15:40:21.952509357Z"
    }
   },
   "id": "3b8be274fffc7cb2"
  }
 ],
 "metadata": {
  "kernelspec": {
   "display_name": "Python 3 (ipykernel)",
   "language": "python",
   "name": "python3"
  },
  "language_info": {
   "codemirror_mode": {
    "name": "ipython",
    "version": 3
   },
   "file_extension": ".py",
   "mimetype": "text/x-python",
   "name": "python",
   "nbconvert_exporter": "python",
   "pygments_lexer": "ipython3",
   "version": "3.10.12"
  }
 },
 "nbformat": 4,
 "nbformat_minor": 5
}

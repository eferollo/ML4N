{
 "cells": [
  {
   "cell_type": "markdown",
   "id": "7b648069",
   "metadata": {},
   "source": [
    "# Let's makes some Numpy Operations\n",
    "In this notebook we will see different operation types that we can perform on arrays"
   ]
  },
  {
   "cell_type": "markdown",
   "id": "b7ed14a8",
   "metadata": {},
   "source": [
    "## Exercise 1 Universal Functions\n",
    "Given an ndarray x = [4, -1, 7, 9, 3, -5] compute the sigmoid function $ y = sigmoid(x)$ which maps numbers $(-\\inf +\\inf) \\rightarrow (0,1)$\n",
    "\n",
    "$$ sigmoid(x) = \\frac{1}{1 + e^{-x}}$$"
   ]
  },
  {
   "cell_type": "code",
   "execution_count": null,
   "id": "9bec4df9",
   "metadata": {
    "ExecuteTime": {
     "end_time": "2023-10-12T09:04:40.260322100Z",
     "start_time": "2023-10-12T09:04:40.258278400Z"
    }
   },
   "outputs": [],
   "source": []
  },
  {
   "cell_type": "markdown",
   "id": "8c82de3d",
   "metadata": {},
   "source": [
    "## Exercise 2 Aggregation functions\n",
    "Given an array x = [[2, 3, -4,], [7, 5, 9]]\n",
    "\n",
    "Return the mean of the elements along the rows and the minimum element along the columns"
   ]
  },
  {
   "cell_type": "code",
   "execution_count": null,
   "id": "273b3322",
   "metadata": {
    "ExecuteTime": {
     "end_time": "2023-10-12T09:04:42.988638Z",
     "start_time": "2023-10-12T09:04:42.967637700Z"
    }
   },
   "outputs": [],
   "source": []
  },
  {
   "cell_type": "markdown",
   "id": "325a14df",
   "metadata": {},
   "source": [
    "## Exercise 3 Sorting\n",
    "Given the same array as in Ex. 1, i.e., x = [4, -1, 7, 9, 3, -5], find the 3 highest values and the positions of the 2 lowest values"
   ]
  },
  {
   "cell_type": "code",
   "execution_count": null,
   "id": "b37cd92d",
   "metadata": {
    "ExecuteTime": {
     "end_time": "2023-10-12T09:04:45.267058800Z",
     "start_time": "2023-10-12T09:04:45.251054700Z"
    }
   },
   "outputs": [],
   "source": []
  },
  {
   "cell_type": "markdown",
   "id": "baa9047d",
   "metadata": {},
   "source": [
    "# Exercise 4 Broadcasting\n",
    "Compute the product between the array x1 = [[0,1,2], [3,4,5]] and the array x2 = [1, 2]\n",
    "Does it raises an error? How shall x2 be modified to make the operation possible?\n"
   ]
  },
  {
   "cell_type": "code",
   "execution_count": null,
   "outputs": [],
   "source": [],
   "metadata": {
    "collapsed": false
   },
   "id": "3b8be274fffc7cb2"
  }
 ],
 "metadata": {
  "kernelspec": {
   "display_name": "Python 3 (ipykernel)",
   "language": "python",
   "name": "python3"
  },
  "language_info": {
   "codemirror_mode": {
    "name": "ipython",
    "version": 3
   },
   "file_extension": ".py",
   "mimetype": "text/x-python",
   "name": "python",
   "nbconvert_exporter": "python",
   "pygments_lexer": "ipython3",
   "version": "3.10.12"
  }
 },
 "nbformat": 4,
 "nbformat_minor": 5
}

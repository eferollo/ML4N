{
 "cells": [
  {
   "cell_type": "markdown",
   "id": "7b648069",
   "metadata": {},
   "source": [
    "# Let's manipulate some arrays! \n",
    "In this notebook we will see different wasy in which we can manipulate an array"
   ]
  },
  {
   "cell_type": "markdown",
   "id": "b7ed14a8",
   "metadata": {},
   "source": [
    "## Exercise 1 Array accessing \n",
    "Given an ndarray x = [[3.0, 2.0, 5.0], [1.0, 4.0, 2.0], [6.0, 7.0, 8.0]]\n",
    "Return two arrays:\n",
    "1) Compute the mean of the elements along the second column \n",
    "2) Retrieve the elements with values higher than 2 along the second and third rows "
   ]
  },
  {
   "cell_type": "code",
   "execution_count": 24,
   "id": "9bec4df9",
   "metadata": {
    "ExecuteTime": {
     "end_time": "2023-10-12T16:55:10.544595587Z",
     "start_time": "2023-10-12T16:55:10.500228043Z"
    }
   },
   "outputs": [
    {
     "name": "stdout",
     "output_type": "stream",
     "text": [
      "4.333333333333333\n",
      "[4. 6. 7. 8.]\n"
     ]
    }
   ],
   "source": [
    "import numpy as np\n",
    "x = np.array([[3.0, 2.0, 5.0], \n",
    "              [1.0, 4.0, 2.0],\n",
    "              [6.0, 7.0, 8.0]])\n",
    "\n",
    "mean = np.mean(x[:, 1])\n",
    "print(mean)\n",
    "elems = x[1:, :]\n",
    "print(elems[elems > 2])\n"
   ]
  },
  {
   "cell_type": "markdown",
   "id": "8c82de3d",
   "metadata": {},
   "source": [
    "## Exercise 2 Array accessing to update\n",
    "Given the previous array x = [[3.0, 2.0, 5.0], [1.0, 4.0, 2.0], [6.0, 7.0, 8.0]]\n",
    "1) set the values of the first column to 0, if they are greater than 2\n",
    "2) then try to do the same for the first and third columns together. Does it work? "
   ]
  },
  {
   "cell_type": "code",
   "execution_count": 23,
   "id": "273b3322",
   "metadata": {
    "ExecuteTime": {
     "end_time": "2023-10-12T16:54:50.240921643Z",
     "start_time": "2023-10-12T16:54:50.231010847Z"
    }
   },
   "outputs": [
    {
     "name": "stdout",
     "output_type": "stream",
     "text": [
      "First update\n",
      " [[0. 2. 5.]\n",
      " [1. 4. 2.]\n",
      " [0. 7. 8.]]\n",
      "Second update\n",
      " [[3. 2. 5.]\n",
      " [1. 4. 2.]\n",
      " [6. 7. 8.]]\n"
     ]
    }
   ],
   "source": [
    "x = np.array([[3.0, 2.0, 5.0], \n",
    "              [1.0, 4.0, 2.0],\n",
    "              [6.0, 7.0, 8.0]])\n",
    "\n",
    "mask = x[:,0] >  2\n",
    "x[:, 0][mask] = 0\n",
    "print(\"First update\\n\", x)\n",
    "\n",
    "x = np.array([[3.0, 2.0, 5.0], \n",
    "              [1.0, 4.0, 2.0],\n",
    "              [6.0, 7.0, 8.0]])\n",
    "mask = x[:, [0,2]] > 2\n",
    "x[:, [0,2]][mask] = 0#returns a copy\n",
    "print(\"Second update\\n\", x)\n",
    "\n",
    "\n"
   ]
  },
  {
   "cell_type": "markdown",
   "id": "325a14df",
   "metadata": {},
   "source": [
    "## Exercise 3 Array concatenation and reshaping\n",
    "Given two arrays x1 = [[3,1], [2,4]] and x2 = [[3, 4], [2,4], [2,5]]\n",
    "\n",
    "Try to concatenate them vertically and then horizontally\n",
    "If something does not work try to reshape the arrays so that you can concatenate (or stack) them.\n"
   ]
  },
  {
   "cell_type": "code",
   "execution_count": 66,
   "id": "b37cd92d",
   "metadata": {
    "ExecuteTime": {
     "end_time": "2023-10-12T10:26:23.643227200Z",
     "start_time": "2023-10-12T10:26:23.586680400Z"
    }
   },
   "outputs": [
    {
     "name": "stdout",
     "output_type": "stream",
     "text": [
      "x1\n",
      " [[3 1]\n",
      " [2 4]]\n",
      "x2\n",
      " [[3 6]\n",
      " [8 7]\n",
      " [9 0]]\n",
      "x1, x2 concatenation\n",
      " [[3 1]\n",
      " [2 4]\n",
      " [3 6]\n",
      " [8 7]\n",
      " [9 0]]\n",
      "x1, x2 vstack\n",
      " [[3 1]\n",
      " [2 4]\n",
      " [3 6]\n",
      " [8 7]\n",
      " [9 0]]\n",
      "x3\n",
      " [[3 6 8]\n",
      " [7 9 0]]\n",
      "[[3 1 3 6 8]\n",
      " [2 4 7 9 0]]\n"
     ]
    }
   ],
   "source": [
    "x1 = np.array([[3,1], [2,4]])\n",
    "x2 = np.array([[3, 6], [8,7], [9,0]])\n",
    "print(\"x1\\n\", x1)\n",
    "print(\"x2\\n\", x2)\n",
    "\n",
    "print(\"x1, x2 concatenation\\n\", np.concatenate((x1, x2)))\n",
    "\n",
    "print(\"x1, x2 vstack\\n\", np.vstack((x1, x2))) # same result as above\n",
    "\n",
    "# print(np.concatenate((x1,x2), axis=1)) # DOES NOT WORK: dimension along the axis of not concatenation must match!\n",
    "# print(np.hstack((x1,x2))) # same as above\n",
    "\n",
    "x3 = x2.reshape((2,3))\n",
    "print(\"x3\\n\", x3)\n",
    "print(np.concatenate((x1, x3),axis=1))"
   ]
  }
 ],
 "metadata": {
  "kernelspec": {
   "display_name": "Python 3 (ipykernel)",
   "language": "python",
   "name": "python3"
  },
  "language_info": {
   "codemirror_mode": {
    "name": "ipython",
    "version": 3
   },
   "file_extension": ".py",
   "mimetype": "text/x-python",
   "name": "python",
   "nbconvert_exporter": "python",
   "pygments_lexer": "ipython3",
   "version": "3.10.12"
  }
 },
 "nbformat": 4,
 "nbformat_minor": 5
}

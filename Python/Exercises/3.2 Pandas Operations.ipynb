{
 "cells": [
  {
   "cell_type": "markdown",
   "source": [
    "# Let's create perform some operation on the IRIS dataframe! \n",
    "In this notebook we will see how to repeat in Pandas the operations with we did in the previous labs on numpy "
   ],
   "metadata": {
    "collapsed": false
   },
   "id": "762e02b648977018"
  },
  {
   "cell_type": "markdown",
   "source": [
    "## Exercise 1 - Download and read the IRIS dataset\n",
    "The Iris dataset we have met it already a number of times. \n",
    "You can download it from:\n",
    "https://archive.ics.uci.edu/ml/machine-learning-databases/iris/iris.data\n",
    "\n",
    "Remember: the file has no header, so you need to specify it when you read it.\n",
    "Since it has no header let's assign the following column names to it:\n",
    "- sepal_length\n",
    "- sepal_width\n",
    "- petal_length\n",
    "- petal_width\n",
    "- label"
   ],
   "metadata": {
    "collapsed": false
   },
   "id": "48d8c0b572809d49"
  },
  {
   "cell_type": "code",
   "execution_count": 8,
   "outputs": [
    {
     "name": "stdout",
     "output_type": "stream",
     "text": [
      "     sepal_length  sepal_width  petal_length  petal_width           label\n",
      "0             5.1          3.5           1.4          0.2     Iris-setosa\n",
      "1             4.9          3.0           1.4          0.2     Iris-setosa\n",
      "2             4.7          3.2           1.3          0.2     Iris-setosa\n",
      "3             4.6          3.1           1.5          0.2     Iris-setosa\n",
      "4             5.0          3.6           1.4          0.2     Iris-setosa\n",
      "..            ...          ...           ...          ...             ...\n",
      "145           6.7          3.0           5.2          2.3  Iris-virginica\n",
      "146           6.3          2.5           5.0          1.9  Iris-virginica\n",
      "147           6.5          3.0           5.2          2.0  Iris-virginica\n",
      "148           6.2          3.4           5.4          2.3  Iris-virginica\n",
      "149           5.9          3.0           5.1          1.8  Iris-virginica\n",
      "\n",
      "[150 rows x 5 columns]\n"
     ]
    }
   ],
   "source": [
    "import pandas as pd\n",
    "df = pd.read_csv('data/iris.csv', sep=',', header=None, names=['sepal_length', 'sepal_width', \"petal_length\", \"petal_width\", 'label'])\n",
    "print(df)"
   ],
   "metadata": {
    "collapsed": false,
    "ExecuteTime": {
     "end_time": "2023-10-19T15:57:31.300619770Z",
     "start_time": "2023-10-19T15:57:31.257621928Z"
    }
   },
   "id": "cfb0052795aeab37"
  },
  {
   "cell_type": "markdown",
   "source": [
    "## Exercise 2 - Normalize feature by subtracting means and dividing by standard deviation\n",
    "For each feature, subtract the mean and divide by the standard deviation."
   ],
   "metadata": {
    "collapsed": false
   },
   "id": "ea4cbc089f5af738"
  },
  {
   "cell_type": "code",
   "execution_count": 20,
   "outputs": [
    {
     "name": "stdout",
     "output_type": "stream",
     "text": [
      "sepal_length    5.843333\n",
      "sepal_width     3.054000\n",
      "petal_length    3.758667\n",
      "petal_width     1.198667\n",
      "dtype: float64\n",
      "sepal_length    0.828066\n",
      "sepal_width     0.433594\n",
      "petal_length    1.764420\n",
      "petal_width     0.763161\n",
      "dtype: float64\n",
      "    label  petal_length  petal_width  sepal_length  sepal_width\n",
      "0     NaN     -1.336794    -1.308593     -0.897674     1.028611\n",
      "1     NaN     -1.336794    -1.308593     -1.139200    -0.124540\n",
      "2     NaN     -1.393470    -1.308593     -1.380727     0.336720\n",
      "3     NaN     -1.280118    -1.308593     -1.501490     0.106090\n",
      "4     NaN     -1.336794    -1.308593     -1.018437     1.259242\n",
      "..    ...           ...          ...           ...          ...\n",
      "145   NaN      0.816888     1.443121      1.034539    -0.124540\n",
      "146   NaN      0.703536     0.918985      0.551486    -1.277692\n",
      "147   NaN      0.816888     1.050019      0.793012    -0.124540\n",
      "148   NaN      0.930239     1.443121      0.430722     0.797981\n",
      "149   NaN      0.760212     0.787951      0.068433    -0.124540\n",
      "\n",
      "[150 rows x 5 columns]\n"
     ]
    }
   ],
   "source": [
    "mean_series = df.loc[:,'sepal_length':'petal_width'].mean()\n",
    "std_series = df.loc[:,'sepal_length':'petal_width'].std()\n",
    "df_norm = (df-mean_series)/std_series\n",
    "\n",
    "print(mean_series)\n",
    "print(std_series)\n",
    "print(df_norm)"
   ],
   "metadata": {
    "collapsed": false,
    "ExecuteTime": {
     "end_time": "2023-10-19T16:08:11.006449523Z",
     "start_time": "2023-10-19T16:08:10.956392053Z"
    }
   },
   "id": "3b294178626ee8c3"
  },
  {
   "cell_type": "markdown",
   "source": [
    "## Exercise 3 - compute the distance of each sample from the mean of its class\n",
    "Compute for each sample the distance of the sample from its class mean.\n",
    "Then creates a new column in the dataframe, that contains the distance.\n",
    "Finally, filter the rows with distance greater than 0.5\n"
   ],
   "metadata": {
    "collapsed": false
   },
   "id": "e89a59ca906b0780"
  },
  {
   "cell_type": "code",
   "execution_count": 35,
   "outputs": [
    {
     "name": "stderr",
     "output_type": "stream",
     "text": [
      "/tmp/ipykernel_4914/1656522060.py:9: FutureWarning: Setting an item of incompatible dtype is deprecated and will raise in a future error of pandas. Value '[]' has dtype incompatible with int64, please explicitly cast to a compatible dtype first.\n",
      "  df.loc[df[\"label\"] == label, 'distance']  += (class_df[feature]- class_df[feature].mean())**2\n"
     ]
    },
    {
     "ename": "TypeError",
     "evalue": "loop of ufunc does not support argument 0 of type int which has no callable sqrt method",
     "output_type": "error",
     "traceback": [
      "\u001B[0;31m---------------------------------------------------------------------------\u001B[0m",
      "\u001B[0;31mAttributeError\u001B[0m                            Traceback (most recent call last)",
      "\u001B[0;31mAttributeError\u001B[0m: 'int' object has no attribute 'sqrt'",
      "\nThe above exception was the direct cause of the following exception:\n",
      "\u001B[0;31mTypeError\u001B[0m                                 Traceback (most recent call last)",
      "Cell \u001B[0;32mIn[35], line 10\u001B[0m\n\u001B[1;32m      8\u001B[0m         class_df \u001B[38;5;241m=\u001B[39m df\u001B[38;5;241m.\u001B[39mloc[df[\u001B[38;5;124m'\u001B[39m\u001B[38;5;124mlabel\u001B[39m\u001B[38;5;124m'\u001B[39m] \u001B[38;5;241m==\u001B[39m label]\n\u001B[1;32m      9\u001B[0m         df\u001B[38;5;241m.\u001B[39mloc[df[\u001B[38;5;124m\"\u001B[39m\u001B[38;5;124mlabel\u001B[39m\u001B[38;5;124m\"\u001B[39m] \u001B[38;5;241m==\u001B[39m label, \u001B[38;5;124m'\u001B[39m\u001B[38;5;124mdistance\u001B[39m\u001B[38;5;124m'\u001B[39m]  \u001B[38;5;241m+\u001B[39m\u001B[38;5;241m=\u001B[39m (class_df[feature]\u001B[38;5;241m-\u001B[39m class_df[feature]\u001B[38;5;241m.\u001B[39mmean())\u001B[38;5;241m*\u001B[39m\u001B[38;5;241m*\u001B[39m\u001B[38;5;241m2\u001B[39m\n\u001B[0;32m---> 10\u001B[0m df[\u001B[38;5;124m'\u001B[39m\u001B[38;5;124mdistance\u001B[39m\u001B[38;5;124m'\u001B[39m] \u001B[38;5;241m=\u001B[39m \u001B[43mnp\u001B[49m\u001B[38;5;241;43m.\u001B[39;49m\u001B[43msqrt\u001B[49m\u001B[43m(\u001B[49m\u001B[43mdf\u001B[49m\u001B[43m[\u001B[49m\u001B[38;5;124;43m'\u001B[39;49m\u001B[38;5;124;43mdistance\u001B[39;49m\u001B[38;5;124;43m'\u001B[39;49m\u001B[43m]\u001B[49m\u001B[43m)\u001B[49m\n\u001B[1;32m     12\u001B[0m \u001B[38;5;28mprint\u001B[39m(df[\u001B[38;5;124m'\u001B[39m\u001B[38;5;124mdistance\u001B[39m\u001B[38;5;124m'\u001B[39m])\n\u001B[1;32m     14\u001B[0m \u001B[38;5;28mprint\u001B[39m(df[df[\u001B[38;5;124m'\u001B[39m\u001B[38;5;124mdistance\u001B[39m\u001B[38;5;124m'\u001B[39m] \u001B[38;5;241m<\u001B[39m \u001B[38;5;241m1\u001B[39m])\n",
      "File \u001B[0;32m~/PycharmProjects/ML4N/venv/lib/python3.10/site-packages/pandas/core/generic.py:2102\u001B[0m, in \u001B[0;36mNDFrame.__array_ufunc__\u001B[0;34m(self, ufunc, method, *inputs, **kwargs)\u001B[0m\n\u001B[1;32m   2098\u001B[0m \u001B[38;5;129m@final\u001B[39m\n\u001B[1;32m   2099\u001B[0m \u001B[38;5;28;01mdef\u001B[39;00m \u001B[38;5;21m__array_ufunc__\u001B[39m(\n\u001B[1;32m   2100\u001B[0m     \u001B[38;5;28mself\u001B[39m, ufunc: np\u001B[38;5;241m.\u001B[39mufunc, method: \u001B[38;5;28mstr\u001B[39m, \u001B[38;5;241m*\u001B[39minputs: Any, \u001B[38;5;241m*\u001B[39m\u001B[38;5;241m*\u001B[39mkwargs: Any\n\u001B[1;32m   2101\u001B[0m ):\n\u001B[0;32m-> 2102\u001B[0m     \u001B[38;5;28;01mreturn\u001B[39;00m \u001B[43marraylike\u001B[49m\u001B[38;5;241;43m.\u001B[39;49m\u001B[43marray_ufunc\u001B[49m\u001B[43m(\u001B[49m\u001B[38;5;28;43mself\u001B[39;49m\u001B[43m,\u001B[49m\u001B[43m \u001B[49m\u001B[43mufunc\u001B[49m\u001B[43m,\u001B[49m\u001B[43m \u001B[49m\u001B[43mmethod\u001B[49m\u001B[43m,\u001B[49m\u001B[43m \u001B[49m\u001B[38;5;241;43m*\u001B[39;49m\u001B[43minputs\u001B[49m\u001B[43m,\u001B[49m\u001B[43m \u001B[49m\u001B[38;5;241;43m*\u001B[39;49m\u001B[38;5;241;43m*\u001B[39;49m\u001B[43mkwargs\u001B[49m\u001B[43m)\u001B[49m\n",
      "File \u001B[0;32m~/PycharmProjects/ML4N/venv/lib/python3.10/site-packages/pandas/core/arraylike.py:396\u001B[0m, in \u001B[0;36marray_ufunc\u001B[0;34m(self, ufunc, method, *inputs, **kwargs)\u001B[0m\n\u001B[1;32m    393\u001B[0m \u001B[38;5;28;01melif\u001B[39;00m \u001B[38;5;28mself\u001B[39m\u001B[38;5;241m.\u001B[39mndim \u001B[38;5;241m==\u001B[39m \u001B[38;5;241m1\u001B[39m:\n\u001B[1;32m    394\u001B[0m     \u001B[38;5;66;03m# ufunc(series, ...)\u001B[39;00m\n\u001B[1;32m    395\u001B[0m     inputs \u001B[38;5;241m=\u001B[39m \u001B[38;5;28mtuple\u001B[39m(extract_array(x, extract_numpy\u001B[38;5;241m=\u001B[39m\u001B[38;5;28;01mTrue\u001B[39;00m) \u001B[38;5;28;01mfor\u001B[39;00m x \u001B[38;5;129;01min\u001B[39;00m inputs)\n\u001B[0;32m--> 396\u001B[0m     result \u001B[38;5;241m=\u001B[39m \u001B[38;5;28;43mgetattr\u001B[39;49m\u001B[43m(\u001B[49m\u001B[43mufunc\u001B[49m\u001B[43m,\u001B[49m\u001B[43m \u001B[49m\u001B[43mmethod\u001B[49m\u001B[43m)\u001B[49m\u001B[43m(\u001B[49m\u001B[38;5;241;43m*\u001B[39;49m\u001B[43minputs\u001B[49m\u001B[43m,\u001B[49m\u001B[43m \u001B[49m\u001B[38;5;241;43m*\u001B[39;49m\u001B[38;5;241;43m*\u001B[39;49m\u001B[43mkwargs\u001B[49m\u001B[43m)\u001B[49m\n\u001B[1;32m    397\u001B[0m \u001B[38;5;28;01melse\u001B[39;00m:\n\u001B[1;32m    398\u001B[0m     \u001B[38;5;66;03m# ufunc(dataframe)\u001B[39;00m\n\u001B[1;32m    399\u001B[0m     \u001B[38;5;28;01mif\u001B[39;00m method \u001B[38;5;241m==\u001B[39m \u001B[38;5;124m\"\u001B[39m\u001B[38;5;124m__call__\u001B[39m\u001B[38;5;124m\"\u001B[39m \u001B[38;5;129;01mand\u001B[39;00m \u001B[38;5;129;01mnot\u001B[39;00m kwargs:\n\u001B[1;32m    400\u001B[0m         \u001B[38;5;66;03m# for np.<ufunc>(..) calls\u001B[39;00m\n\u001B[1;32m    401\u001B[0m         \u001B[38;5;66;03m# kwargs cannot necessarily be handled block-by-block, so only\u001B[39;00m\n\u001B[1;32m    402\u001B[0m         \u001B[38;5;66;03m# take this path if there are no kwargs\u001B[39;00m\n",
      "\u001B[0;31mTypeError\u001B[0m: loop of ufunc does not support argument 0 of type int which has no callable sqrt method"
     ]
    }
   ],
   "source": [
    "import numpy as np\n",
    "df = df_norm.copy()\n",
    "\n",
    "df['distance'] = 0\n",
    "\n",
    "for label in np.unique(df['label']):\n",
    "    for feature in df.columns[:-2]:\n",
    "        class_df = df.loc[df['label'] == label]\n",
    "        df.loc[df[\"label\"] == label, 'distance']  += (class_df[feature]- class_df[feature].mean())**2\n",
    "df['distance'] = np.sqrt(df['distance'])\n",
    "\n",
    "print(df['distance'])\n",
    "\n",
    "print(df[df['distance'] < 1])\n"
   ],
   "metadata": {
    "collapsed": false,
    "ExecuteTime": {
     "end_time": "2023-10-19T16:34:17.443756091Z",
     "start_time": "2023-10-19T16:34:16.318545564Z"
    }
   },
   "id": "6cae75624e6b4658"
  }
 ],
 "metadata": {
  "kernelspec": {
   "display_name": "Python 3",
   "language": "python",
   "name": "python3"
  },
  "language_info": {
   "codemirror_mode": {
    "name": "ipython",
    "version": 2
   },
   "file_extension": ".py",
   "mimetype": "text/x-python",
   "name": "python",
   "nbconvert_exporter": "python",
   "pygments_lexer": "ipython2",
   "version": "2.7.6"
  }
 },
 "nbformat": 4,
 "nbformat_minor": 5
}

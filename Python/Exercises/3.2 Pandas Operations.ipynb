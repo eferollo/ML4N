{
 "cells": [
  {
   "cell_type": "markdown",
   "source": [
    "# Let's create perform some operation on the IRIS dataframe! \n",
    "In this notebook we will see how to repeat in Pandas the operations with we did in the previous labs on numpy "
   ],
   "metadata": {
    "collapsed": false
   },
   "id": "762e02b648977018"
  },
  {
   "cell_type": "markdown",
   "source": [
    "## Exercise 1 - Download and read the IRIS dataset\n",
    "The Iris dataset we have met it already a number of times. \n",
    "You can download it from:\n",
    "https://archive.ics.uci.edu/ml/machine-learning-databases/iris/iris.data\n",
    "\n",
    "Remember: the file has no header, so you need to specify it when you read it.\n",
    "Since it has no header let's assign the following column names to it:\n",
    "- sepal_length\n",
    "- sepal_width\n",
    "- petal_length\n",
    "- petal_width\n",
    "- label"
   ],
   "metadata": {
    "collapsed": false
   },
   "id": "48d8c0b572809d49"
  },
  {
   "cell_type": "code",
   "execution_count": 24,
   "outputs": [],
   "source": [],
   "metadata": {
    "collapsed": false,
    "ExecuteTime": {
     "end_time": "2023-10-19T13:37:31.399560900Z",
     "start_time": "2023-10-19T13:37:31.331636400Z"
    }
   },
   "id": "cfb0052795aeab37"
  },
  {
   "cell_type": "markdown",
   "source": [
    "## Exercise 2 - Normalize feature by subtracting means and dividing by standard deviation\n",
    "For each feature, subtract the mean and divide by the standard deviation."
   ],
   "metadata": {
    "collapsed": false
   },
   "id": "ea4cbc089f5af738"
  },
  {
   "cell_type": "code",
   "execution_count": 24,
   "outputs": [],
   "source": [],
   "metadata": {
    "collapsed": false,
    "ExecuteTime": {
     "end_time": "2023-10-19T13:37:33.937166900Z",
     "start_time": "2023-10-19T13:37:33.883168100Z"
    }
   },
   "id": "3b294178626ee8c3"
  },
  {
   "cell_type": "markdown",
   "source": [
    "## Exercise 3 - compute the distance of each sample from the mean of its class\n",
    "Compute for each sample the distance of the sample from its class mean.\n",
    "Then creates a new column in the dataframe, that contains the distance.\n",
    "Finally, filter the rows with distance greater than 0.5\n"
   ],
   "metadata": {
    "collapsed": false
   },
   "id": "e89a59ca906b0780"
  },
  {
   "cell_type": "code",
   "execution_count": 24,
   "outputs": [],
   "source": [],
   "metadata": {
    "collapsed": false,
    "ExecuteTime": {
     "end_time": "2023-10-19T13:38:20.607080900Z",
     "start_time": "2023-10-19T13:38:20.547706Z"
    }
   },
   "id": "6cae75624e6b4658"
  }
 ],
 "metadata": {
  "kernelspec": {
   "display_name": "Python 3",
   "language": "python",
   "name": "python3"
  },
  "language_info": {
   "codemirror_mode": {
    "name": "ipython",
    "version": 2
   },
   "file_extension": ".py",
   "mimetype": "text/x-python",
   "name": "python",
   "nbconvert_exporter": "python",
   "pygments_lexer": "ipython2",
   "version": "2.7.6"
  }
 },
 "nbformat": 4,
 "nbformat_minor": 5
}

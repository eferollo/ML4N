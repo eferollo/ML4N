{
 "cells": [
  {
   "cell_type": "markdown",
   "id": "330e8f6b",
   "metadata": {},
   "source": [
    "# Lambda Functions, Functions and Classes\n",
    "In this fourth set of python exercices we will try to understand how to use Lambda functions, Functions and Classes"
   ]
  },
  {
   "cell_type": "markdown",
   "id": "726baf2a",
   "metadata": {},
   "source": [
    "## Exercise 1 Lambda Functions\n",
    "Write a rule that allow us to predict the output label for a given input sample according to the sample features.\n",
    "- Each input **sample** is a **dictionary**.\n",
    "- The **Rule** specifies the output label that must be assigned to the sample based on its dictionary fields\n",
    "- Apply the rule on a stream of samples coming from a list without using a loop\n",
    "\n",
    "**Example of sample:**\n",
    "my_sample = {'temperature' : 20, 'humidity' : 0.8}\n",
    "\n",
    "**Example of rule:**\n",
    "if temperature > 5 and humidity > 0.7 then label = 'Rainy day'\n",
    "else label = \"Sunny day\"\n"
   ]
  },
  {
   "cell_type": "code",
   "execution_count": null,
   "id": "66049380",
   "metadata": {
    "ExecuteTime": {
     "end_time": "2023-10-02T20:27:18.268978700Z",
     "start_time": "2023-10-02T20:27:18.254084500Z"
    }
   },
   "outputs": [],
   "source": []
  },
  {
   "cell_type": "markdown",
   "id": "9569d623",
   "metadata": {},
   "source": [
    "## Exercise 2 Functions\n",
    "Now let's write a functions that receives in input the value and output the label in a similar way.\n",
    "- Try to use a list comprehension this time to predict the samples\n",
    "\n",
    "**Note**: remember to pass a default class as optional argument"
   ]
  },
  {
   "cell_type": "code",
   "execution_count": null,
   "id": "46686ba1",
   "metadata": {
    "ExecuteTime": {
     "end_time": "2023-10-02T20:27:18.270451500Z",
     "start_time": "2023-10-02T20:27:18.263189100Z"
    }
   },
   "outputs": [],
   "source": []
  },
  {
   "cell_type": "markdown",
   "id": "97324c58",
   "metadata": {},
   "source": [
    "## Exercise 3 Classes\n",
    "Now let's create a Rule-based ML Model!\n",
    "To do so you have to create a class with the following characteristics:\n",
    "- The model can consider **more than one rule**\n",
    "- It should also request with its constructor a **default label** that is assigned when none of the rules apply to the sample\n",
    "\n",
    "*hint*: pass the rule to the predictor as lambda functions\n",
    "\n",
    "**Example of usage:**\n",
    "rule_model = RuleModel('Sunny day')\n",
    "rule_model.add_rule(lambda x: x['temperature']>5 and x['humidity']>0.7, 'Rainy day')\n",
    "rule_model.predict({'temperature' : 15, 'humidity' : 0.8})\n"
   ]
  },
  {
   "cell_type": "code",
   "execution_count": null,
   "id": "71f09a59",
   "metadata": {
    "ExecuteTime": {
     "end_time": "2023-10-02T20:27:18.270451500Z",
     "start_time": "2023-10-02T20:27:18.268455200Z"
    }
   },
   "outputs": [],
   "source": []
  }
 ],
 "metadata": {
  "kernelspec": {
   "display_name": "Python 3 (ipykernel)",
   "language": "python",
   "name": "python3"
  },
  "language_info": {
   "codemirror_mode": {
    "name": "ipython",
    "version": 3
   },
   "file_extension": ".py",
   "mimetype": "text/x-python",
   "name": "python",
   "nbconvert_exporter": "python",
   "pygments_lexer": "ipython3",
   "version": "3.7.12"
  }
 },
 "nbformat": 4,
 "nbformat_minor": 5
}

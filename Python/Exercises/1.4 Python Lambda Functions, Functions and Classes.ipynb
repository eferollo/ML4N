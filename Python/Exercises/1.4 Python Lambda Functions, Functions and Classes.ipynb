{
 "cells": [
  {
   "cell_type": "markdown",
   "id": "330e8f6b",
   "metadata": {},
   "source": [
    "# Lambda Functions, Functions and Classes\n",
    "In this fourth set of python exercices we will try to understand how to use Lambda functions, Functions and Classes"
   ]
  },
  {
   "cell_type": "markdown",
   "id": "726baf2a",
   "metadata": {},
   "source": [
    "## Exercise 1 Lambda Functions\n",
    "Write a rule that allow us to predict the output label for a given input sample according to the sample features.\n",
    "- Each input **sample** is a **dictionary**.\n",
    "- The **Rule** specifies the output label that must be assigned to the sample based on its dictionary fields\n",
    "- Apply the rule on a stream of samples coming from a list without using a loop\n",
    "\n",
    "**Example of sample:**\n",
    "my_sample = {'temperature' : 20, 'humidity' : 0.8}\n",
    "\n",
    "**Example of rule:**\n",
    "if temperature > 5 and humidity > 0.7 then label = 'Rainy day'\n",
    "else label = \"Sunny day\"\n"
   ]
  },
  {
   "cell_type": "code",
   "execution_count": 9,
   "id": "66049380",
   "metadata": {
    "ExecuteTime": {
     "end_time": "2023-10-08T20:15:59.303303591Z",
     "start_time": "2023-10-08T20:15:59.261140599Z"
    }
   },
   "outputs": [
    {
     "name": "stdout",
     "output_type": "stream",
     "text": [
      "['Rainy day', 'Sunny day']\n"
     ]
    }
   ],
   "source": [
    "my_sample = [{'temperature': 20, 'humidity': 0.8},\n",
    "             {'temperature': 4, 'humidity': 0.9}]\n",
    "rule = lambda dict: 'Rainy day' if dict['temperature'] > 5 and dict['humidity'] > 0.7 else 'Sunny day'\n",
    "\n",
    "print(list(map(rule, my_sample))) #map() returns a map object (which is an iterator) of the results after applying the given function to each item of a given iterable(list, tuple..)"
   ]
  },
  {
   "cell_type": "markdown",
   "id": "9569d623",
   "metadata": {},
   "source": [
    "## Exercise 2 Functions\n",
    "Now let's write a functions that receives in input the value and output the label in a similar way.\n",
    "- Try to use a list comprehension this time to predict the samples\n",
    "\n",
    "**Note**: remember to pass a default class as optional argument"
   ]
  },
  {
   "cell_type": "code",
   "execution_count": 13,
   "id": "46686ba1",
   "metadata": {
    "ExecuteTime": {
     "end_time": "2023-10-08T20:33:21.039884721Z",
     "start_time": "2023-10-08T20:33:21.032538926Z"
    }
   },
   "outputs": [
    {
     "name": "stdout",
     "output_type": "stream",
     "text": [
      "['It is a Rainy day', 'It is a Sunny day']\n"
     ]
    }
   ],
   "source": [
    "def weather(day, default_class = 'Sunny day'):\n",
    "    if day['temperature'] > 5 and day['humidity'] > 0.7:\n",
    "        return 'Rainy day'\n",
    "    else:\n",
    "        return default_class\n",
    "\n",
    "my_sample = [{'temperature': 20, 'humidity': 0.8},\n",
    "             {'temperature': 4, 'humidity': 0.9}]\n",
    "print([f\"It is a {weather(d)}\" for d in my_sample])"
   ]
  },
  {
   "cell_type": "markdown",
   "id": "97324c58",
   "metadata": {},
   "source": [
    "## Exercise 3 Classes\n",
    "Now let's create a Rule-based ML Model!\n",
    "To do so you have to create a class with the following characteristics:\n",
    "- The model can consider **more than one rule**\n",
    "- It should also request with its constructor a **default label** that is assigned when none of the rules apply to the sample\n",
    "\n",
    "*hint*: pass the rule to the predictor as lambda functions\n",
    "\n",
    "**Example of usage:**\n",
    "rule_model = RuleModel('Sunny day')\n",
    "rule_model.add_rule(lambda x: x['temperature']>5 and x['humidity']>0.7, 'Rainy day')\n",
    "rule_model.predict({'temperature' : 15, 'humidity' : 0.8})\n"
   ]
  },
  {
   "cell_type": "code",
   "execution_count": 18,
   "id": "71f09a59",
   "metadata": {
    "ExecuteTime": {
     "end_time": "2023-10-08T21:33:36.759893724Z",
     "start_time": "2023-10-08T21:33:36.713930577Z"
    }
   },
   "outputs": [
    {
     "name": "stdout",
     "output_type": "stream",
     "text": [
      "It is a Sunny Day\n",
      "It is a Sunny Day\n"
     ]
    }
   ],
   "source": [
    "class RuleModel:\n",
    "    __rules = []\n",
    "    \n",
    "    def __init__(self, default_class):\n",
    "        self.__default_class = default_class\n",
    "        \n",
    "    def add_rule(self, rule, output_class):\n",
    "        self.__rules.append((rule,output_class))\n",
    "        \n",
    "    def predict(self, x):\n",
    "        for rule, out_class in self.__rules:\n",
    "            if rule(x):\n",
    "                return out_class\n",
    "        return self.__default_class\n",
    "            \n",
    "rule_clf = RuleModel('Sunny Day')    \n",
    "\n",
    "rule_clf.add_rule(lambda x : x['temperature'] > 5 and x['humidity'] > 0.7, 'Rainy day')\n",
    "rule_clf.add_rule(lambda x : x['temperature'] < 5 and x['humidity'] > 0.7, 'Snowy day')\n",
    "\n",
    "print(f\"It is a {rule_clf.predict({'temperature' : 15, 'humidity' : 0.9 })}\")\n",
    "print(f\"It is a {rule_clf.predict({'temperature' : 2, 'humidity' : 0.9 })}\")"
   ]
  }
 ],
 "metadata": {
  "kernelspec": {
   "display_name": "Python 3 (ipykernel)",
   "language": "python",
   "name": "python3"
  },
  "language_info": {
   "codemirror_mode": {
    "name": "ipython",
    "version": 3
   },
   "file_extension": ".py",
   "mimetype": "text/x-python",
   "name": "python",
   "nbconvert_exporter": "python",
   "pygments_lexer": "ipython3",
   "version": "3.7.12"
  }
 },
 "nbformat": 4,
 "nbformat_minor": 5
}
